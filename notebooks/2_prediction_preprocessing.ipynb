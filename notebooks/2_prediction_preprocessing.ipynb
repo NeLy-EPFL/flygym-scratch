{
 "cells": [
  {
   "cell_type": "markdown",
   "metadata": {},
   "source": [
    "# Imports"
   ]
  },
  {
   "cell_type": "code",
   "execution_count": null,
   "metadata": {},
   "outputs": [],
   "source": [
    "import numpy as np\n",
    "import pandas as pd\n",
    "import math\n",
    "import ast\n",
    "import matplotlib.pyplot as plt"
   ]
  },
  {
   "cell_type": "markdown",
   "metadata": {},
   "source": [
    "# Read simulation data"
   ]
  },
  {
   "cell_type": "code",
   "execution_count": null,
   "metadata": {},
   "outputs": [],
   "source": [
    "# After the random walk, we stored all the collected data in a csv structure\n",
    "df_original = pd.read_csv('./outputs/csv_random_walk.csv')"
   ]
  },
  {
   "cell_type": "code",
   "execution_count": null,
   "metadata": {},
   "outputs": [],
   "source": [
    "df_original['fly_position'] = df_original['fly_position'].apply(lambda x: np.fromstring(x[1:-1], sep=' '))\n",
    "df_original['speed_integration'] = df_original['speed_integration'].apply(lambda x: np.fromstring(x[1:-1], sep=' '))\n",
    "df_original['action_drive'] = df_original['action_drive'].apply(lambda x: np.fromstring(x[1:-1], sep=' '))\n",
    "df_original['velocity'] = df_original['velocity'].apply(lambda x: np.fromstring(x[1:-1], sep=' '))\n",
    "df_original['heading'] = df_original['heading'].apply(lambda x: np.fromstring(x[1:-1], sep=' '))\n",
    "df_original['swing_phase'] = df_original['swing_phase'].apply(lambda x: [int(i) for i in ast.literal_eval(x)])\n",
    "\n",
    "df_original['position_hist_LF'] = df_original['position_hist_LF'].apply(lambda x: np.fromstring(x[1:-1], sep=' '))\n",
    "df_original['position_hist_LM'] = df_original['position_hist_LM'].apply(lambda x: np.fromstring(x[1:-1], sep=' '))\n",
    "df_original['position_hist_LH'] = df_original['position_hist_LH'].apply(lambda x: np.fromstring(x[1:-1], sep=' '))\n",
    "df_original['position_hist_RF'] = df_original['position_hist_RF'].apply(lambda x: np.fromstring(x[1:-1], sep=' '))\n",
    "df_original['position_hist_RM'] = df_original['position_hist_RM'].apply(lambda x: np.fromstring(x[1:-1], sep=' '))\n",
    "df_original['position_hist_RH'] = df_original['position_hist_RH'].apply(lambda x: np.fromstring(x[1:-1], sep=' '))\n",
    "\n",
    "df_original['contact_forces_hist_LF'] = df_original['contact_forces_hist_LF'].apply(lambda x: np.fromstring(x[1:-1], sep=' '))\n",
    "df_original['contact_forces_hist_LM'] = df_original['contact_forces_hist_LM'].apply(lambda x: np.fromstring(x[1:-1], sep=' '))\n",
    "df_original['contact_forces_hist_LH'] = df_original['contact_forces_hist_LH'].apply(lambda x: np.fromstring(x[1:-1], sep=' '))\n",
    "df_original['contact_forces_hist_RF'] = df_original['contact_forces_hist_RF'].apply(lambda x: np.fromstring(x[1:-1], sep=' '))\n",
    "df_original['contact_forces_hist_RM'] = df_original['contact_forces_hist_RM'].apply(lambda x: np.fromstring(x[1:-1], sep=' '))\n",
    "df_original['contact_forces_hist_RH'] = df_original['contact_forces_hist_RH'].apply(lambda x: np.fromstring(x[1:-1], sep=' '))\n"
   ]
  },
  {
   "cell_type": "markdown",
   "metadata": {},
   "source": [
    "#### Creat data columns for each leg"
   ]
  },
  {
   "cell_type": "code",
   "execution_count": null,
   "metadata": {},
   "outputs": [],
   "source": [
    "# Creat a column for each leg conatining swing/stance phase information\n",
    "df_original = df_original.assign(\n",
    "    swing_LF=lambda x: x['swing_phase'].apply(lambda pos: pos[0]),\n",
    "    swing_LM=lambda x: x['swing_phase'].apply(lambda pos: pos[1]),\n",
    "    swing_LH=lambda x: x['swing_phase'].apply(lambda pos: pos[2]),\n",
    "    swing_RF=lambda x: x['swing_phase'].apply(lambda pos: pos[3]),\n",
    "    swing_RM=lambda x: x['swing_phase'].apply(lambda pos: pos[4]),\n",
    "    swing_RH=lambda x: x['swing_phase'].apply(lambda pos: pos[5])\n",
    ")\n",
    "\n",
    "# Creat a column for each leg conatining leg position information\n",
    "df_original['position_hist_LF'] = df_original['position_hist_LF'].apply(lambda pos: pos[:2])\n",
    "df_original['position_hist_LM'] = df_original['position_hist_LM'].apply(lambda pos: pos[:2])\n",
    "df_original['position_hist_LH'] = df_original['position_hist_LH'].apply(lambda pos: pos[:2])\n",
    "df_original['position_hist_RF'] = df_original['position_hist_RF'].apply(lambda pos: pos[:2])\n",
    "df_original['position_hist_RM'] = df_original['position_hist_RM'].apply(lambda pos: pos[:2])\n",
    "df_original['position_hist_RH'] = df_original['position_hist_RH'].apply(lambda pos: pos[:2])"
   ]
  },
  {
   "cell_type": "markdown",
   "metadata": {},
   "source": [
    "#### Devide data set between the different run of the simulation"
   ]
  },
  {
   "cell_type": "code",
   "execution_count": null,
   "metadata": {},
   "outputs": [],
   "source": [
    "df1 = df_original[:5000]"
   ]
  },
  {
   "cell_type": "markdown",
   "metadata": {},
   "source": [
    "#### Visually check simulation validity"
   ]
  },
  {
   "cell_type": "code",
   "execution_count": null,
   "metadata": {},
   "outputs": [],
   "source": [
    "# Fly position (x,y) coordinates\n",
    "x1, y1 = zip(*df1['fly_position'].apply(lambda pos: pos[:2]))\n",
    "\n",
    "# Plot\n",
    "plt.plot(x1, y1, label=\"Simulation 1\")\n",
    "#plt.plot(x2, y2, label=\"Simulation 2\")\n",
    "plt.legend()\n",
    "plt.show()"
   ]
  },
  {
   "cell_type": "markdown",
   "metadata": {},
   "source": [
    "# Useful functions"
   ]
  },
  {
   "cell_type": "code",
   "execution_count": null,
   "metadata": {},
   "outputs": [],
   "source": [
    "# Define function allowing to sum only a part of element of the window\n",
    "def custom_sum(x, group_size):\n",
    "    return np.sum(x[::group_size])\n",
    "\n",
    "# Define function allowing to average only a part of element of the window\n",
    "def custom_mean(x, group_size):\n",
    "    return np.nanmean(x[::group_size])\n",
    "\n",
    "# Define function to compute angle between two vectors in degree or radian\n",
    "def angle_between_vectors(previous_heading, new_heading, degree=True):\n",
    "    cross_product = np.cross(new_heading, previous_heading)\n",
    "    # Compute the angle between A and B\n",
    "    angle = np.arctan2(cross_product, np.dot(new_heading, previous_heading))\n",
    "    # Compute the angle in degree if needed \n",
    "    if degree:\n",
    "        angle = np.degrees(angle)\n",
    "\n",
    "    return angle\n",
    "\n",
    "# Define function to compute angle for dataframe rows\n",
    "def angle_positive(row):\n",
    "    # Extract individual vectors from the row\n",
    "    heading_x = row['heading'][0]\n",
    "    heading_y = row['heading'][1]\n",
    "\n",
    "    # Calculate the positive angle\n",
    "    return angle_between_vectors([0, 1], [heading_x, heading_y])\n",
    "\n",
    "# Define function to compute leg positions in the fly's bodyframe\n",
    "def translate_and_rotate_to_bodyframe(x_original_coords, y_original_coords, x_translation_vector, y_translation_vector, rotation_angle):\n",
    "    # Initialize empty arrays for results\n",
    "    x_double_prime = np.empty_like(x_original_coords)\n",
    "    y_double_prime = np.empty_like(y_original_coords)\n",
    "\n",
    "    # Apply translation and rotation in a loop\n",
    "    for i in range(len(x_original_coords)):\n",
    "        # Apply translation\n",
    "        x_prime = x_original_coords[i] - x_translation_vector[i]\n",
    "        y_prime = y_original_coords[i] - y_translation_vector[i]\n",
    "        # Apply rotation\n",
    "        x_double_prime[i] = x_prime * math.cos(rotation_angle[i]) - y_prime * math.sin(rotation_angle[i])\n",
    "        y_double_prime[i] = x_prime * math.sin(rotation_angle[i]) + y_prime * math.cos(rotation_angle[i])\n",
    "\n",
    "    # Return the new coordinates after translation and rotation\n",
    "    return x_double_prime, y_double_prime"
   ]
  },
  {
   "cell_type": "markdown",
   "metadata": {},
   "source": [
    "# Pre-process raw data for our task"
   ]
  },
  {
   "cell_type": "markdown",
   "metadata": {},
   "source": [
    "#### Useful variables"
   ]
  },
  {
   "cell_type": "code",
   "execution_count": null,
   "metadata": {},
   "outputs": [],
   "source": [
    "# Processed data frame\n",
    "df_drive = df1\n",
    "df_drive = df_drive.reset_index(drop=True)\n",
    "\n",
    "# Define the window size (w)\n",
    "w = 4000\n",
    "group_size = 10"
   ]
  },
  {
   "cell_type": "markdown",
   "metadata": {},
   "source": [
    "#### Bodyframe legs' position transformation"
   ]
  },
  {
   "cell_type": "code",
   "execution_count": null,
   "metadata": {},
   "outputs": [],
   "source": [
    "# Apply the angle_positive function to each row\n",
    "df_drive['angle_positive'] = df_drive.apply(angle_positive, axis=1)\n",
    "\n",
    "# Left front leg position frame transformation\n",
    "LF_body_x, LF_body_y = translate_and_rotate_to_bodyframe(df_drive['position_hist_LF'].apply(lambda pos: pos[0]),\n",
    "                                               df_drive['position_hist_LF'].apply(lambda pos: pos[1]),\n",
    "                                               df_drive['fly_position'].apply(lambda pos: pos[0]),\n",
    "                                               df_drive['fly_position'].apply(lambda pos: pos[1]),\n",
    "                                               df_drive['angle_positive'])\n",
    "\n",
    "# Right front leg position frame transformation\n",
    "RF_body_x, RF_body_y = translate_and_rotate_to_bodyframe(df_drive['position_hist_RF'].apply(lambda pos: pos[0]),\n",
    "                                               df_drive['position_hist_RF'].apply(lambda pos: pos[1]),\n",
    "                                               df_drive['fly_position'].apply(lambda pos: pos[0]),\n",
    "                                               df_drive['fly_position'].apply(lambda pos: pos[1]),\n",
    "                                               df_drive['angle_positive'])\n",
    "\n",
    "# Left middle leg position frame transformation\n",
    "LM_body_x, LM_body_y = translate_and_rotate_to_bodyframe(df_drive['position_hist_LM'].apply(lambda pos: pos[0]),\n",
    "                                               df_drive['position_hist_LM'].apply(lambda pos: pos[1]),\n",
    "                                               df_drive['fly_position'].apply(lambda pos: pos[0]),\n",
    "                                               df_drive['fly_position'].apply(lambda pos: pos[1]),\n",
    "                                               df_drive['angle_positive'])\n",
    "\n",
    "# Right middle leg position frame transformation\n",
    "RM_body_x, RM_body_y = translate_and_rotate_to_bodyframe(df_drive['position_hist_RM'].apply(lambda pos: pos[0]),\n",
    "                                               df_drive['position_hist_RM'].apply(lambda pos: pos[1]),\n",
    "                                               df_drive['fly_position'].apply(lambda pos: pos[0]),\n",
    "                                               df_drive['fly_position'].apply(lambda pos: pos[1]),\n",
    "                                               df_drive['angle_positive'])\n",
    "\n",
    "# Left hind leg position frame transformation\n",
    "LH_body_x, LH_body_y = translate_and_rotate_to_bodyframe(df_drive['position_hist_LH'].apply(lambda pos: pos[0]),\n",
    "                                               df_drive['position_hist_LH'].apply(lambda pos: pos[1]),\n",
    "                                               df_drive['fly_position'].apply(lambda pos: pos[0]),\n",
    "                                               df_drive['fly_position'].apply(lambda pos: pos[1]),\n",
    "                                               df_drive['angle_positive'])\n",
    "\n",
    "# Right hind leg position frame transformation\n",
    "RH_body_x, RH_body_y = translate_and_rotate_to_bodyframe(df_drive['position_hist_RH'].apply(lambda pos: pos[0]),\n",
    "                                               df_drive['position_hist_RH'].apply(lambda pos: pos[1]),\n",
    "                                               df_drive['fly_position'].apply(lambda pos: pos[0]),\n",
    "                                               df_drive['fly_position'].apply(lambda pos: pos[1]),\n",
    "                                               df_drive['angle_positive'])\n",
    "\n",
    "# Creat columns with leg position in the body frame for each leg\n",
    "df_drive['LF_body'] = np.array([LF_body_x, LF_body_y]).T.tolist()\n",
    "df_drive['RF_body'] = np.array([RF_body_x, RF_body_y]).T.tolist()\n",
    "df_drive['LM_body'] = np.array([LM_body_x, LM_body_y]).T.tolist()\n",
    "df_drive['RM_body'] = np.array([RM_body_x, RM_body_y]).T.tolist()\n",
    "df_drive['LH_body'] = np.array([LH_body_x, LH_body_y]).T.tolist()\n",
    "df_drive['RH_body'] = np.array([RH_body_x, RH_body_y]).T.tolist()\n",
    "\n",
    "# Display the new dataframe\n",
    "display(df_drive)"
   ]
  },
  {
   "cell_type": "markdown",
   "metadata": {},
   "source": [
    "#### Stride length (along longitudinal axis)"
   ]
  },
  {
   "cell_type": "code",
   "execution_count": null,
   "metadata": {},
   "outputs": [],
   "source": [
    "# Tripod A (LF - RM - LH) stride length\n",
    "# Creat full None \"stride length\" columns with the correct length\n",
    "df_drive['stride_length_LF'] = pd.Series([None] * len(df_drive))\n",
    "df_drive['stride_length_RM'] = pd.Series([None] * len(df_drive))\n",
    "df_drive['stride_length_LH'] = pd.Series([None] * len(df_drive))\n",
    "\n",
    "# Extract indices of swing phase starts\n",
    "swing_stance_indices_LF = df_drive.index[df_drive['swing_LF'].diff() == 1].tolist()\n",
    "swing_stance_indices_RM = df_drive.index[df_drive['swing_RM'].diff() == 1].tolist()\n",
    "swing_stance_indices_LH = df_drive.index[df_drive['swing_LH'].diff() == 1].tolist()\n",
    "\n",
    "# Complete the \"stride length\" columns at previously extracted swing indices with leg position (in bodyframe)\n",
    "df_drive.loc[swing_stance_indices_LF, 'stride_length_LF'] = df_drive.loc[swing_stance_indices_LF, 'LF_body']\n",
    "df_drive.loc[swing_stance_indices_RM, 'stride_length_RM'] = df_drive.loc[swing_stance_indices_RM, 'RM_body']\n",
    "df_drive.loc[swing_stance_indices_LH, 'stride_length_LH'] = df_drive.loc[swing_stance_indices_LH, 'LH_body']\n",
    "\n",
    "# Tripod B (RF - LM - RH) stride length\n",
    "# Creat full None \"stride length\" columns with the correct length\n",
    "df_drive['stride_length_RF'] = pd.Series([None] * len(df_drive))\n",
    "df_drive['stride_length_LM'] = pd.Series([None] * len(df_drive))\n",
    "df_drive['stride_length_RH'] = pd.Series([None] * len(df_drive))\n",
    "\n",
    "# Extract indices of swing phase starts\n",
    "swing_stance_indices_RF = df_drive.index[df_drive['swing_RF'].diff() == 1].tolist()\n",
    "swing_stance_indices_LM = df_drive.index[df_drive['swing_LM'].diff() == 1].tolist()\n",
    "swing_stance_indices_RH = df_drive.index[df_drive['swing_RH'].diff() == 1].tolist()\n",
    "\n",
    "# Complete the \"stride length\" columns at previously extracted swing indices with leg position (in bodyframe)\n",
    "df_drive.loc[swing_stance_indices_RF, 'stride_length_RF'] = df_drive.loc[swing_stance_indices_RF, 'RF_body']\n",
    "df_drive.loc[swing_stance_indices_LM, 'stride_length_LM'] = df_drive.loc[swing_stance_indices_LM, 'LM_body']\n",
    "df_drive.loc[swing_stance_indices_RH, 'stride_length_RH'] = df_drive.loc[swing_stance_indices_RH, 'RH_body']\n",
    "\n",
    "# Create a new column 'euclidean_distance'\n",
    "indices_list = [swing_stance_indices_LF, swing_stance_indices_RM, swing_stance_indices_LH,\n",
    "                swing_stance_indices_RF, swing_stance_indices_LM, swing_stance_indices_RH]\n",
    "legs_list = [\"LF\", \"RM\", \"LH\", \"RF\", \"LM\", \"RH\"]\n",
    "\n",
    "# Iterate for ech legs over the start swing indices to compute stride length (along longitudinal axis)\n",
    "for leg, indices in zip(legs_list, indices_list):\n",
    "    # Creat a new column for each leg\n",
    "    df_drive[f'y_diff_{leg}'] = None \n",
    "    # Iterate over indices\n",
    "    for i in range(1, len(indices)-1):\n",
    "        # get final stance position indices\n",
    "        current_index = indices[i]\n",
    "        # get initial stance position indices\n",
    "        previous_index = indices[i - 1]\n",
    "        # get final stance leg postion\n",
    "        current_array = df_drive.at[current_index, f'stride_length_{leg}']\n",
    "        # get initial stance leg postion\n",
    "        previous_array = df_drive.at[previous_index, f'stride_length_{leg}']\n",
    "        # Compute and store stride length\n",
    "        df_drive.at[current_index, f'y_diff_{leg}'] = np.abs(current_array[1] - previous_array[1])"
   ]
  },
  {
   "cell_type": "markdown",
   "metadata": {},
   "source": [
    "#### Drive difference"
   ]
  },
  {
   "cell_type": "code",
   "execution_count": null,
   "metadata": {},
   "outputs": [],
   "source": [
    "# For each time step compute drive difference (Delta L - Delta R)\n",
    "df_drive[\"drive_diff\"] = df_drive['action_drive'].apply(lambda pos: pos[0]) - df_drive['action_drive'].apply(lambda pos: pos[1])"
   ]
  },
  {
   "cell_type": "markdown",
   "metadata": {},
   "source": [
    "#### Sliding window: grouped features computation"
   ]
  },
  {
   "cell_type": "code",
   "execution_count": null,
   "metadata": {},
   "outputs": [],
   "source": [
    "# Create w \"artificial\" rows at the beginning to start rolling window method\n",
    "df_temp = pd.DataFrame({'LF_body': [[0, 0]],\n",
    "                        'LM_body': [[0, 0]],\n",
    "                        'LH_body': [[0, 0]],\n",
    "                        'RF_body': [[0, 0]],\n",
    "                        'RM_body': [[0, 0]],\n",
    "                        'RH_body': [[0, 0]],\n",
    "                        'action_drive': [np.array([0, 0])],\n",
    "                        'velocity': [np.array([np.NaN, np.NaN, np.NaN])]})\n",
    "\n",
    "\n",
    "# Duplicate the DataFrame to form w rows\n",
    "df_temp_duplicated = pd.concat([df_temp] * w, ignore_index=True)\n",
    "df_drive = pd.concat([df_temp_duplicated, df_drive], ignore_index=True)\n",
    "\n",
    "# Create columns with each drive sum over the sliding window\n",
    "df_drive['d1_sum'] = df_drive['action_drive'].apply(lambda x: x[0]).rolling(window=w, min_periods=1).agg(lambda x: custom_sum(x, group_size))\n",
    "df_drive['d2_sum'] = df_drive['action_drive'].apply(lambda x: x[1]).rolling(window=w, min_periods=1).agg(lambda x: custom_sum(x, group_size))\n",
    "\n",
    "# Create columns with each drive sum over the sliding window\n",
    "df_drive[\"drive_diff_mean\"] = df_drive[\"drive_diff\"].rolling(window=w, min_periods=1).agg(lambda x: custom_mean(x, group_size))\n",
    "\n",
    "# Create columns with leg mean y position in the bodyframe over the sliding window\n",
    "df_drive['LF_y_mean'] = df_drive['LF_body'].apply(lambda x: x[1]).rolling(window=w, min_periods=1).apply(lambda x : np.nanmean(x))\n",
    "df_drive['LM_y_mean'] = df_drive['LM_body'].apply(lambda x: x[1]).rolling(window=w, min_periods=1).apply(lambda x : np.nanmean(x))\n",
    "df_drive['LH_y_mean'] = df_drive['LH_body'].apply(lambda x: x[1]).rolling(window=w, min_periods=1).apply(lambda x : np.nanmean(x))\n",
    "df_drive['RF_y_mean'] = df_drive['RF_body'].apply(lambda x: x[1]).rolling(window=w, min_periods=1).apply(lambda x : np.nanmean(x))\n",
    "df_drive['RM_y_mean'] = df_drive['RM_body'].apply(lambda x: x[1]).rolling(window=w, min_periods=1).apply(lambda x : np.nanmean(x))\n",
    "df_drive['RH_y_mean'] = df_drive['RH_body'].apply(lambda x: x[1]).rolling(window=w, min_periods=1).apply(lambda x : np.nanmean(x))\n",
    "\n",
    "# Create columns with mean stride length over the sliding window\n",
    "df_drive['y_diff_LF_mean'] = df_drive['y_diff_LF'].rolling(window=w, min_periods=1).apply(lambda x : np.nanmean(x))\n",
    "df_drive['y_diff_LM_mean'] = df_drive['y_diff_LM'].rolling(window=w, min_periods=1).apply(lambda x : np.nanmean(x))\n",
    "df_drive['y_diff_LH_mean'] = df_drive['y_diff_LH'].rolling(window=w, min_periods=1).apply(lambda x : np.nanmean(x))\n",
    "df_drive['y_diff_RF_mean'] = df_drive['y_diff_RF'].rolling(window=w, min_periods=1).apply(lambda x : np.nanmean(x))\n",
    "df_drive['y_diff_RM_mean'] = df_drive['y_diff_RM'].rolling(window=w, min_periods=1).apply(lambda x : np.nanmean(x))\n",
    "df_drive['y_diff_RH_mean'] = df_drive['y_diff_RH'].rolling(window=w, min_periods=1).apply(lambda x : np.nanmean(x))\n",
    "\n",
    "# Create columns with mean velocity over the sliding window\n",
    "df_drive['v1_mean'] = df_drive['velocity'].apply(lambda x: x[0]).rolling(window=w, min_periods=1).agg(lambda x: custom_mean(x, 1))\n",
    "df_drive['v2_mean'] = df_drive['velocity'].apply(lambda x: x[1]).rolling(window=w, min_periods=1).agg(lambda x: custom_mean(x, 1))\n",
    "\n",
    "# Create columns with mean velocity shifted by the window size to be able to compute heading change\n",
    "df_drive['mean_v1_minus_w'] = df_drive['v1_mean'].shift(w, fill_value=0)\n",
    "df_drive['mean_v2_minus_w'] = df_drive['v2_mean'].shift(w, fill_value=0)\n",
    "\n",
    "# Drop first rows (2*w) as we do not have enought information yto compute heading change\n",
    "df_drive = df_drive.iloc[(2*w):].reset_index(drop=True)\n",
    "\n",
    "# Compute headong change angle using mean velocity vectors\n",
    "df_drive['angle_degrees'] = df_drive.apply(lambda row: angle_between_vectors([row['v1_mean'], row['v2_mean']],\n",
    "                                                          [row['mean_v1_minus_w'], row['mean_v2_minus_w']], True), axis=1)"
   ]
  },
  {
   "cell_type": "markdown",
   "metadata": {},
   "source": [
    "#### Save processed dataframe in a pickle"
   ]
  },
  {
   "cell_type": "code",
   "execution_count": null,
   "metadata": {},
   "outputs": [],
   "source": [
    "df_drive.to_pickle('preprocessed_final.pkl')"
   ]
  },
  {
   "cell_type": "markdown",
   "metadata": {},
   "source": [
    "#### Create a loop to save all dataframe of a given simulation"
   ]
  },
  {
   "cell_type": "code",
   "execution_count": null,
   "metadata": {},
   "outputs": [],
   "source": [
    "dfs = []\n",
    "\n",
    "# Load and concatenate pickled DataFrames\n",
    "for i in range(1, 9):\n",
    "    file_path = f'Simulation_1_run_{i}.pkl'\n",
    "    df = pd.read_pickle(file_path)\n",
    "    dfs.append(df)\n",
    "\n",
    "for i in range(1, 3):\n",
    "    file_path = f'Simulation_2_run_{i}.pkl'\n",
    "    df = pd.read_pickle(file_path)\n",
    "    dfs.append(df)\n",
    "\n",
    "# Concatenate DataFrames into a single DataFrame\n",
    "merged_df = pd.concat(dfs, ignore_index=True)\n",
    "\n",
    "# Save the merged DataFrame to a pickle file\n",
    "merged_df.to_pickle('preprocessed_data_w_4000.pkl')"
   ]
  }
 ],
 "metadata": {
  "kernelspec": {
   "display_name": "flygym",
   "language": "python",
   "name": "flygym"
  },
  "language_info": {
   "codemirror_mode": {
    "name": "ipython",
    "version": 3
   },
   "file_extension": ".py",
   "mimetype": "text/x-python",
   "name": "python",
   "nbconvert_exporter": "python",
   "pygments_lexer": "ipython3",
   "version": "3.11.5"
  }
 },
 "nbformat": 4,
 "nbformat_minor": 2
}

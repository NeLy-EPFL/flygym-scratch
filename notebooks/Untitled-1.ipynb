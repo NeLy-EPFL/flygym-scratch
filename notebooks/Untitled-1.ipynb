{
 "cells": [
  {
   "cell_type": "code",
   "execution_count": 1,
   "metadata": {},
   "outputs": [],
   "source": [
    "import numpy as np\n",
    "import matplotlib.pyplot as plt\n",
    "from tqdm import trange\n",
    "from flygym.mujoco import Parameters\n",
    "from flygym.mujoco.examples.turning_controller import HybridTurningNMF\n",
    "from flygym.mujoco.arena import OdorArena\n",
    "\n",
    "# Odor source: array of shape (num_odor_sources, 3) - xyz coords of odor sources\n",
    "odor_source = np.array([[24, 0, 1.5], [8, -4, 1.5]]) #, [16, 4, 1.5]])\n",
    "\n",
    "# Peak intensities: array of shape (num_odor_sources, odor_dimesions)\n",
    "# For each odor source, if the intensity is (x, 0) then the odor is in the 1st dimension\n",
    "# (in this case attractive). If it's (0, x) then it's in the 2nd dimension (in this case\n",
    "# aversive)\n",
    "peak_intensity = np.array([[1, 0], [0, 1]]) #, [0, 1]])\n",
    "\n",
    "# Marker colors: array of shape (num_odor_sources, 4) - RGBA values for each marker,\n",
    "# normalized to [0, 1]\n",
    "#marker_colors = [[255, 127, 14], [31, 119, 180], [31, 119, 180]]\n",
    "#marker_colors = np.array([[*np.array(color) / 255, 1] for color in marker_colors])\n",
    "\n",
    "odor_dimesions = len(peak_intensity[0])\n",
    "\n",
    "odor_valence = [1,2]"
   ]
  },
  {
   "cell_type": "code",
   "execution_count": 2,
   "metadata": {},
   "outputs": [],
   "source": [
    "arena = OdorArena(\n",
    "     odor_source=odor_source,\n",
    "     peak_intensity=peak_intensity,\n",
    "     odor_valence=odor_valence,\n",
    "     diffuse_func=lambda x: x**-2,\n",
    "     marker_size=0.3,\n",
    " )"
   ]
  },
  {
   "cell_type": "code",
   "execution_count": 3,
   "metadata": {},
   "outputs": [],
   "source": [
    "def is_yeast(source_index) -> bool:\n",
    "        \"\"\"This function returns whether the food \n",
    "        source is yeast or sucrose\"\"\"\n",
    "        if (\n",
    "            arena.peak_odor_intensity[source_index][0]\n",
    "            > arena.peak_odor_intensity[source_index][1]\n",
    "        ):\n",
    "            return True\n",
    "        else:\n",
    "            return False"
   ]
  },
  {
   "cell_type": "code",
   "execution_count": 4,
   "metadata": {},
   "outputs": [],
   "source": [
    "def compute_richest_yeast_source() -> float:\n",
    "    arena_valence_dict = arena.valence_dictionary\n",
    "    found_key = True\n",
    "    while found_key:\n",
    "        max_key = max(arena_valence_dict, key=arena_valence_dict.get)\n",
    "        if max_key<0 and is_yeast:\n",
    "            arena_valence_dict.pop(max_key)\n",
    "            print(arena_valence_dict)\n",
    "        else: \n",
    "            found_key = False\n",
    "    for el in range(len(arena.peak_odor_intensity)):\n",
    "        if max_key == arena.compute_smell_key_value(arena.peak_odor_intensity[el]):\n",
    "            return el\n"
   ]
  },
  {
   "cell_type": "code",
   "execution_count": 5,
   "metadata": {},
   "outputs": [
    {
     "name": "stdout",
     "output_type": "stream",
     "text": [
      "{1: 1}\n"
     ]
    },
    {
     "data": {
      "text/plain": [
       "0"
      ]
     },
     "execution_count": 5,
     "metadata": {},
     "output_type": "execute_result"
    }
   ],
   "source": [
    "compute_richest_yeast_source()"
   ]
  },
  {
   "cell_type": "code",
   "execution_count": 6,
   "metadata": {},
   "outputs": [],
   "source": [
    "# Add the NeuroMechFLy\n",
    "\n",
    "contact_sensor_placements = [\n",
    "    f\"{leg}{segment}\"\n",
    "    for leg in [\"LF\", \"LM\", \"LH\", \"RF\", \"RM\", \"RH\"]\n",
    "    for segment in [\"Tibia\", \"Tarsus1\", \"Tarsus2\", \"Tarsus3\", \"Tarsus4\", \"Tarsus5\"]\n",
    "]\n",
    "sim_params = Parameters(\n",
    "    timestep=1e-4,\n",
    "    render_mode=\"saved\",\n",
    "    render_playspeed=0.5,\n",
    "    render_window_size=(800, 608),\n",
    "    enable_olfaction=True,\n",
    "    enable_adhesion=True,\n",
    "    draw_adhesion=False,\n",
    "    render_camera=\"birdeye_cam\",\n",
    ")\n",
    "sim = HybridTurningNMF(\n",
    "    sim_params=sim_params,\n",
    "    arena=arena,\n",
    "    spawn_pos=(0, 0, 0.2),\n",
    "    contact_sensor_placements=contact_sensor_placements,\n",
    "    food_loss_rate = 0.00003,\n",
    ")"
   ]
  },
  {
   "cell_type": "code",
   "execution_count": 7,
   "metadata": {},
   "outputs": [
    {
     "name": "stdout",
     "output_type": "stream",
     "text": [
      "Number of decision steps:  500\n",
      "Physics steps per decision step:  100\n"
     ]
    }
   ],
   "source": [
    "decision_interval = 0.01\n",
    "run_time = sim.simulation_time\n",
    "num_decision_steps = int(run_time / decision_interval)\n",
    "print(\"Number of decision steps: \", num_decision_steps)\n",
    "physics_steps_per_decision_step = int(decision_interval / sim_params.timestep)\n",
    "print(\"Physics steps per decision step: \", physics_steps_per_decision_step)\n",
    "\n",
    "obs_hist = []\n",
    "odor_history = []\n",
    "obs, _ = sim.reset()"
   ]
  },
  {
   "cell_type": "code",
   "execution_count": 8,
   "metadata": {},
   "outputs": [
    {
     "data": {
      "text/plain": [
       "0"
      ]
     },
     "execution_count": 8,
     "metadata": {},
     "output_type": "execute_result"
    }
   ],
   "source": [
    "sim.compute_closest_yeast_source(obs)"
   ]
  },
  {
   "cell_type": "code",
   "execution_count": 10,
   "metadata": {},
   "outputs": [
    {
     "name": "stderr",
     "output_type": "stream",
     "text": [
      "100%|██████████| 500/500 [00:00<00:00, 2175468.88it/s]"
     ]
    },
    {
     "name": "stdout",
     "output_type": "stream",
     "text": [
      "Internal state changed to:  satiated\n",
      "Attractive gain:  -397\n",
      "Aversive gain:  0\n"
     ]
    },
    {
     "name": "stderr",
     "output_type": "stream",
     "text": [
      "\n"
     ]
    }
   ],
   "source": [
    "# Bool to see if simulation is done\n",
    "sim_end = False\n",
    "# Get fly's hunger state\n",
    "hunger_limits = sim.food_requirements\n",
    "# To keep track of the previous internal state\n",
    "prev_int_state = \"\"\n",
    "# Intialize gains\n",
    "attractive_gain = 0\n",
    "aversive_gain = 0\n",
    "\n",
    "#mating_state = sim.compute_mating_state()\n",
    "mating_state = sim.mating_state\n",
    "# Run simulation\n",
    "# For each decision step\n",
    "for i in trange(num_decision_steps):\n",
    "    if not sim_end:\n",
    "        # Check where the fly's hunger level is at\n",
    "        int_state = sim.compute_internal_state()\n",
    "        # Change gains only if the internal state has changed\n",
    "        if int_state != prev_int_state:\n",
    "            print(\"Internal state changed to: \", int_state)\n",
    "            mating_state = \"mated\"\n",
    "            att_gain, av_gain = arena.generate_random_gains_food_internal_state(int_state, mating_state)\n",
    "            attractive_gain = att_gain\n",
    "            aversive_gain = av_gain\n",
    "            prev_int_state = int_state\n",
    "            print(\"Attractive gain: \", attractive_gain)\n",
    "            print(\"Aversive gain: \", aversive_gain)"
   ]
  },
  {
   "cell_type": "code",
   "execution_count": 11,
   "metadata": {},
   "outputs": [],
   "source": [
    "def compute_closest_yeast_source(obs) -> float:\n",
    "        \"\"\"This function returns the index of the closest \n",
    "        yeast source given the current position of the \n",
    "        fly in the simulation\"\"\"\n",
    "        distance = np.inf\n",
    "        index_source = 0\n",
    "        for i in range(len(sim.arena.odor_source)):\n",
    "            tmp_distance = np.linalg.norm(\n",
    "                obs[\"fly\"][0, :2] - sim.arena.odor_source[i, :2]\n",
    "            )\n",
    "            if tmp_distance < distance:\n",
    "                if sim.arena.is_yeast(i):\n",
    "                    distance = tmp_distance\n",
    "                    index_source = i\n",
    "        return index_source"
   ]
  },
  {
   "cell_type": "code",
   "execution_count": 12,
   "metadata": {},
   "outputs": [],
   "source": [
    "yeast_source = compute_closest_yeast_source(obs)"
   ]
  },
  {
   "cell_type": "code",
   "execution_count": 13,
   "metadata": {},
   "outputs": [],
   "source": [
    "def generate_exploration_turning_control(attractive_gain, aversive_gain):\n",
    "    # Compute bias from odor intensity\n",
    "        attractive_intensities = np.average(\n",
    "            obs[\"odor_intensity\"][0, :].reshape(2, 2), axis=0, weights=[9, 1]\n",
    "        )\n",
    "        aversive_intensities = np.average(\n",
    "            obs[\"odor_intensity\"][1, :].reshape(2, 2), axis=0, weights=[10, 0]\n",
    "        )\n",
    "        attractive_bias = (\n",
    "            attractive_gain\n",
    "            * (attractive_intensities[0] - attractive_intensities[1])\n",
    "            / attractive_intensities.mean()\n",
    "        )\n",
    "        aversive_bias = (\n",
    "            aversive_gain\n",
    "            * (aversive_intensities[0] - aversive_intensities[1])\n",
    "            / aversive_intensities.mean()\n",
    "        )\n",
    "        effective_bias = aversive_bias + attractive_bias\n",
    "        effective_bias_norm = np.tanh(effective_bias**2) * np.sign(effective_bias)\n",
    "        assert np.sign(effective_bias_norm) == np.sign(effective_bias)\n",
    "\n",
    "        # Compute control signal\n",
    "        control_signal = np.ones((2,))\n",
    "        side_to_modulate = int(effective_bias_norm > 0)\n",
    "        modulation_amount = np.abs(effective_bias_norm) * 0.8\n",
    "        control_signal[side_to_modulate] -= modulation_amount"
   ]
  },
  {
   "cell_type": "code",
   "execution_count": 20,
   "metadata": {},
   "outputs": [],
   "source": [
    "def get_specific_olfaction(index_source, sim, arena):\n",
    "    odors = arena.odor_source[index_source]\n",
    "    odors = np.expand_dims(odors, axis=0)\n",
    "    _odor_source_repeated = odors[:, np.newaxis, np.newaxis, :]\n",
    "    _odor_source_repeated = np.repeat(\n",
    "        _odor_source_repeated, arena.odor_dimensions, axis=1\n",
    "    )\n",
    "    _odor_source_repeated = np.repeat(\n",
    "        _odor_source_repeated, arena.num_sensors, axis=2\n",
    "    )\n",
    "    peak_odor_intesity = arena.peak_odor_intensity[index_source]\n",
    "    peak_odor_intesity = np.expand_dims(peak_odor_intesity, axis=0)\n",
    "    _peak_intensity_repeated = peak_odor_intesity[:, :, np.newaxis]\n",
    "    _peak_intensity_repeated = np.repeat(\n",
    "        _peak_intensity_repeated, arena.num_sensors, axis=2\n",
    "    )\n",
    "    _peak_intensity_repeated = _peak_intensity_repeated\n",
    "    antennae_pos = sim.physics.bind(sim._antennae_sensors).sensordata\n",
    "    antennae_pos = antennae_pos.reshape(4,3)\n",
    "    antennae_pos_repeated = antennae_pos[np.newaxis, np.newaxis, :, :]\n",
    "    dist_3d = antennae_pos_repeated - _odor_source_repeated  # (n, k, w, 3)\n",
    "    dist_euc = np.linalg.norm(dist_3d, axis=3)  # (n, k, w)\n",
    "    scaling = arena.diffuse_func(dist_euc)  # (n, k, w)\n",
    "    intensity = _peak_intensity_repeated * scaling  # (n, k, w)\n",
    "    return intensity.sum(axis=0)  # (k, w)\n"
   ]
  },
  {
   "cell_type": "code",
   "execution_count": 25,
   "metadata": {},
   "outputs": [],
   "source": [
    "def generate_specific_turning_control(arena, index_source,antennae_pos, attractive_gain):\n",
    "    # Compute bias from odor intensity knowing that \n",
    "    # the fly needs to approach a yeast source specified \n",
    "    # by the index_source    \n",
    "    obs = get_specific_olfaction(index_source, sim, arena)\n",
    "\n",
    "    attractive_intensities = np.average(\n",
    "        obs[0, :].reshape(2, 2), axis=0, weights=[9, 1]\n",
    "    )\n",
    "    attractive_bias = (\n",
    "        attractive_gain\n",
    "        * (attractive_intensities[0] - attractive_intensities[1])\n",
    "        / attractive_intensities.mean()\n",
    "    )\n",
    "    aversive_bias = 0\n",
    "    effective_bias = aversive_bias + attractive_bias\n",
    "    effective_bias_norm = np.tanh(effective_bias**2) * np.sign(effective_bias)\n",
    "    assert np.sign(effective_bias_norm) == np.sign(effective_bias)\n",
    "\n",
    "    # Compute control signal\n",
    "    control_signal = np.ones((2,))\n",
    "    side_to_modulate = int(effective_bias_norm > 0)\n",
    "    modulation_amount = np.abs(effective_bias_norm) * 0.8\n",
    "    control_signal[side_to_modulate] -= modulation_amount\n",
    "    return control_signal"
   ]
  },
  {
   "cell_type": "code",
   "execution_count": 26,
   "metadata": {},
   "outputs": [],
   "source": [
    "x = generate_specific_turning_control(arena, yeast_source, sim, attractive_gain)"
   ]
  },
  {
   "cell_type": "code",
   "execution_count": 27,
   "metadata": {},
   "outputs": [
    {
     "data": {
      "text/plain": [
       "array([0.99979967, 1.        ])"
      ]
     },
     "execution_count": 27,
     "metadata": {},
     "output_type": "execute_result"
    }
   ],
   "source": [
    "x"
   ]
  },
  {
   "cell_type": "code",
   "execution_count": null,
   "metadata": {},
   "outputs": [],
   "source": []
  }
 ],
 "metadata": {
  "kernelspec": {
   "display_name": "nmf",
   "language": "python",
   "name": "python3"
  },
  "language_info": {
   "codemirror_mode": {
    "name": "ipython",
    "version": 3
   },
   "file_extension": ".py",
   "mimetype": "text/x-python",
   "name": "python",
   "nbconvert_exporter": "python",
   "pygments_lexer": "ipython3",
   "version": "3.11.5"
  }
 },
 "nbformat": 4,
 "nbformat_minor": 2
}

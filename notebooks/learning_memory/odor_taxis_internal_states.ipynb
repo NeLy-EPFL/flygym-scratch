{
 "cells": [
  {
   "cell_type": "markdown",
   "metadata": {},
   "source": [
    "**THE FLY WILL EXPLORE THE ARENA BASED ON ITS INTERNAL STATE(MATING STATE, FOOD STOCK LEVEL)**"
   ]
  },
  {
   "cell_type": "code",
   "execution_count": 15,
   "metadata": {},
   "outputs": [],
   "source": [
    "import numpy as np\n",
    "import matplotlib.pyplot as plt\n",
    "import logging\n",
    "import os\n",
    "from pathlib import Path\n",
    "from tqdm import trange\n",
    "from flygym.mujoco import Parameters\n",
    "from flygym.mujoco.examples.turning_controller import HybridTurningNMF\n",
    "from flygym.mujoco.arena import OdorArena\n",
    "\n",
    "# Odor source: array of shape (num_odor_sources, 3) - xyz coords of odor sources\n",
    "odor_source = np.array([[24, 0, 1.5], [8, -4, 1.5], [16, 4, 1.5]])\n",
    "\n",
    "# Peak intensities: array of shape (num_odor_sources, odor_dimesions)\n",
    "# For each odor source, if the intensity is (x, 0) then the odor is in the 1st dimension\n",
    "# (in this case yeast). If it's (0, x) then it's in the 2nd dimension (in this case\n",
    "# sucrose)\n",
    "peak_intensity = np.array([[1, 0], [0, 1], [2, 0]])\n",
    "\n",
    "# Marker colors: array of shape (num_odor_sources, 4) - RGBA values for each marker,\n",
    "# normalized to [0, 1]\n",
    "#marker_colors = [[255, 127, 14], [31, 119, 180], [31, 119, 180]]\n",
    "#marker_colors = np.array([[*np.array(color) / 255, 1] for color in marker_colors])\n",
    "\n",
    "odor_dimesions = len(peak_intensity[0])\n",
    "\n",
    "odor_valence = [1,2,20]\n",
    "\n",
    "logging.basicConfig(level=logging.INFO)"
   ]
  },
  {
   "cell_type": "code",
   "execution_count": 16,
   "metadata": {},
   "outputs": [],
   "source": [
    "# Set up the arena\n",
    "arena = OdorArena(\n",
    "     odor_source=odor_source,\n",
    "     peak_intensity=peak_intensity,\n",
    "     odor_valence=odor_valence,\n",
    "     diffuse_func=lambda x: x**-2,\n",
    "     marker_size=0.3,\n",
    " )"
   ]
  },
  {
   "cell_type": "code",
   "execution_count": 17,
   "metadata": {},
   "outputs": [
    {
     "data": {
      "text/plain": [
       "(-0.5, 799.5, 607.5, -0.5)"
      ]
     },
     "execution_count": 17,
     "metadata": {},
     "output_type": "execute_result"
    },
    {
     "data": {
      "image/png": "[encoded data removed]",
      "text/plain": [
       "<Figure size 500x400 with 1 Axes>"
      ]
     },
     "metadata": {},
     "output_type": "display_data"
    }
   ],
   "source": [
    "# Add the NeuroMechFLy\n",
    "\n",
    "contact_sensor_placements = [\n",
    "    f\"{leg}{segment}\"\n",
    "    for leg in [\"LF\", \"LM\", \"LH\", \"RF\", \"RM\", \"RH\"]\n",
    "    for segment in [\"Tibia\", \"Tarsus1\", \"Tarsus2\", \"Tarsus3\", \"Tarsus4\", \"Tarsus5\"]\n",
    "]\n",
    "sim_params = Parameters(\n",
    "    timestep=1e-4,\n",
    "    render_mode=\"saved\",\n",
    "    render_playspeed=0.5,\n",
    "    render_window_size=(800, 608),\n",
    "    enable_olfaction=True,\n",
    "    enable_adhesion=True,\n",
    "    draw_adhesion=False,\n",
    "    render_camera=\"birdeye_cam\",\n",
    ")\n",
    "sim = HybridTurningNMF(\n",
    "    sim_params=sim_params,\n",
    "    arena=arena,\n",
    "    spawn_pos=(0, 0, 0.2),\n",
    "    contact_sensor_placements=contact_sensor_placements,\n",
    "    simulation_time=10,\n",
    "    food_loss_rate = 0.00003,\n",
    "    food_stocked_init=1.0,\n",
    "    mating_state=\"virgin\",\n",
    ")\n",
    "for i in range(1):\n",
    "    sim.step(np.zeros(2))\n",
    "    sim.render()\n",
    "fig, ax = plt.subplots(1, 1, figsize=(5, 4), tight_layout=True)\n",
    "ax.imshow(sim._frames[-1])\n",
    "ax.axis(\"off\")\n",
    "#fig.savefig(\"./outputs/olfaction_env.png\") "
   ]
  },
  {
   "cell_type": "code",
   "execution_count": 18,
   "metadata": {},
   "outputs": [
    {
     "name": "stderr",
     "output_type": "stream",
     "text": [
      "  0%|          | 0/1000 [00:00<?, ?it/s]"
     ]
    },
    {
     "name": "stderr",
     "output_type": "stream",
     "text": [
      "100%|██████████| 1000/1000 [04:55<00:00,  3.38it/s]\n"
     ]
    }
   ],
   "source": [
    "# Let the exploration begin\n",
    "\n",
    "decision_interval = 0.01\n",
    "run_time = sim.simulation_time\n",
    "num_decision_steps = int(run_time / decision_interval)\n",
    "logging.info(\"Number of decision steps: \", num_decision_steps)\n",
    "physics_steps_per_decision_step = int(decision_interval / sim_params.timestep)\n",
    "logging.info(\"Physics steps per decision step: \", physics_steps_per_decision_step)\n",
    "\n",
    "obs_hist = []\n",
    "odor_history = []\n",
    "obs, _ = sim.reset()\n",
    "\n",
    "# Bool to see if simulation is done\n",
    "sim_end = False\n",
    "# Get fly's hunger state\n",
    "hunger_limits = sim.food_requirements\n",
    "# To keep track of the previous internal state\n",
    "prev_int_state = \"\"\n",
    "# Intialize gains\n",
    "attractive_gain = 0\n",
    "aversive_gain = 0\n",
    "\n",
    "# Run simulation\n",
    "# For each decision step\n",
    "for i in trange(num_decision_steps):\n",
    "    if not sim_end:\n",
    "        # Check where the fly's hunger level is at\n",
    "        int_state = sim.compute_internal_state()\n",
    "        # Change gains only if the internal state has changed\n",
    "        if int_state != prev_int_state:\n",
    "            logging.info(\"Internal state changed to: \", int_state)\n",
    "            att_gain, av_gain = arena.generate_random_gains_food_internal_state(int_state, sim.mating_state, obs[\"fly\"][0])\n",
    "            attractive_gain = att_gain\n",
    "            aversive_gain = av_gain\n",
    "            logging.debug(\"Attractive gain: \", attractive_gain)\n",
    "            logging.debug(\"Aversive gain: \", aversive_gain)\n",
    "\n",
    "\n",
    "        # Compute bias from odor intensity & control signal\n",
    "        if int_state == \"starving\":\n",
    "            # the fly will reach the closest yeast source\n",
    "            yeast_source = sim.compute_closest_yeast_source(obs) \n",
    "            control_signal = arena.generate_specific_turning_control(yeast_source, sim, attractive_gain)\n",
    "        elif int_state == \"hungry\":\n",
    "            # the fly will reach the yeast source that is the richest one\n",
    "            yeast_source = arena.compute_richest_yeast_source()\n",
    "            control_signal = arena.generate_specific_turning_control(yeast_source, sim, attractive_gain)\n",
    "        else:\n",
    "            # the fly will explore the arena accordingly to its mating state\n",
    "            # virgin -> sucrose\n",
    "            # mated -> yeast\n",
    "            control_signal = arena.generate_exploration_turning_control(attractive_gain, aversive_gain, obs)\n",
    "        # Make environment step and reward fly if it gets to a food source\n",
    "        for _ in range(physics_steps_per_decision_step):\n",
    "            obs, reward, terminated, truncated, _ = sim.step(control_signal)\n",
    "            rendered_img = sim.render()\n",
    "            if rendered_img is not None:\n",
    "                # record odor intensity too for video\n",
    "                odor_history.append(obs[\"odor_intensity\"])\n",
    "            obs_hist.append(obs)\n",
    "\n",
    "            # If fly gets to food source, simulation does not end\n",
    "            # fly keeps walking based on its internal state\n",
    "            if reward != None:\n",
    "                #sim_end = True\n",
    "                yeast_source_reward = sim.compute_closest_yeast_source()\n",
    "                logging.info(\"Fly got to food source\", yeast_source_reward)\n",
    "                logging.info(\"Elapsed time in the simulation\", sim.curr_time)\n",
    "                #break\n",
    "            # If fly has no food left, end simulation (death)\n",
    "            #if obs[\"food_stocked\"] < 0:\n",
    "            #    sim_end = True\n",
    "            #    logging.info(\"Fly died\")\n",
    "            #    break\n",
    "\n",
    "            # If simulation should be terminated or truncted, end simulation\n",
    "            if terminated:\n",
    "                logging.info(\"Out of time\")\n",
    "                logging.info(\"Elapsed time in the simulation\", sim.curr_time)\n",
    "                sim_end = True\n",
    "                break\n",
    "            if truncated:\n",
    "                logging.info(\"No food source was reached, simulation is truncated\")\n",
    "                logging.info(\"Elapsed time in the simulation\", sim.curr_time)\n",
    "                sim_end = True\n",
    "                break"
   ]
  },
  {
   "cell_type": "code",
   "execution_count": 19,
   "metadata": {},
   "outputs": [],
   "source": [
    "# choose a name to save both the video and the trajectory\n",
    "name = \"internal_state_simulation_more_simulation_time\"\n",
    "path = Path(f\"flygym-scratch/outputs/plots/{name}\")\n",
    "os.mkdir(path)"
   ]
  },
  {
   "cell_type": "code",
   "execution_count": 20,
   "metadata": {},
   "outputs": [
    {
     "data": {
      "image/png": "[encoded data removed]",
      "text/plain": [
       "<Figure size 500x400 with 1 Axes>"
      ]
     },
     "metadata": {},
     "output_type": "display_data"
    }
   ],
   "source": [
    "#Plot the trajectory\n",
    "fly_pos_hist = np.array([obs[\"fly\"][0, :2] for obs in obs_hist])\n",
    "fig, ax = plt.subplots(1, 1, figsize=(5, 4), tight_layout=True)\n",
    "ax.scatter(\n",
    "    [odor_source[0, 0]],\n",
    "    [odor_source[0, 1]],\n",
    "    marker=\"o\",\n",
    "    color=\"tab:orange\",\n",
    "    s=50,\n",
    "    label=\"Attractive\",\n",
    ")\n",
    "ax.scatter(\n",
    "    [odor_source[1, 0]],\n",
    "    [odor_source[1, 1]],\n",
    "    marker=\"o\",\n",
    "    color=\"tab:blue\",\n",
    "    s=50,\n",
    "    label=\"Aversive\",\n",
    ")\n",
    "ax.scatter([odor_source[2, 0]], [odor_source[2, 1]], marker=\"o\", color=\"tab:orange\", s=50)\n",
    "ax.plot(fly_pos_hist[:, 0], fly_pos_hist[:, 1], color=\"k\", label=\"Fly trajectory\")\n",
    "ax.set_aspect(\"equal\")\n",
    "ax.set_xlim(-1, 40)\n",
    "ax.set_ylim(-10, 10)\n",
    "ax.set_xlabel(\"x (mm)\")\n",
    "ax.set_ylabel(\"y (mm)\")\n",
    "ax.legend(ncols=3, loc=\"lower center\", bbox_to_anchor=(0.5, -0.6))\n",
    "fig.savefig(f\"flygym-scratch/outputs/plots/{name}/odor_taxis_trajectory.png\")"
   ]
  },
  {
   "cell_type": "code",
   "execution_count": 21,
   "metadata": {},
   "outputs": [],
   "source": [
    "# save the video\n",
    "sim.save_video(f\"flygym-scratch/outputs/plots/{name}/odor_taxis_video.mp4\")"
   ]
  },
  {
   "cell_type": "markdown",
   "metadata": {},
   "source": [
    "**IF THE SIMULATION WAS TRUNCATED, WE START AGAIN**"
   ]
  },
  {
   "cell_type": "code",
   "execution_count": 11,
   "metadata": {},
   "outputs": [],
   "source": [
    "if sim_end == True and truncated:\n",
    "    _, _ = sim.respawn()\n",
    "    logging.info(\"Let's restart\")"
   ]
  },
  {
   "cell_type": "code",
   "execution_count": null,
   "metadata": {},
   "outputs": [],
   "source": [
    "# Bool to see if simulation is done\n",
    "sim_end = False\n",
    "# Get fly's hunger state\n",
    "hunger_limits = sim.food_requirements\n",
    "# To keep track of the previous internal state\n",
    "prev_int_state = \"\"\n",
    "# Intialize gains\n",
    "attractive_gain = 0\n",
    "aversive_gain = 0\n",
    "\n",
    "# Run simulation\n",
    "# For each decision step\n",
    "for i in trange(num_decision_steps):\n",
    "    if not sim_end:\n",
    "        # Check where the fly's hunger level is at\n",
    "        int_state = sim.compute_internal_state()\n",
    "        # Change gains only if the internal state has changed\n",
    "        if int_state != prev_int_state:\n",
    "            logging.info(\"Internal state changed to: \", int_state)\n",
    "            att_gain, av_gain = arena.generate_random_gains_food_internal_state(int_state, sim.mating_state, obs[\"fly\"][0])\n",
    "            attractive_gain = att_gain\n",
    "            aversive_gain = av_gain\n",
    "            logging.debug(\"Attractive gain: \", attractive_gain)\n",
    "            logging.debug(\"Aversive gain: \", aversive_gain)\n",
    "\n",
    "\n",
    "        # Compute bias from odor intensity & control signal\n",
    "        if int_state == \"starving\":\n",
    "            yeast_source = sim.compute_closest_yeast_source(obs) \n",
    "            control_signal = arena.generate_specific_turning_control(yeast_source, sim, attractive_gain)\n",
    "        elif int_state == \"hungry\":\n",
    "            yeast_source = arena.compute_richest_yeast_source()\n",
    "            control_signal = arena.generate_specific_turning_control(yeast_source, sim, attractive_gain)\n",
    "        else:\n",
    "            control_signal = arena.generate_exploration_turning_control(attractive_gain, aversive_gain, obs)\n",
    "        # Make environment step and reward fly if it gets to a food source\n",
    "        for _ in range(physics_steps_per_decision_step):\n",
    "            obs, reward, terminated, truncated, _ = sim.step(control_signal)\n",
    "            rendered_img = sim.render()\n",
    "            if rendered_img is not None:\n",
    "                # record odor intensity too for video\n",
    "                odor_history.append(obs[\"odor_intensity\"])\n",
    "            obs_hist.append(obs)\n",
    "\n",
    "            # If fly gets to food source, simulation does not\n",
    "            if reward != None:\n",
    "                #sim_end = True\n",
    "                logging.info(\"Fly got to food source\")\n",
    "                logging.info(\"Elapsed time in the simulation\", sim.curr_time)\n",
    "                #break\n",
    "            # If fly has no food left, end simulation (death)\n",
    "            #if obs[\"food_stocked\"] < 0:\n",
    "            #    sim_end = True\n",
    "            #    logging.info(\"Fly died\")\n",
    "            #    break\n",
    "\n",
    "            # If simulation should be terminated or truncted, end simulation\n",
    "            if terminated:\n",
    "                logging.info(\"Out of time\")\n",
    "                logging.info(\"Elapsed time in the simulation\", sim.curr_time)\n",
    "                sim_end = True\n",
    "                break\n",
    "            if truncated:\n",
    "                logging.info(\"No food source was reached, simulation is truncated\")\n",
    "                logging.info(\"Elapsed time in the simulation\", sim.curr_time)\n",
    "                sim_end = True\n",
    "                break"
   ]
  }
 ],
 "metadata": {
  "kernelspec": {
   "display_name": "nmf",
   "language": "python",
   "name": "python3"
  },
  "language_info": {
   "codemirror_mode": {
    "name": "ipython",
    "version": 3
   },
   "file_extension": ".py",
   "mimetype": "text/x-python",
   "name": "python",
   "nbconvert_exporter": "python",
   "pygments_lexer": "ipython3",
   "version": "3.11.5"
  }
 },
 "nbformat": 4,
 "nbformat_minor": 2
}

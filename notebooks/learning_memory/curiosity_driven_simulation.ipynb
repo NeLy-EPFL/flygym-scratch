{
 "cells": [
  {
   "cell_type": "code",
   "execution_count": 5,
   "metadata": {},
   "outputs": [],
   "source": [
    "import numpy as np\n",
    "import matplotlib.pyplot as plt\n",
    "import logging\n",
    "import os\n",
    "from pathlib import Path\n",
    "from tqdm import trange\n",
    "from flygym.mujoco import Parameters\n",
    "from flygym.mujoco.examples.turning_controller import HybridTurningNMF\n",
    "from flygym.mujoco.arena import OdorArena\n",
    "\n",
    "# Odor source: array of shape (num_odor_sources, 3) - xyz coords of odor sources\n",
    "odor_source = np.array(\n",
    "    [[24, 0, 1.5], [8, -4, 1.5], [16, 4, 1.5], [12, -8, 1.5], [20, 3, 1.5]]\n",
    ")\n",
    "\n",
    "# Peak intensities: array of shape (num_odor_sources, odor_dimesions)\n",
    "# For each odor source, if the intensity is (x, 0) then the odor is in the 1st dimension\n",
    "# (in this case yeast). If it's (0, x) then it's in the 2nd dimension (in this case\n",
    "# sucrose)\n",
    "peak_intensity = np.array([[1, 0], [2, 0], [3, 0], [4, 0], [5, 0]])\n",
    "\n",
    "# Marker colors: array of shape (num_odor_sources, 4) - RGBA values for each marker,\n",
    "# normalized to [0, 1]\n",
    "marker_colors = [[255, 127, 14], [31, 119, 180], [255, 192, 203], [255, 0, 0], [0, 255, 0]]\n",
    "marker_colors = np.array([[*np.array(color) / 255, 1] for color in marker_colors])\n",
    "\n",
    "odor_dimesions = len(peak_intensity[0])\n",
    "\n",
    "odor_valence = [10, 15, 20, 17, 6]\n",
    "\n",
    "logging.basicConfig(level=logging.INFO)"
   ]
  },
  {
   "cell_type": "code",
   "execution_count": 6,
   "metadata": {},
   "outputs": [],
   "source": [
    "# Set up the arena\n",
    "arena = OdorArena(\n",
    "    odor_source=odor_source,\n",
    "    size=(50, 50),\n",
    "    peak_intensity=peak_intensity,\n",
    "    odor_valence=odor_valence,\n",
    "    diffuse_func=lambda x: x**-2,\n",
    "    marker_size=0.3,\n",
    "    marker_colors=marker_colors\n",
    ")"
   ]
  },
  {
   "cell_type": "code",
   "execution_count": 7,
   "metadata": {},
   "outputs": [
    {
     "data": {
      "text/plain": [
       "(-0.5, 799.5, 607.5, -0.5)"
      ]
     },
     "execution_count": 7,
     "metadata": {},
     "output_type": "execute_result"
    },
    {
     "data": {
      "image/png": "[encoded data removed]",
      "text/plain": [
       "<Figure size 500x400 with 1 Axes>"
      ]
     },
     "metadata": {},
     "output_type": "display_data"
    }
   ],
   "source": [
    "# Add the NeuroMechFLy\n",
    "\n",
    "contact_sensor_placements = [\n",
    "    f\"{leg}{segment}\"\n",
    "    for leg in [\"LF\", \"LM\", \"LH\", \"RF\", \"RM\", \"RH\"]\n",
    "    for segment in [\"Tibia\", \"Tarsus1\", \"Tarsus2\", \"Tarsus3\", \"Tarsus4\", \"Tarsus5\"]\n",
    "]\n",
    "sim_params = Parameters(\n",
    "    timestep=1e-4,\n",
    "    render_mode=\"saved\",\n",
    "    render_playspeed=0.5,\n",
    "    render_window_size=(800, 608),\n",
    "    enable_olfaction=True,\n",
    "    enable_adhesion=True,\n",
    "    draw_adhesion=False,\n",
    "    render_camera=\"birdeye_cam\",\n",
    ")\n",
    "sim = HybridTurningNMF(\n",
    "    sim_params=sim_params,\n",
    "    arena=arena,\n",
    "    spawn_pos=(0, 0, 0.2),\n",
    "    contact_sensor_placements=contact_sensor_placements,\n",
    "    simulation_time=30)\n",
    "    #odor_score_reach_addition=2,\n",
    "    #odor_score_time_loss=1\n",
    "for i in range(1):\n",
    "    sim.step(np.zeros(2))\n",
    "    sim.render()\n",
    "fig, ax = plt.subplots(1, 1, figsize=(5, 4), tight_layout=True)\n",
    "ax.imshow(sim._frames[-1])\n",
    "ax.axis(\"off\")"
   ]
  },
  {
   "cell_type": "code",
   "execution_count": 8,
   "metadata": {},
   "outputs": [
    {
     "name": "stderr",
     "output_type": "stream",
     "text": [
      "  0%|          | 0/3000 [00:00<?, ?it/s]"
     ]
    },
    {
     "name": "stderr",
     "output_type": "stream",
     "text": [
      " 55%|█████▍    | 1649/3000 [07:37<04:22,  5.14it/s]"
     ]
    }
   ],
   "source": [
    "decision_interval = 0.01\n",
    "run_time = sim.simulation_time\n",
    "num_decision_steps = int(run_time / decision_interval)\n",
    "logging.info(\"Number of decision steps: \", num_decision_steps)\n",
    "physics_steps_per_decision_step = int(decision_interval / sim_params.timestep)\n",
    "logging.info(\"Physics steps per decision step: \", physics_steps_per_decision_step)\n",
    "\n",
    "obs_hist = []\n",
    "odor_history = []\n",
    "obs, _ = sim.reset()\n",
    "\n",
    "# let's choose the source towards which the fly will walk\n",
    "source = sim.choose_odor_exploration()\n",
    "prev_reward = None\n",
    "logging.info(\"Going to the source \", source + 1)\n",
    "\n",
    "# let's start the exploration\n",
    "for i in trange(num_decision_steps):\n",
    "    # compute the control signal to go towards the chosen source\n",
    "    control_signal = arena.generate_specific_turning_control(\n",
    "                source, sim\n",
    "            )\n",
    "    for _ in range(physics_steps_per_decision_step):\n",
    "        obs, reward, terminated, truncated, _ = sim.step(control_signal, False)\n",
    "        rendered_img = sim.render()\n",
    "        if rendered_img is not None:\n",
    "            # record odor intensity too for video\n",
    "            odor_history.append(obs[\"odor_intensity\"])\n",
    "        obs_hist.append(obs)\n",
    "\n",
    "        if reward != None:\n",
    "            # let's check if the fly has actually reached a new source\n",
    "            if prev_reward != reward:\n",
    "                # if it has, the sim.odor_scores is updated and a new source to be reached is computed\n",
    "                sim.update_odor_scores(source)\n",
    "                source = sim.choose_odor_exploration()\n",
    "                logging.info(\"new source\", source+1)\n",
    "                logging.info(sim.odor_scores)\n",
    "                prev_reward = reward\n",
    "        if terminated:\n",
    "            logging.info(\"Out of time\")\n",
    "            logging.info(\"Elapsed time in the simulation\", sim.curr_time)\n",
    "            break\n",
    "        if truncated:\n",
    "            logging.info(\"No food source was reached, simulation is truncated\")\n",
    "            logging.info(\"Elapsed time in the simulation\", sim.curr_time)\n",
    "            break\n",
    "\n",
    "    "
   ]
  },
  {
   "cell_type": "code",
   "execution_count": null,
   "metadata": {},
   "outputs": [],
   "source": [
    "# let's check the confidence level for the fly's memory related to the different sources\n",
    "print(sim.odor_scores)\n",
    "# let's check the fly's memory \n",
    "print(sim.fly_valence_dictionary)"
   ]
  },
  {
   "cell_type": "code",
   "execution_count": null,
   "metadata": {},
   "outputs": [],
   "source": [
    "# choose a name to save both the video and the trajectory\n",
    "name = \"counting_based_simulation_8\"\n",
    "path = Path(f\"/home/nmf-learning/flygym-scratch/outputs/plots/{name}\")\n",
    "os.mkdir(path)"
   ]
  },
  {
   "cell_type": "code",
   "execution_count": null,
   "metadata": {},
   "outputs": [],
   "source": [
    "# Plot the trajectory\n",
    "fly_pos_hist = np.array([obs[\"fly\"][0, :2] for obs in obs_hist])\n",
    "fig, ax = plt.subplots(1, 1, figsize=(5, 4), tight_layout=True)\n",
    "ax.scatter(\n",
    "    [odor_source[0, 0]],\n",
    "    [odor_source[0, 1]],\n",
    "    marker=\"o\",\n",
    "    color=\"tab:orange\",\n",
    "    s=50,\n",
    "    label=\"Source 1\",\n",
    ")\n",
    "ax.scatter(\n",
    "    [odor_source[1, 0]],\n",
    "    [odor_source[1, 1]],\n",
    "    marker=\"o\",\n",
    "    color=\"tab:blue\",\n",
    "    s=50,\n",
    "    label=\"Source 2\",\n",
    ")\n",
    "ax.scatter(\n",
    "    [odor_source[2, 0]], [odor_source[2, 1]], marker=\"o\", color=\"tab:pink\", s=50, label=\"Source 3\",\n",
    ")\n",
    "ax.scatter(\n",
    "    [odor_source[3, 0]], [odor_source[3, 1]], marker=\"o\", color=\"tab:red\", s=50, label=\"Source 4\",\n",
    ")\n",
    "ax.scatter(\n",
    "    [odor_source[4, 0]], [odor_source[4, 1]], marker=\"o\", color=\"tab:green\", s=50, label=\"Source 5\",\n",
    ")\n",
    "ax.plot(fly_pos_hist[:, 0], fly_pos_hist[:, 1], color=\"k\", label=\"Fly trajectory\")\n",
    "ax.set_aspect(\"equal\")\n",
    "ax.set_xlim(-1, 40)\n",
    "ax.set_ylim(-10, 10)\n",
    "ax.set_xlabel(\"x (mm)\")\n",
    "ax.set_ylabel(\"y (mm)\")\n",
    "ax.legend(ncols=3, loc=\"lower center\", bbox_to_anchor=(0.5, -0.6))\n",
    "fig.savefig(\n",
    "    f\"/home/nmf-learning/flygym-scratch/outputs/plots/{name}/odor_taxis_trajectory.png\"\n",
    ")"
   ]
  },
  {
   "cell_type": "code",
   "execution_count": null,
   "metadata": {},
   "outputs": [],
   "source": [
    "# save the video\n",
    "sim.save_video(\n",
    "    f\"/home/nmf-learning/flygym-scratch/outputs/plots/{name}/odor_taxis_video.mp4\"\n",
    ")"
   ]
  }
 ],
 "metadata": {
  "kernelspec": {
   "display_name": "nmf",
   "language": "python",
   "name": "python3"
  },
  "language_info": {
   "codemirror_mode": {
    "name": "ipython",
    "version": 3
   },
   "file_extension": ".py",
   "mimetype": "text/x-python",
   "name": "python",
   "nbconvert_exporter": "python",
   "pygments_lexer": "ipython3",
   "version": "3.11.5"
  }
 },
 "nbformat": 4,
 "nbformat_minor": 2
}

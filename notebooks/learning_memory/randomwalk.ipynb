{
 "cells": [
  {
   "cell_type": "code",
   "execution_count": 1,
   "metadata": {},
   "outputs": [],
   "source": [
    "import numpy as np\n",
    "import matplotlib.pyplot as plt\n",
    "import logging\n",
    "import os\n",
    "from pathlib import Path\n",
    "from tqdm import trange\n",
    "from flygym.mujoco import Parameters\n",
    "from gymnasium.utils.env_checker import check_env\n",
    "from flygym.mujoco.examples.turning_controller import HybridTurningNMF\n",
    "from flygym.mujoco.arena import OdorArena\n",
    "\n",
    "# Odor source: array of shape (num_odor_sources, 3) - xyz coords of odor sources\n",
    "odor_source = np.array([[24, 0, 1.5], [8, -4, 1.5], [16, 4, 1.5]])\n",
    "\n",
    "# Peak intensities: array of shape (num_odor_sources, odor_dimesions)\n",
    "# For each odor source, if the intensity is (x, 0) then the odor is in the 1st dimension\n",
    "# (in this case yeast). If it's (0, x) then it's in the 2nd dimension (in this case\n",
    "# sucrose)\n",
    "peak_intensity = np.array([[1, 0], [0, 1], [2, 0]])\n",
    "\n",
    "# Marker colors: array of shape (num_odor_sources, 4) - RGBA values for each marker,\n",
    "# normalized to [0, 1]\n",
    "# marker_colors = [[255, 127, 14], [31, 119, 180], [31, 119, 180]]\n",
    "# marker_colors = np.array([[*np.array(color) / 255, 1] for color in marker_colors])\n",
    "\n",
    "odor_dimesions = len(peak_intensity[0])\n",
    "\n",
    "odor_valence = [1, 2, 20]\n",
    "\n",
    "logging.basicConfig(level=logging.INFO)"
   ]
  },
  {
   "cell_type": "code",
   "execution_count": 2,
   "metadata": {},
   "outputs": [],
   "source": [
    "# Set up the arena\n",
    "arena = OdorArena(\n",
    "    odor_source=odor_source,\n",
    "    peak_intensity=peak_intensity,\n",
    "    odor_valence=odor_valence,\n",
    "    diffuse_func=lambda x: x**-2,\n",
    "    marker_size=0.3,\n",
    ")"
   ]
  },
  {
   "cell_type": "code",
   "execution_count": 3,
   "metadata": {},
   "outputs": [
    {
     "data": {
      "text/plain": [
       "(-0.5, 799.5, 607.5, -0.5)"
      ]
     },
     "execution_count": 3,
     "metadata": {},
     "output_type": "execute_result"
    },
    {
     "data": {
      "image/png": "[encoded data removed]",
      "text/plain": [
       "<Figure size 500x400 with 1 Axes>"
      ]
     },
     "metadata": {},
     "output_type": "display_data"
    }
   ],
   "source": [
    "# Add the NeuroMechFLy\n",
    "\n",
    "contact_sensor_placements = [\n",
    "    f\"{leg}{segment}\"\n",
    "    for leg in [\"LF\", \"LM\", \"LH\", \"RF\", \"RM\", \"RH\"]\n",
    "    for segment in [\"Tibia\", \"Tarsus1\", \"Tarsus2\", \"Tarsus3\", \"Tarsus4\", \"Tarsus5\"]\n",
    "]\n",
    "sim_params = Parameters(\n",
    "    timestep=1e-4,\n",
    "    render_mode=\"saved\",\n",
    "    render_playspeed=0.5,\n",
    "    render_window_size=(800, 608),\n",
    "    enable_olfaction=True,\n",
    "    enable_adhesion=True,\n",
    "    draw_adhesion=False,\n",
    "    render_camera=\"birdeye_cam\",\n",
    ")\n",
    "sim = HybridTurningNMF(\n",
    "    sim_params=sim_params,\n",
    "    arena=arena,\n",
    "    spawn_pos=(0, 0, 0.2),\n",
    "    contact_sensor_placements=contact_sensor_placements,\n",
    "    simulation_time=10,\n",
    "    food_loss_rate=0.00003,\n",
    "    food_stocked_init=1.0,\n",
    "    mating_state=\"mated\",\n",
    ")\n",
    "for i in range(1):\n",
    "    sim.step(np.zeros(2))\n",
    "    sim.render()\n",
    "fig, ax = plt.subplots(1, 1, figsize=(5, 4), tight_layout=True)\n",
    "ax.imshow(sim._frames[-1])\n",
    "ax.axis(\"off\")"
   ]
  },
  {
   "cell_type": "code",
   "execution_count": 4,
   "metadata": {},
   "outputs": [],
   "source": [
    "def generate_random_walk(num_steps):\n",
    "    turnings = [np.array([1, 1])]\n",
    "    count_step_turn = 0\n",
    "    total_step_turn = 100\n",
    "    turn = False\n",
    "\n",
    "    for i in range(num_steps - 1):\n",
    "        if count_step_turn <= total_step_turn:\n",
    "            sigma_l = turnings[-1][0]\n",
    "            sigma_r = turnings[-1][1]\n",
    "\n",
    "        elif turn:\n",
    "            count_step_turn = 0\n",
    "            total_step_turn = np.random.gamma(120, 50)\n",
    "            turn = False\n",
    "            sigma_l = 1.2\n",
    "            sigma_r = 1.2\n",
    "\n",
    "        else:\n",
    "            count_step_turn = 0\n",
    "\n",
    "            while True:\n",
    "                sigma_l = np.random.choice(\n",
    "                    [\n",
    "                        np.random.normal(1, 0.3),\n",
    "                        np.random.normal(1.25, 0.2),\n",
    "                        np.random.normal(0.15, 0.2),\n",
    "                    ],\n",
    "                    p=[0.5, 0.25, 0.25],\n",
    "                )\n",
    "                if sigma_l >= 0.0 and sigma_l <= 1.5:  # change before >= 0.1\n",
    "                    break\n",
    "\n",
    "            if sigma_l > 1.2:\n",
    "                proba_r = np.array([0.1, 0.1, 0.8])\n",
    "            elif sigma_l > 0.2 and sigma_l < 0.4:\n",
    "                proba_r = np.array([0.1, 0.8, 0.1])\n",
    "            elif sigma_l <= 0.2:\n",
    "                proba_r = np.array([0.2, 0.8, 0.0])\n",
    "            else:\n",
    "                proba_r = np.array([0.6, 0.2, 0.2])\n",
    "\n",
    "            while True:\n",
    "                sigma_r = np.random.choice(\n",
    "                    [\n",
    "                        np.random.normal(1, 0.3),\n",
    "                        np.random.normal(1.25, 0.2),\n",
    "                        np.random.normal(0.15, 0.2),\n",
    "                    ],\n",
    "                    p=proba_r,\n",
    "                )\n",
    "                if sigma_r >= 0.05 and sigma_l <= 1.7:\n",
    "                    break\n",
    "\n",
    "            if np.abs(sigma_l - sigma_r) > 0.65:\n",
    "                total_step_turn = np.random.gamma(140, 65)\n",
    "                turn = True\n",
    "            else:\n",
    "                total_step_turn = np.random.gamma(50, 30)\n",
    "\n",
    "        count_step_turn += 1\n",
    "\n",
    "        turnings.append(np.array([sigma_l, sigma_r]))\n",
    "\n",
    "    return turnings"
   ]
  },
  {
   "cell_type": "code",
   "execution_count": 16,
   "metadata": {},
   "outputs": [],
   "source": [
    "run_time = 8\n",
    "turns = generate_random_walk(int(run_time / sim.sim_params.timestep))"
   ]
  },
  {
   "cell_type": "code",
   "execution_count": 17,
   "metadata": {},
   "outputs": [],
   "source": [
    "obs_hist = []\n",
    "odor_history = []\n",
    "obs, _ = sim.reset()"
   ]
  },
  {
   "cell_type": "code",
   "execution_count": 18,
   "metadata": {},
   "outputs": [
    {
     "name": "stderr",
     "output_type": "stream",
     "text": [
      "100%|██████████| 80000/80000 [03:38<00:00, 366.88it/s]\n"
     ]
    }
   ],
   "source": [
    "for i in trange(int(run_time / sim.sim_params.timestep)):\n",
    "    action = turns[i]\n",
    "    obs, _, _, _, _ = sim.step(action)\n",
    "    rendered_img = sim.render()\n",
    "    obs_hist.append(obs)"
   ]
  },
  {
   "cell_type": "code",
   "execution_count": 19,
   "metadata": {},
   "outputs": [
    {
     "data": {
      "text/plain": [
       "<matplotlib.legend.Legend at 0x7ff1bebca810>"
      ]
     },
     "execution_count": 19,
     "metadata": {},
     "output_type": "execute_result"
    },
    {
     "data": {
      "image/png": "[encoded data removed]",
      "text/plain": [
       "<Figure size 500x400 with 1 Axes>"
      ]
     },
     "metadata": {},
     "output_type": "display_data"
    }
   ],
   "source": [
    "fly_pos_hist = np.array([obs[\"fly\"][0, :2] for obs in obs_hist])\n",
    "fig, ax = plt.subplots(1, 1, figsize=(5, 4), tight_layout=True)\n",
    "ax.scatter(\n",
    "    [odor_source[0, 0]],\n",
    "    [odor_source[0, 1]],\n",
    "    marker=\"o\",\n",
    "    color=\"tab:orange\",\n",
    "    s=50,\n",
    "    label=\"Attractive\",\n",
    ")\n",
    "ax.scatter(\n",
    "    [odor_source[1, 0]],\n",
    "    [odor_source[1, 1]],\n",
    "    marker=\"o\",\n",
    "    color=\"tab:blue\",\n",
    "    s=50,\n",
    "    label=\"Aversive\",\n",
    ")\n",
    "ax.scatter([odor_source[2, 0]], [odor_source[2, 1]], marker=\"o\", color=\"tab:blue\", s=50)\n",
    "ax.plot(fly_pos_hist[:, 0], fly_pos_hist[:, 1], color=\"k\", label=\"Fly trajectory\")\n",
    "ax.set_aspect(\"equal\")\n",
    "ax.set_xlim(-1, 25)\n",
    "ax.set_ylim(-5, 5)\n",
    "ax.set_xlabel(\"x (mm)\")\n",
    "ax.set_ylabel(\"y (mm)\")\n",
    "ax.legend(ncols=3, loc=\"lower center\", bbox_to_anchor=(0.5, -0.6))"
   ]
  },
  {
   "cell_type": "code",
   "execution_count": 20,
   "metadata": {},
   "outputs": [],
   "source": [
    "sim.save_video(\"/home/nmf-learning/flygym-scratch/outputs/random_walk/second_try.mp4\")"
   ]
  },
  {
   "cell_type": "code",
   "execution_count": null,
   "metadata": {},
   "outputs": [],
   "source": []
  }
 ],
 "metadata": {
  "kernelspec": {
   "display_name": "nmf",
   "language": "python",
   "name": "python3"
  },
  "language_info": {
   "codemirror_mode": {
    "name": "ipython",
    "version": 3
   },
   "file_extension": ".py",
   "mimetype": "text/x-python",
   "name": "python",
   "nbconvert_exporter": "python",
   "pygments_lexer": "ipython3",
   "version": "3.11.5"
  }
 },
 "nbformat": 4,
 "nbformat_minor": 2
}

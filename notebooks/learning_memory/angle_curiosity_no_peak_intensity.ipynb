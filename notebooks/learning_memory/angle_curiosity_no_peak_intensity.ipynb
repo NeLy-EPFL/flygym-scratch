{
 "cells": [
  {
   "cell_type": "markdown",
   "metadata": {},
   "source": [
    "In this notebook, we explore how the learning and memory can be driven by curiosity, confidence level and timeloss memory. Everytime a source is reached, a new source is chosen as the next target based on a table associated to the fly; in this table, the confidence level of how well the fly knows all the sources is stored. This confidence level decreases with time; everytime a source is reached, this value decreases for each sources; if its negative, it is set equal to zero.\n",
    "\n",
    "After this first explaration, we want the fly to be able to walk to the different sources based on its internal state; the mating state and the food stock levels (AAs level) will guide its exploration."
   ]
  },
  {
   "cell_type": "code",
   "execution_count": 1,
   "metadata": {},
   "outputs": [],
   "source": [
    "import numpy as np\n",
    "import matplotlib.pyplot as plt\n",
    "import logging\n",
    "import os\n",
    "from pathlib import Path\n",
    "from tqdm import trange\n",
    "from flygym.mujoco import Parameters\n",
    "from flygym.mujoco.examples.turning_controller import HybridTurningNMF\n",
    "from flygym.mujoco.arena import OdorArena\n",
    "\n",
    "# Odor source: array of shape (num_odor_sources, 3) - xyz coords of odor sources\n",
    "odor_source = np.array(\n",
    "    [[24, 0, 1.5], [8, -4, 1.5], [16, 4, 1.5], [12, -8, 1.5], [20, 3, 1.5]]\n",
    ")\n",
    "\n",
    "# Peak intensities: array of shape (num_odor_sources, odor_dimesions)\n",
    "peak_intensity = np.array([[2, 3], [3, 7], [1, 3], [5, 3], [1, 3]])\n",
    "\n",
    "# Marker colors: array of shape (num_odor_sources, 4) - RGBA values for each marker,\n",
    "# normalized to [0, 1]\n",
    "marker_colors = [\n",
    "    [255, 127, 14],\n",
    "    [31, 119, 180],\n",
    "    [255, 192, 203],\n",
    "    [255, 0, 0],\n",
    "    [0, 255, 0],\n",
    "]\n",
    "marker_colors = np.array([[*np.array(color) / 255, 1] for color in marker_colors])\n",
    "\n",
    "odor_dimesions = len(peak_intensity[0])\n",
    "\n",
    "odor_valence = [1, 10, 12, 17, 20]\n",
    "\n",
    "logging.basicConfig(level=logging.INFO)"
   ]
  },
  {
   "cell_type": "code",
   "execution_count": 2,
   "metadata": {},
   "outputs": [
    {
     "data": {
      "text/plain": [
       "(-0.5, 799.5, 607.5, -0.5)"
      ]
     },
     "execution_count": 2,
     "metadata": {},
     "output_type": "execute_result"
    },
    {
     "data": {
      "image/png": "[encoded data removed]",
      "text/plain": [
       "<Figure size 500x400 with 1 Axes>"
      ]
     },
     "metadata": {},
     "output_type": "display_data"
    }
   ],
   "source": [
    "# Set up the arena\n",
    "arena = OdorArena(\n",
    "    odor_source=odor_source,\n",
    "    size=(50, 50),\n",
    "    peak_intensity=peak_intensity,\n",
    "    odor_valence=odor_valence,\n",
    "    diffuse_func=lambda x: x**-2,\n",
    "    marker_size=0.3,\n",
    "    marker_colors=marker_colors,\n",
    "    key_angle=True,  # we add this boolean so that we compute the key for the valence dictionary by using the angle formed in the complex plane\n",
    ")\n",
    "\n",
    "# Add the NeuroMechFLy\n",
    "\n",
    "contact_sensor_placements = [\n",
    "    f\"{leg}{segment}\"\n",
    "    for leg in [\"LF\", \"LM\", \"LH\", \"RF\", \"RM\", \"RH\"]\n",
    "    for segment in [\"Tibia\", \"Tarsus1\", \"Tarsus2\", \"Tarsus3\", \"Tarsus4\", \"Tarsus5\"]\n",
    "]\n",
    "sim_params = Parameters(\n",
    "    timestep=1e-4,\n",
    "    render_mode=\"saved\",\n",
    "    render_playspeed=0.5,\n",
    "    render_window_size=(800, 608),\n",
    "    enable_olfaction=True,\n",
    "    enable_adhesion=True,\n",
    "    draw_adhesion=False,\n",
    "    render_camera=\"birdeye_cam\",\n",
    ")\n",
    "sim = HybridTurningNMF(\n",
    "    sim_params=sim_params,\n",
    "    arena=arena,\n",
    "    spawn_pos=(0, 0, 0.2),\n",
    "    contact_sensor_placements=contact_sensor_placements,\n",
    "    simulation_time=140,\n",
    ")\n",
    "# odor_score_reach_addition=2,\n",
    "# odor_score_time_loss=1\n",
    "for i in range(1):\n",
    "    sim.step(np.zeros(2))\n",
    "    sim.render()\n",
    "fig, ax = plt.subplots(1, 1, figsize=(5, 4), tight_layout=True)\n",
    "ax.imshow(sim._frames[-1])\n",
    "ax.axis(\"off\")"
   ]
  },
  {
   "cell_type": "code",
   "execution_count": 3,
   "metadata": {},
   "outputs": [
    {
     "name": "stderr",
     "output_type": "stream",
     "text": [
      "  4%|▍         | 171/4000 [00:53<19:53,  3.21it/s]\n"
     ]
    },
    {
     "ename": "KeyboardInterrupt",
     "evalue": "",
     "output_type": "error",
     "traceback": [
      "\u001b[0;31m---------------------------------------------------------------------------\u001b[0m",
      "\u001b[0;31mKeyboardInterrupt\u001b[0m                         Traceback (most recent call last)",
      "\u001b[1;32m/home/nmf-learning/flygym-scratch/notebooks/learning_memory/angle_curiosity_no_peak_intensity.ipynb Cell 4\u001b[0m line \u001b[0;36m2\n\u001b[1;32m     <a href='vscode-notebook-cell://ssh-remote%2B128.178.197.47/home/nmf-learning/flygym-scratch/notebooks/learning_memory/angle_curiosity_no_peak_intensity.ipynb#W3sdnNjb2RlLXJlbW90ZQ%3D%3D?line=20'>21</a>\u001b[0m control_signal \u001b[39m=\u001b[39m arena\u001b[39m.\u001b[39mgenerate_specific_turning_control(source, sim)\n\u001b[1;32m     <a href='vscode-notebook-cell://ssh-remote%2B128.178.197.47/home/nmf-learning/flygym-scratch/notebooks/learning_memory/angle_curiosity_no_peak_intensity.ipynb#W3sdnNjb2RlLXJlbW90ZQ%3D%3D?line=21'>22</a>\u001b[0m \u001b[39mfor\u001b[39;00m _ \u001b[39min\u001b[39;00m \u001b[39mrange\u001b[39m(physics_steps_per_decision_step):\n\u001b[0;32m---> <a href='vscode-notebook-cell://ssh-remote%2B128.178.197.47/home/nmf-learning/flygym-scratch/notebooks/learning_memory/angle_curiosity_no_peak_intensity.ipynb#W3sdnNjb2RlLXJlbW90ZQ%3D%3D?line=22'>23</a>\u001b[0m     obs, reward, terminated, truncated, _ \u001b[39m=\u001b[39m sim\u001b[39m.\u001b[39;49mstep(control_signal, \u001b[39mFalse\u001b[39;49;00m, \u001b[39mTrue\u001b[39;49;00m)\n\u001b[1;32m     <a href='vscode-notebook-cell://ssh-remote%2B128.178.197.47/home/nmf-learning/flygym-scratch/notebooks/learning_memory/angle_curiosity_no_peak_intensity.ipynb#W3sdnNjb2RlLXJlbW90ZQ%3D%3D?line=23'>24</a>\u001b[0m     rendered_img \u001b[39m=\u001b[39m sim\u001b[39m.\u001b[39mrender()\n\u001b[1;32m     <a href='vscode-notebook-cell://ssh-remote%2B128.178.197.47/home/nmf-learning/flygym-scratch/notebooks/learning_memory/angle_curiosity_no_peak_intensity.ipynb#W3sdnNjb2RlLXJlbW90ZQ%3D%3D?line=24'>25</a>\u001b[0m     \u001b[39mif\u001b[39;00m rendered_img \u001b[39mis\u001b[39;00m \u001b[39mnot\u001b[39;00m \u001b[39mNone\u001b[39;00m:\n\u001b[1;32m     <a href='vscode-notebook-cell://ssh-remote%2B128.178.197.47/home/nmf-learning/flygym-scratch/notebooks/learning_memory/angle_curiosity_no_peak_intensity.ipynb#W3sdnNjb2RlLXJlbW90ZQ%3D%3D?line=25'>26</a>\u001b[0m         \u001b[39m# record odor intensity too for video\u001b[39;00m\n",
      "File \u001b[0;32m~/flygym-scratch/flygym/mujoco/examples/turning_controller.py:200\u001b[0m, in \u001b[0;36mHybridTurningNMF.step\u001b[0;34m(self, action, truncation, angle_key)\u001b[0m\n\u001b[1;32m    191\u001b[0m \u001b[39m\u001b[39m\u001b[39m\"\"\"Step the simulation forward one timestep.\u001b[39;00m\n\u001b[1;32m    192\u001b[0m \n\u001b[1;32m    193\u001b[0m \u001b[39mParameters\u001b[39;00m\n\u001b[0;32m   (...)\u001b[0m\n\u001b[1;32m    197\u001b[0m \u001b[39m    turning.\u001b[39;00m\n\u001b[1;32m    198\u001b[0m \u001b[39m\"\"\"\u001b[39;00m\n\u001b[1;32m    199\u001b[0m \u001b[39m# update CPG parameters\u001b[39;00m\n\u001b[0;32m--> 200\u001b[0m amps \u001b[39m=\u001b[39m np\u001b[39m.\u001b[39mrepeat(np\u001b[39m.\u001b[39;49mabs(action[:, np\u001b[39m.\u001b[39;49mnewaxis]), \u001b[39m3\u001b[39m, axis\u001b[39m=\u001b[39m\u001b[39m1\u001b[39m)\u001b[39m.\u001b[39mflatten()\n\u001b[1;32m    201\u001b[0m freqs \u001b[39m=\u001b[39m \u001b[39mself\u001b[39m\u001b[39m.\u001b[39mintrinsic_freqs\u001b[39m.\u001b[39mcopy()\n\u001b[1;32m    202\u001b[0m freqs[:\u001b[39m3\u001b[39m] \u001b[39m*\u001b[39m\u001b[39m=\u001b[39m \u001b[39m1\u001b[39m \u001b[39mif\u001b[39;00m action[\u001b[39m0\u001b[39m] \u001b[39m>\u001b[39m \u001b[39m0\u001b[39m \u001b[39melse\u001b[39;00m \u001b[39m-\u001b[39m\u001b[39m1\u001b[39m\n",
      "\u001b[0;31mKeyboardInterrupt\u001b[0m: "
     ]
    }
   ],
   "source": [
    "# Let's start the simulation\n",
    "decision_interval = 0.01\n",
    "run_time = 40  # sim.simulation_time / 2\n",
    "num_decision_steps = int(run_time / decision_interval)\n",
    "logging.info(\"Number of decision steps: \", num_decision_steps)\n",
    "physics_steps_per_decision_step = int(decision_interval / sim_params.timestep)\n",
    "logging.info(\"Physics steps per decision step: \", physics_steps_per_decision_step)\n",
    "\n",
    "obs_hist = []\n",
    "odor_history = []\n",
    "obs, _ = sim.reset()\n",
    "\n",
    "# Let's choose the source towards which the fly will walk\n",
    "source = sim.choose_odor_exploration()\n",
    "prev_reward = None\n",
    "logging.info(\"Going to the source \", source + 1)\n",
    "\n",
    "# Let's start the exploration\n",
    "for i in trange(num_decision_steps):\n",
    "    # compute the control signal to go towards the chosen source\n",
    "    control_signal = arena.generate_specific_turning_control(source, sim)\n",
    "    for _ in range(physics_steps_per_decision_step):\n",
    "        obs, reward, terminated, truncated, _ = sim.step(control_signal, False, True)\n",
    "        rendered_img = sim.render()\n",
    "        if rendered_img is not None:\n",
    "            # record odor intensity too for video\n",
    "            odor_history.append(obs[\"odor_intensity\"])\n",
    "        obs_hist.append(obs)\n",
    "\n",
    "        if reward != None:\n",
    "            # let's check if the fly has actually reached a new source\n",
    "            if prev_reward != reward:\n",
    "                # if it has, the sim.odor_scores is updated and a new source to be reached is computed\n",
    "                sim.update_odor_scores(source)\n",
    "                sim.update_odor_scores_key(source)\n",
    "                source = sim.choose_odor_exploration()\n",
    "                logging.info(\"new source\", source + 1)\n",
    "                logging.info(sim.odor_scores)\n",
    "                prev_reward = reward\n",
    "        if terminated:\n",
    "            logging.info(\"Out of time\")\n",
    "            logging.info(\"Elapsed time in the simulation\", sim.curr_time)\n",
    "            break\n",
    "        if truncated:\n",
    "            logging.info(\"No food source was reached, simulation is truncated\")\n",
    "            logging.info(\"Elapsed time in the simulation\", sim.curr_time)\n",
    "            break"
   ]
  },
  {
   "cell_type": "code",
   "execution_count": 4,
   "metadata": {},
   "outputs": [
    {
     "name": "stdout",
     "output_type": "stream",
     "text": [
      "[ 0. 15.  0.  0.]\n",
      "{0.4048917862850834: 10}\n",
      "{0.5880026035475675: 1, 0.4048917862850834: 10, 0.32175055439664224: 20, 1.0303768265243125: 17}\n",
      "{0.5880026035475675: 0, 0.4048917862850834: 14.0, 0.32175055439664224: 0, 1.0303768265243125: 0}\n"
     ]
    }
   ],
   "source": [
    "# Let's check the confidence level for the fly's memory related to the different sources\n",
    "print(sim.odor_scores)\n",
    "# Let's check the fly's memory\n",
    "print(sim.fly_valence_dictionary)\n",
    "print(arena.valence_dictionary)\n",
    "\n",
    "print(sim.key_odor_scores)"
   ]
  },
  {
   "cell_type": "code",
   "execution_count": 5,
   "metadata": {},
   "outputs": [],
   "source": [
    "# Choose a name to save both the video and the trajectory\n",
    "name = \"angle_counting_based_simulation_internal_nordm\"\n",
    "path = Path(f\"/home/nmf-learning/flygym-scratch/outputs/plots/{name}\")\n",
    "os.mkdir(path)"
   ]
  },
  {
   "cell_type": "code",
   "execution_count": 6,
   "metadata": {},
   "outputs": [
    {
     "data": {
      "image/png": "[encoded data removed]",
      "text/plain": [
       "<Figure size 500x400 with 1 Axes>"
      ]
     },
     "metadata": {},
     "output_type": "display_data"
    }
   ],
   "source": [
    "# Plot the trajectory\n",
    "fly_pos_hist = np.array([obs[\"fly\"][0, :2] for obs in obs_hist])\n",
    "fig, ax = plt.subplots(1, 1, figsize=(5, 4), tight_layout=True)\n",
    "ax.scatter(\n",
    "    [odor_source[0, 0]],\n",
    "    [odor_source[0, 1]],\n",
    "    marker=\"o\",\n",
    "    color=\"tab:orange\",\n",
    "    s=50,\n",
    "    label=\"Source 1\",\n",
    ")\n",
    "ax.scatter(\n",
    "    [odor_source[1, 0]],\n",
    "    [odor_source[1, 1]],\n",
    "    marker=\"o\",\n",
    "    color=\"tab:blue\",\n",
    "    s=50,\n",
    "    label=\"Source 2\",\n",
    ")\n",
    "ax.scatter(\n",
    "    [odor_source[2, 0]],\n",
    "    [odor_source[2, 1]],\n",
    "    marker=\"o\",\n",
    "    color=\"tab:pink\",\n",
    "    s=50,\n",
    "    label=\"Source 3\",\n",
    ")\n",
    "ax.scatter(\n",
    "    [odor_source[3, 0]],\n",
    "    [odor_source[3, 1]],\n",
    "    marker=\"o\",\n",
    "    color=\"tab:red\",\n",
    "    s=50,\n",
    "    label=\"Source 4\",\n",
    ")\n",
    "ax.scatter(\n",
    "    [odor_source[4, 0]],\n",
    "    [odor_source[4, 1]],\n",
    "    marker=\"o\",\n",
    "    color=\"tab:green\",\n",
    "    s=50,\n",
    "    label=\"Source 5\",\n",
    ")\n",
    "ax.plot(\n",
    "    fly_pos_hist[:, 0], fly_pos_hist[:, 1], color=\"k\", label=\"Fly trajectory discovery\"\n",
    ")\n",
    "ax.set_aspect(\"equal\")\n",
    "ax.set_xlim(-1, 40)\n",
    "ax.set_ylim(-10, 10)\n",
    "ax.set_xlabel(\"x (mm)\")\n",
    "ax.set_ylabel(\"y (mm)\")\n",
    "ax.legend(ncols=3, loc=\"lower center\", bbox_to_anchor=(0.5, -0.6))\n",
    "fig.savefig(\n",
    "    f\"/home/nmf-learning/flygym-scratch/outputs/plots/{name}/odor_taxis_trajectory.png\"\n",
    ")"
   ]
  },
  {
   "cell_type": "code",
   "execution_count": 7,
   "metadata": {},
   "outputs": [],
   "source": [
    "# save the video\n",
    "sim.save_video(\n",
    "    f\"/home/nmf-learning/flygym-scratch/outputs/plots/{name}/odor_taxis_video_exploration.mp4\"\n",
    ")"
   ]
  },
  {
   "cell_type": "code",
   "execution_count": 16,
   "metadata": {},
   "outputs": [],
   "source": [
    "truncated = False"
   ]
  },
  {
   "cell_type": "code",
   "execution_count": 31,
   "metadata": {},
   "outputs": [
    {
     "name": "stderr",
     "output_type": "stream",
     "text": [
      "  0%|          | 0/7000 [00:00<?, ?it/s]"
     ]
    },
    {
     "name": "stdout",
     "output_type": "stream",
     "text": [
      "2\n"
     ]
    },
    {
     "name": "stderr",
     "output_type": "stream",
     "text": [
      "  4%|▎         | 253/7000 [01:23<34:38,  3.25it/s]"
     ]
    },
    {
     "name": "stdout",
     "output_type": "stream",
     "text": [
      "20\n",
      "3\n"
     ]
    },
    {
     "name": "stderr",
     "output_type": "stream",
     "text": [
      "  6%|▌         | 414/7000 [02:11<32:37,  3.36it/s]"
     ]
    }
   ],
   "source": [
    "# In order for the fly to walk around the arena based on its internal state, it must have visited all the sources before\n",
    "if not (sim.all_sources_explored()):\n",
    "    # The fly is respawned\n",
    "    obs, _ = sim.respawn()\n",
    "    # Let the exploration begin\n",
    "\n",
    "    decision_interval = 0.01\n",
    "    run_time = sim.simulation_time / 2\n",
    "    num_decision_steps = int(run_time / decision_interval)\n",
    "    logging.info(\"Number of decision steps: \", num_decision_steps)\n",
    "    physics_steps_per_decision_step = int(decision_interval / sim_params.timestep)\n",
    "    logging.info(\"Physics steps per decision step: \", physics_steps_per_decision_step)\n",
    "\n",
    "    _obs_hist = []\n",
    "    _odor_history = []\n",
    "\n",
    "    # Bool to see if simulation is done\n",
    "    sim_end = False\n",
    "    # Get fly's hunger state\n",
    "    hunger_limits = sim.food_requirements\n",
    "    # To keep track of the previous internal state\n",
    "    prev_int_state = \"\"\n",
    "\n",
    "    prev_reward = None\n",
    "    source = None\n",
    "    # Run simulation\n",
    "    # For each decision step\n",
    "\n",
    "    for i in trange(num_decision_steps):\n",
    "        if not (sim_end):\n",
    "            # Check where the fly's hunger level is at\n",
    "            int_state = sim.compute_internal_state()\n",
    "            # Change gains for the exploration only if the internal state has changed\n",
    "            # Compute bias from odor intensity & control signal\n",
    "            if int_state == \"starving\":\n",
    "                # the fly will reach the closest source\n",
    "                source = sim.compute_closest_source(obs)\n",
    "            elif int_state == \"hungry\":\n",
    "                # the fly will reach the source that is the highest reward\n",
    "                source = arena.compute_richest_closest_source(obs)\n",
    "            else:\n",
    "                if source == None:\n",
    "                    # the fly will decide which source to go to based on its internal table\n",
    "                    source = sim.choose_angle_key_odor_exploration()\n",
    "                    print(source)\n",
    "\n",
    "            control_signal = arena.generate_specific_turning_control(source, sim)\n",
    "            # Make environment step and reward fly if it gets to a food source\n",
    "            for _ in range(physics_steps_per_decision_step):\n",
    "                obs, reward, terminated, truncated, _ = sim.step(\n",
    "                    control_signal, False, True\n",
    "                )\n",
    "                rendered_img = sim.render(True)\n",
    "                if rendered_img is not None:\n",
    "                    # record odor intensity too for video\n",
    "                    _odor_history.append(obs[\"odor_intensity\"])\n",
    "                _obs_hist.append(obs)\n",
    "\n",
    "                # If fly gets to food source, simulation does not end\n",
    "                # fly keeps walking based on its internal state\n",
    "                if reward != None:\n",
    "                    if prev_reward != reward:\n",
    "                        # sim_end = True\n",
    "                        sim.update_odor_scores_key(source)\n",
    "                        source_reward = sim.compute_closest_source(obs)\n",
    "                        logging.info(\"Fly got to food source\", source_reward)\n",
    "                        logging.info(\"Elapsed time in the simulation\", sim.curr_time)\n",
    "                        prev_reward = reward\n",
    "                        print(reward)\n",
    "                        source = None\n",
    "                        print(int_state)\n",
    "                        break\n",
    "                    # break\n",
    "                # If fly has no food left, end simulation (death)\n",
    "                # if obs[\"food_stocked\"] < 0:\n",
    "                #    sim_end = True\n",
    "                #    logging.info(\"Fly died\")\n",
    "                #    break\n",
    "\n",
    "                # If simulation should be terminated or truncted, end simulation\n",
    "                if terminated:\n",
    "                    logging.info(\"Out of time\")\n",
    "                    logging.info(\"Elapsed time in the simulation\", sim.curr_time)\n",
    "                    sim_end = True\n",
    "                    break\n",
    "                if truncated:\n",
    "                    logging.info(\"No food source was reached, simulation is truncated\")\n",
    "                    logging.info(\"Elapsed time in the simulation\", sim.curr_time)\n",
    "                    sim_end = True\n",
    "                    break"
   ]
  },
  {
   "cell_type": "code",
   "execution_count": 28,
   "metadata": {},
   "outputs": [
    {
     "name": "stderr",
     "output_type": "stream",
     "text": [
      "  0%|          | 0/7000 [00:00<?, ?it/s]"
     ]
    },
    {
     "name": "stderr",
     "output_type": "stream",
     "text": [
      "  6%|▌         | 421/7000 [02:31<40:07,  2.73it/s]"
     ]
    },
    {
     "name": "stdout",
     "output_type": "stream",
     "text": [
      "20\n"
     ]
    },
    {
     "name": "stderr",
     "output_type": "stream",
     "text": [
      " 14%|█▍        | 970/7000 [05:18<33:01,  3.04it/s]\n"
     ]
    },
    {
     "ename": "KeyboardInterrupt",
     "evalue": "",
     "output_type": "error",
     "traceback": [
      "\u001b[0;31m---------------------------------------------------------------------------\u001b[0m",
      "\u001b[0;31mKeyboardInterrupt\u001b[0m                         Traceback (most recent call last)",
      "\u001b[1;32m/home/nmf-learning/flygym-scratch/notebooks/learning_memory/angle_curiosity_no_peak_intensity.ipynb Cell 11\u001b[0m line \u001b[0;36m5\n\u001b[1;32m     <a href='vscode-notebook-cell://ssh-remote%2B128.178.197.47/home/nmf-learning/flygym-scratch/notebooks/learning_memory/angle_curiosity_no_peak_intensity.ipynb#X11sdnNjb2RlLXJlbW90ZQ%3D%3D?line=54'>55</a>\u001b[0m \u001b[39m# Make environment step and reward fly if it gets to a food source\u001b[39;00m\n\u001b[1;32m     <a href='vscode-notebook-cell://ssh-remote%2B128.178.197.47/home/nmf-learning/flygym-scratch/notebooks/learning_memory/angle_curiosity_no_peak_intensity.ipynb#X11sdnNjb2RlLXJlbW90ZQ%3D%3D?line=55'>56</a>\u001b[0m \u001b[39mfor\u001b[39;00m _ \u001b[39min\u001b[39;00m \u001b[39mrange\u001b[39m(physics_steps_per_decision_step):\n\u001b[0;32m---> <a href='vscode-notebook-cell://ssh-remote%2B128.178.197.47/home/nmf-learning/flygym-scratch/notebooks/learning_memory/angle_curiosity_no_peak_intensity.ipynb#X11sdnNjb2RlLXJlbW90ZQ%3D%3D?line=56'>57</a>\u001b[0m     obs, reward, terminated, truncated, _ \u001b[39m=\u001b[39m sim\u001b[39m.\u001b[39;49mstep(control_signal, \u001b[39mFalse\u001b[39;49;00m, \u001b[39mTrue\u001b[39;49;00m)\n\u001b[1;32m     <a href='vscode-notebook-cell://ssh-remote%2B128.178.197.47/home/nmf-learning/flygym-scratch/notebooks/learning_memory/angle_curiosity_no_peak_intensity.ipynb#X11sdnNjb2RlLXJlbW90ZQ%3D%3D?line=57'>58</a>\u001b[0m     rendered_img \u001b[39m=\u001b[39m sim\u001b[39m.\u001b[39mrender(\u001b[39mTrue\u001b[39;00m)\n\u001b[1;32m     <a href='vscode-notebook-cell://ssh-remote%2B128.178.197.47/home/nmf-learning/flygym-scratch/notebooks/learning_memory/angle_curiosity_no_peak_intensity.ipynb#X11sdnNjb2RlLXJlbW90ZQ%3D%3D?line=58'>59</a>\u001b[0m     \u001b[39mif\u001b[39;00m rendered_img \u001b[39mis\u001b[39;00m \u001b[39mnot\u001b[39;00m \u001b[39mNone\u001b[39;00m:\n\u001b[1;32m     <a href='vscode-notebook-cell://ssh-remote%2B128.178.197.47/home/nmf-learning/flygym-scratch/notebooks/learning_memory/angle_curiosity_no_peak_intensity.ipynb#X11sdnNjb2RlLXJlbW90ZQ%3D%3D?line=59'>60</a>\u001b[0m         \u001b[39m# record odor intensity too for video\u001b[39;00m\n",
      "File \u001b[0;32m~/flygym-scratch/flygym/mujoco/examples/turning_controller.py:208\u001b[0m, in \u001b[0;36mHybridTurningNMF.step\u001b[0;34m(self, action, truncation, angle_key)\u001b[0m\n\u001b[1;32m    205\u001b[0m \u001b[39mself\u001b[39m\u001b[39m.\u001b[39mcpg_network\u001b[39m.\u001b[39mintrinsic_freqs \u001b[39m=\u001b[39m freqs\n\u001b[1;32m    207\u001b[0m \u001b[39m# get current observation\u001b[39;00m\n\u001b[0;32m--> 208\u001b[0m obs \u001b[39m=\u001b[39m \u001b[39msuper\u001b[39;49m()\u001b[39m.\u001b[39;49mget_observation()\n\u001b[1;32m    210\u001b[0m \u001b[39m# Retraction rule: is any leg stuck in a gap and needs to be retracted?\u001b[39;00m\n\u001b[1;32m    211\u001b[0m leg_to_correct_retraction \u001b[39m=\u001b[39m \u001b[39mself\u001b[39m\u001b[39m.\u001b[39m_retraction_rule_find_leg(obs)\n",
      "File \u001b[0;32m~/flygym-scratch/flygym/mujoco/core.py:1839\u001b[0m, in \u001b[0;36mNeuroMechFly.get_observation\u001b[0;34m(self)\u001b[0m\n\u001b[1;32m   1837\u001b[0m \u001b[39mif\u001b[39;00m \u001b[39mself\u001b[39m\u001b[39m.\u001b[39msim_params\u001b[39m.\u001b[39menable_olfaction:\n\u001b[1;32m   1838\u001b[0m     antennae_pos \u001b[39m=\u001b[39m \u001b[39mself\u001b[39m\u001b[39m.\u001b[39mphysics\u001b[39m.\u001b[39mbind(\u001b[39mself\u001b[39m\u001b[39m.\u001b[39m_antennae_sensors)\u001b[39m.\u001b[39msensordata\n\u001b[0;32m-> 1839\u001b[0m     odor_intensity \u001b[39m=\u001b[39m \u001b[39mself\u001b[39m\u001b[39m.\u001b[39marena\u001b[39m.\u001b[39mget_olfaction(antennae_pos\u001b[39m.\u001b[39;49mreshape(\u001b[39m4\u001b[39;49m, \u001b[39m3\u001b[39;49m))\n\u001b[1;32m   1840\u001b[0m     obs[\u001b[39m\"\u001b[39m\u001b[39modor_intensity\u001b[39m\u001b[39m\"\u001b[39m] \u001b[39m=\u001b[39m odor_intensity\u001b[39m.\u001b[39mastype(np\u001b[39m.\u001b[39mfloat32)\n\u001b[1;32m   1842\u001b[0m \u001b[39m# vision\u001b[39;00m\n",
      "\u001b[0;31mKeyboardInterrupt\u001b[0m: "
     ]
    }
   ],
   "source": [
    "# In order for the fly to walk around the arena based on its internal state, it must have visited all the sources before\n",
    "if sim.all_sources_explored():\n",
    "    # The fly is respawned\n",
    "    obs, _ = sim.respawn()\n",
    "    # Let the exploration begin\n",
    "\n",
    "    decision_interval = 0.01\n",
    "    run_time = sim.simulation_time / 2\n",
    "    num_decision_steps = int(run_time / decision_interval)\n",
    "    logging.info(\"Number of decision steps: \", num_decision_steps)\n",
    "    physics_steps_per_decision_step = int(decision_interval / sim_params.timestep)\n",
    "    logging.info(\"Physics steps per decision step: \", physics_steps_per_decision_step)\n",
    "\n",
    "    _obs_hist = []\n",
    "    _odor_history = []\n",
    "\n",
    "    # Bool to see if simulation is done\n",
    "    sim_end = False\n",
    "    # Get fly's hunger state\n",
    "    hunger_limits = sim.food_requirements\n",
    "    # To keep track of the previous internal state\n",
    "    prev_int_state = \"\"\n",
    "\n",
    "    prev_reward = None\n",
    "    source = None\n",
    "    # Run simulation\n",
    "    # For each decision step\n",
    "    for i in trange(num_decision_steps):\n",
    "        if not sim_end:\n",
    "            # Check where the fly's hunger level is at\n",
    "            int_state = sim.compute_internal_state()\n",
    "            # Change gains for the exploration only if the internal state has changed\n",
    "            # Compute bias from odor intensity & control signal\n",
    "            if int_state == \"starving\":\n",
    "                # the fly will reach the closest source\n",
    "                closest_source = sim.compute_closest_source(obs)\n",
    "                control_signal = arena.generate_specific_turning_control(\n",
    "                    closest_source, sim\n",
    "                )\n",
    "                if source != closest_source:\n",
    "                    source = closest_source\n",
    "                    print(source)\n",
    "            elif int_state == \"hungry\":\n",
    "                # the fly will reach the source that is the highest reward\n",
    "                richest_source = arena.compute_richest_closest_source(obs)\n",
    "                control_signal = arena.generate_specific_turning_control(\n",
    "                    richest_source, sim\n",
    "                )\n",
    "            else:\n",
    "                # the fly will decide which source to go to based on its internal table\n",
    "                source = sim.choose_angle_key_odor_exploration()\n",
    "                control_signal = arena.generate_specific_turning_control(source, sim)\n",
    "\n",
    "            # Make environment step and reward fly if it gets to a food source\n",
    "            for _ in range(physics_steps_per_decision_step):\n",
    "                obs, reward, terminated, truncated, _ = sim.step(\n",
    "                    control_signal, False, True\n",
    "                )\n",
    "                rendered_img = sim.render(True)\n",
    "                if rendered_img is not None:\n",
    "                    # record odor intensity too for video\n",
    "                    _odor_history.append(obs[\"odor_intensity\"])\n",
    "                _obs_hist.append(obs)\n",
    "\n",
    "                # If fly gets to food source, simulation does not end\n",
    "                # fly keeps walking based on its internal state\n",
    "                if reward != None:\n",
    "                    if prev_reward != reward:\n",
    "                        # sim_end = True\n",
    "                        sim.update_odor_scores_key(source)\n",
    "                        source_reward = sim.compute_closest_source(obs)\n",
    "                        logging.info(\"Fly got to food source\", source_reward)\n",
    "                        logging.info(\"Elapsed time in the simulation\", sim.curr_time)\n",
    "                        prev_reward = reward\n",
    "                        print(reward)\n",
    "                        break\n",
    "                    # break\n",
    "                # If fly has no food left, end simulation (death)\n",
    "                # if obs[\"food_stocked\"] < 0:\n",
    "                #    sim_end = True\n",
    "                #    logging.info(\"Fly died\")\n",
    "                #    break\n",
    "\n",
    "                # If simulation should be terminated or truncted, end simulation\n",
    "                if terminated:\n",
    "                    logging.info(\"Out of time\")\n",
    "                    logging.info(\"Elapsed time in the simulation\", sim.curr_time)\n",
    "                    sim_end = True\n",
    "                    break\n",
    "                if truncated:\n",
    "                    logging.info(\"No food source was reached, simulation is truncated\")\n",
    "                    logging.info(\"Elapsed time in the simulation\", sim.curr_time)\n",
    "                    sim_end = True\n",
    "                    break"
   ]
  },
  {
   "cell_type": "code",
   "execution_count": 29,
   "metadata": {},
   "outputs": [
    {
     "data": {
      "image/png": "[encoded data removed]",
      "text/plain": [
       "<Figure size 500x400 with 1 Axes>"
      ]
     },
     "metadata": {},
     "output_type": "display_data"
    }
   ],
   "source": [
    "# Plot the trajectory\n",
    "fly_pos_hist = np.array([obs[\"fly\"][0, :2] for obs in _obs_hist])\n",
    "fig, ax = plt.subplots(1, 1, figsize=(5, 4), tight_layout=True)\n",
    "ax.scatter(\n",
    "    [odor_source[0, 0]],\n",
    "    [odor_source[0, 1]],\n",
    "    marker=\"o\",\n",
    "    color=\"tab:orange\",\n",
    "    s=50,\n",
    "    label=\"Source 1\",\n",
    ")\n",
    "ax.scatter(\n",
    "    [odor_source[1, 0]],\n",
    "    [odor_source[1, 1]],\n",
    "    marker=\"o\",\n",
    "    color=\"tab:blue\",\n",
    "    s=50,\n",
    "    label=\"Source 2\",\n",
    ")\n",
    "ax.scatter(\n",
    "    [odor_source[2, 0]],\n",
    "    [odor_source[2, 1]],\n",
    "    marker=\"o\",\n",
    "    color=\"tab:pink\",\n",
    "    s=50,\n",
    "    label=\"Source 3\",\n",
    ")\n",
    "ax.scatter(\n",
    "    [odor_source[3, 0]],\n",
    "    [odor_source[3, 1]],\n",
    "    marker=\"o\",\n",
    "    color=\"tab:red\",\n",
    "    s=50,\n",
    "    label=\"Source 4\",\n",
    ")\n",
    "ax.scatter(\n",
    "    [odor_source[4, 0]],\n",
    "    [odor_source[4, 1]],\n",
    "    marker=\"o\",\n",
    "    color=\"tab:green\",\n",
    "    s=50,\n",
    "    label=\"Source 5\",\n",
    ")\n",
    "ax.plot(\n",
    "    fly_pos_hist[:, 0],\n",
    "    fly_pos_hist[:, 1],\n",
    "    color=\"k\",\n",
    "    label=\"Fly trajectory exploration\",\n",
    ")\n",
    "ax.set_aspect(\"equal\")\n",
    "ax.set_xlim(-1, 40)\n",
    "ax.set_ylim(-10, 10)\n",
    "ax.set_xlabel(\"x (mm)\")\n",
    "ax.set_ylabel(\"y (mm)\")\n",
    "ax.legend(ncols=3, loc=\"lower center\", bbox_to_anchor=(0.5, -0.6))\n",
    "fig.savefig(\n",
    "    f\"/home/nmf-learning/flygym-scratch/outputs/plots/{name}/odor_taxis_trajectory_respawn.png\"\n",
    ")"
   ]
  },
  {
   "cell_type": "code",
   "execution_count": null,
   "metadata": {},
   "outputs": [],
   "source": [
    "sim.save_video(\n",
    "    f\"/home/nmf-learning/flygym-scratch/outputs/plots/{name}/odor_taxis_video_respawn_internal_state.mp4\"\n",
    ")"
   ]
  },
  {
   "cell_type": "code",
   "execution_count": null,
   "metadata": {},
   "outputs": [],
   "source": [
    "# Plot the trajectory\n",
    "fly_pos_hist = np.array([obs[\"fly\"][0, :2] for obs in obs_hist])\n",
    "_fly_pos_hist = np.array([obs[\"fly\"][0, :2] for obs in _obs_hist])\n",
    "fig, ax = plt.subplots(1, 1, figsize=(5, 4), tight_layout=True)\n",
    "ax.scatter(\n",
    "    [odor_source[0, 0]],\n",
    "    [odor_source[0, 1]],\n",
    "    marker=\"o\",\n",
    "    color=\"tab:orange\",\n",
    "    s=50,\n",
    "    label=\"Source 1\",\n",
    ")\n",
    "ax.scatter(\n",
    "    [odor_source[1, 0]],\n",
    "    [odor_source[1, 1]],\n",
    "    marker=\"o\",\n",
    "    color=\"tab:blue\",\n",
    "    s=50,\n",
    "    label=\"Source 2\",\n",
    ")\n",
    "ax.scatter(\n",
    "    [odor_source[2, 0]],\n",
    "    [odor_source[2, 1]],\n",
    "    marker=\"o\",\n",
    "    color=\"tab:pink\",\n",
    "    s=50,\n",
    "    label=\"Source 3\",\n",
    ")\n",
    "ax.scatter(\n",
    "    [odor_source[3, 0]],\n",
    "    [odor_source[3, 1]],\n",
    "    marker=\"o\",\n",
    "    color=\"tab:red\",\n",
    "    s=50,\n",
    "    label=\"Source 4\",\n",
    ")\n",
    "ax.scatter(\n",
    "    [odor_source[4, 0]],\n",
    "    [odor_source[4, 1]],\n",
    "    marker=\"o\",\n",
    "    color=\"tab:green\",\n",
    "    s=50,\n",
    "    label=\"Source 5\",\n",
    ")\n",
    "ax.plot(fly_pos_hist[:, 0], fly_pos_hist[:, 1], color=\"k\", label=\"Discovering phase\")\n",
    "ax.plot(_fly_pos_hist[:, 0], _fly_pos_hist[:, 1], color=\"r\", label=\"Exploration phase\")\n",
    "ax.set_aspect(\"equal\")\n",
    "ax.set_xlim(-1, 40)\n",
    "ax.set_ylim(-10, 10)\n",
    "ax.set_xlabel(\"x (mm)\")\n",
    "ax.set_ylabel(\"y (mm)\")\n",
    "ax.legend(ncols=3, loc=\"lower center\", bbox_to_anchor=(0.5, -0.6))\n",
    "fig.savefig(\n",
    "    f\"/home/nmf-learning/flygym-scratch/outputs/plots/{name}/odor_taxis_trajectory_respawn.png\"\n",
    ")"
   ]
  },
  {
   "cell_type": "code",
   "execution_count": null,
   "metadata": {},
   "outputs": [],
   "source": []
  }
 ],
 "metadata": {
  "kernelspec": {
   "display_name": "nmf",
   "language": "python",
   "name": "python3"
  },
  "language_info": {
   "codemirror_mode": {
    "name": "ipython",
    "version": 3
   },
   "file_extension": ".py",
   "mimetype": "text/x-python",
   "name": "python",
   "nbconvert_exporter": "python",
   "pygments_lexer": "ipython3",
   "version": "3.11.5"
  }
 },
 "nbformat": 4,
 "nbformat_minor": 2
}

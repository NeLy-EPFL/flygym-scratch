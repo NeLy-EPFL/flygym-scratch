{
 "cells": [
  {
   "cell_type": "markdown",
   "metadata": {},
   "source": [
    "In this notebook, a first approach to learning and memory of the *Drosophila* is implemented: after having generating an attractive and an aversive gain, the fly explores the arena. This notebook shows step by step how the fly explores, then it gets respawned and it starts its exploration again."
   ]
  },
  {
   "cell_type": "code",
   "execution_count": 8,
   "metadata": {},
   "outputs": [],
   "source": [
    "import numpy as np\n",
    "import os\n",
    "from pathlib import Path\n",
    "import logging\n",
    "from tqdm import trange\n",
    "from flygym.mujoco.arena import OdorArena\n",
    "import matplotlib.pyplot as plt\n",
    "from flygym.mujoco import Parameters\n",
    "from gymnasium.utils.env_checker import check_env\n",
    "from flygym.mujoco.examples.turning_controller import HybridTurningNMF\n",
    "\n",
    "\n",
    "# Odor source: array of shape (num_odor_sources, 3) - xyz coords of odor sources\n",
    "odor_source = np.array([[24, 0, 1.5], [8, -4, 1.5]])  # , [16, 4, 1.5]])\n",
    "\n",
    "# Peak intensities: array of shape (num_odor_sources, odor_dimesions)\n",
    "# For each odor source, if the intensity is (x, 0) then the odor is in the 1st dimension\n",
    "# (in this case attractive). If it's (0, x) then it's in the 2nd dimension (in this case\n",
    "# aversive)\n",
    "peak_intensity = np.array([[1, 0], [0, 1]])  # , [0, 1]])\n",
    "\n",
    "odor_dimesions = len(peak_intensity[0])\n",
    "\n",
    "# The reward assigned to each source\n",
    "odor_valence = [2, 1]\n",
    "\n",
    "logging.basicConfig(level=logging.INFO)"
   ]
  },
  {
   "cell_type": "code",
   "execution_count": 9,
   "metadata": {},
   "outputs": [],
   "source": [
    "# Set up the arena\n",
    "arena = OdorArena(\n",
    "    odor_source=odor_source,\n",
    "    peak_intensity=peak_intensity,\n",
    "    odor_valence=odor_valence,\n",
    "    diffuse_func=lambda x: x**-2,\n",
    "    marker_size=0.3,\n",
    ")"
   ]
  },
  {
   "cell_type": "code",
   "execution_count": 10,
   "metadata": {},
   "outputs": [
    {
     "data": {
      "text/plain": [
       "(-0.5, 799.5, 607.5, -0.5)"
      ]
     },
     "execution_count": 10,
     "metadata": {},
     "output_type": "execute_result"
    },
    {
     "data": {
      "image/png": "[encoded data removed]",
      "text/plain": [
       "<Figure size 500x400 with 1 Axes>"
      ]
     },
     "metadata": {},
     "output_type": "display_data"
    }
   ],
   "source": [
    "# Add the NeuroMechFLy\n",
    "contact_sensor_placements = [\n",
    "    f\"{leg}{segment}\"\n",
    "    for leg in [\"LF\", \"LM\", \"LH\", \"RF\", \"RM\", \"RH\"]\n",
    "    for segment in [\"Tibia\", \"Tarsus1\", \"Tarsus2\", \"Tarsus3\", \"Tarsus4\", \"Tarsus5\"]\n",
    "]\n",
    "sim_params = Parameters(\n",
    "    timestep=1e-4,\n",
    "    render_mode=\"saved\",\n",
    "    render_playspeed=0.5,\n",
    "    render_window_size=(800, 608),\n",
    "    enable_olfaction=True,\n",
    "    enable_adhesion=True,\n",
    "    draw_adhesion=False,\n",
    "    render_camera=\"birdeye_cam\",\n",
    ")\n",
    "sim = HybridTurningNMF(\n",
    "    sim_params=sim_params,\n",
    "    arena=arena,\n",
    "    spawn_pos=(0, 0, 0.2),\n",
    "    contact_sensor_placements=contact_sensor_placements,\n",
    "    simulation_time=10,\n",
    ")\n",
    "for i in range(1):\n",
    "    sim.step(np.zeros(2))\n",
    "    sim.render()\n",
    "fig, ax = plt.subplots(1, 1, figsize=(5, 4), tight_layout=True)\n",
    "ax.imshow(sim._frames[-1])\n",
    "ax.axis(\"off\")\n",
    "#fig.savefig(\"./outputs/olfaction_env.png\")"
   ]
  },
  {
   "cell_type": "code",
   "execution_count": 11,
   "metadata": {},
   "outputs": [
    {
     "data": {
      "text/plain": [
       "0.0001"
      ]
     },
     "execution_count": 11,
     "metadata": {},
     "output_type": "execute_result"
    }
   ],
   "source": [
    "# Print the actual time before the start of the simulation\n",
    "sim.curr_time"
   ]
  },
  {
   "cell_type": "code",
   "execution_count": 12,
   "metadata": {},
   "outputs": [
    {
     "name": "stderr",
     "output_type": "stream",
     "text": [
      "100%|██████████| 200/200 [01:54<00:00,  1.74it/s]\n"
     ]
    }
   ],
   "source": [
    "# The exploration starts\n",
    "# we can compute random gains using the arena.generate_random_gains() function or\n",
    "# we can define them manually\n",
    "explore = True\n",
    "attractive_gain, aversive_gain = arena.generate_random_gains(explore)\n",
    "\"\"\"attractive_gain = 10\n",
    "aversive_gain = -200\"\"\"\n",
    "decision_interval = 0.05\n",
    "run_time = sim.simulation_time\n",
    "num_decision_steps = int(run_time / decision_interval)\n",
    "physics_steps_per_decision_step = int(decision_interval / sim_params.timestep)\n",
    "\n",
    "obs_hist = []\n",
    "odor_history = []\n",
    "obs, _ = sim.reset()\n",
    "for i in trange(num_decision_steps):\n",
    "    attractive_intensities = np.average(\n",
    "        obs[\"odor_intensity\"][0, :].reshape(2, 2), axis=0, weights=[9, 1]\n",
    "    )\n",
    "    aversive_intensities = np.average(\n",
    "        obs[\"odor_intensity\"][1, :].reshape(2, 2), axis=0, weights=[10, 0]\n",
    "    )\n",
    "    attractive_bias = (\n",
    "        attractive_gain\n",
    "        * (attractive_intensities[0] - attractive_intensities[1])\n",
    "        / attractive_intensities.mean()\n",
    "    )\n",
    "    aversive_bias = (\n",
    "        aversive_gain\n",
    "        * (aversive_intensities[0] - aversive_intensities[1])\n",
    "        / aversive_intensities.mean()\n",
    "    )\n",
    "    effective_bias = aversive_bias + attractive_bias\n",
    "    effective_bias_norm = np.tanh(effective_bias**2) * np.sign(effective_bias)\n",
    "    assert np.sign(effective_bias_norm) == np.sign(effective_bias)\n",
    "\n",
    "    control_signal = np.ones((2,))\n",
    "    side_to_modulate = int(effective_bias_norm > 0)\n",
    "    modulation_amount = np.abs(effective_bias_norm) * 0.8\n",
    "    control_signal[side_to_modulate] -= modulation_amount\n",
    "\n",
    "    for j in range(physics_steps_per_decision_step):\n",
    "        obs, reward, terminated, truncated, _ = sim.step(control_signal)\n",
    "        rendered_img = sim.render()\n",
    "        if rendered_img is not None:\n",
    "            # record odor intensity too for video\n",
    "            odor_history.append(obs[\"odor_intensity\"])\n",
    "        obs_hist.append(obs)\n",
    "\n",
    "        if reward != None:\n",
    "            logging.info(\"A reward was found, let's start again exploring\")\n",
    "            logging.info(\"Elapsed time in the simulation\", sim.curr_time)\n",
    "            break\n",
    "        if terminated:\n",
    "            logging.info(\n",
    "                \"Time for the simulation has elapsed. Simulation is terminated\"\n",
    "            )\n",
    "            logging.info(\"Elapsed time in the simulation\", sim.curr_time)\n",
    "            break\n",
    "        if truncated:\n",
    "            logging.info(\"A reward was not found, simulation is truncated\")\n",
    "            logging.info(\"Elapsed time in the simulation\", sim.curr_time)\n",
    "            break"
   ]
  },
  {
   "cell_type": "code",
   "execution_count": 13,
   "metadata": {},
   "outputs": [
    {
     "name": "stdout",
     "output_type": "stream",
     "text": [
      "3.688400000003359\n",
      "{1: 2}\n"
     ]
    }
   ],
   "source": [
    "# Check the current time in the simulation\n",
    "print(sim.curr_time)\n",
    "# Check if any reward has been found\n",
    "print(sim.fly_valence_dictionary)"
   ]
  },
  {
   "cell_type": "code",
   "execution_count": 15,
   "metadata": {},
   "outputs": [],
   "source": [
    "# Choose a name to save both the video and the trajectory\n",
    "name = \"basic_random_simulation_\"\n",
    "path = Path(f\"/home/nmf-learning/flygym-scratch/outputs/plots/{name}\")\n",
    "os.mkdir(path)"
   ]
  },
  {
   "cell_type": "code",
   "execution_count": 17,
   "metadata": {},
   "outputs": [
    {
     "data": {
      "image/png": "[encoded data removed]",
      "text/plain": [
       "<Figure size 500x400 with 1 Axes>"
      ]
     },
     "metadata": {},
     "output_type": "display_data"
    }
   ],
   "source": [
    "# Plot the trajectory\n",
    "fly_pos_hist = np.array([obs[\"fly\"][0, :2] for obs in obs_hist])\n",
    "fig, ax = plt.subplots(1, 1, figsize=(5, 4), tight_layout=True)\n",
    "ax.scatter(\n",
    "    [odor_source[0, 0]],\n",
    "    [odor_source[0, 1]],\n",
    "    marker=\"o\",\n",
    "    color=\"tab:orange\",\n",
    "    s=50,\n",
    "    label=\"Attractive\",\n",
    ")\n",
    "ax.scatter(\n",
    "    [odor_source[1, 0]],\n",
    "    [odor_source[1, 1]],\n",
    "    marker=\"o\",\n",
    "    color=\"tab:blue\",\n",
    "    s=50,\n",
    "    label=\"Aversive\",\n",
    ")\n",
    "# ax.scatter([odor_source[2, 0]], [odor_source[2, 1]], marker=\"o\", color=\"tab:blue\", s=50)\n",
    "ax.plot(fly_pos_hist[:, 0], fly_pos_hist[:, 1], color=\"k\", label=\"Fly trajectory\")\n",
    "ax.set_aspect(\"equal\")\n",
    "ax.set_xlim(-1, 40)\n",
    "ax.set_ylim(-10, 10)\n",
    "ax.set_xlabel(\"x (mm)\")\n",
    "ax.set_ylabel(\"y (mm)\")\n",
    "ax.legend(ncols=3, loc=\"lower center\", bbox_to_anchor=(0.5, -0.6))\n",
    "fig.savefig(f\"/home/nmf-learning/flygym-scratch/outputs/plots/{name}/odor_taxis_trajectory.png\")"
   ]
  },
  {
   "cell_type": "code",
   "execution_count": 18,
   "metadata": {},
   "outputs": [],
   "source": [
    "sim.save_video(\n",
    "    f\"/home/nmf-learning/flygym-scratch/outputs/plots/{name}/odor_taxis_video.mp4\"\n",
    ")"
   ]
  },
  {
   "cell_type": "code",
   "execution_count": null,
   "metadata": {},
   "outputs": [],
   "source": [
    "# The fly is respawned to its original position\n",
    "_, _ = sim.respawn()"
   ]
  },
  {
   "cell_type": "code",
   "execution_count": null,
   "metadata": {},
   "outputs": [],
   "source": [
    "# The gains for the new exploration are generated\n",
    "attractive_gain, aversive_gain = arena.generate_random_gains(explore)\n",
    "print(attractive_gain, aversive_gain)"
   ]
  },
  {
   "cell_type": "code",
   "execution_count": null,
   "metadata": {},
   "outputs": [],
   "source": [
    "# The fly explores the arena\n",
    "for i in trange(num_decision_steps):\n",
    "    attractive_intensities = np.average(\n",
    "        obs[\"odor_intensity\"][0, :].reshape(2, 2), axis=0, weights=[9, 1]\n",
    "    )\n",
    "    aversive_intensities = np.average(\n",
    "        obs[\"odor_intensity\"][1, :].reshape(2, 2), axis=0, weights=[10, 0]\n",
    "    )\n",
    "    attractive_bias = (\n",
    "        attractive_gain\n",
    "        * (attractive_intensities[0] - attractive_intensities[1])\n",
    "        / attractive_intensities.mean()\n",
    "    )\n",
    "    aversive_bias = (\n",
    "        aversive_gain\n",
    "        * (aversive_intensities[0] - aversive_intensities[1])\n",
    "        / aversive_intensities.mean()\n",
    "    )\n",
    "    effective_bias = aversive_bias + attractive_bias\n",
    "    effective_bias_norm = np.tanh(effective_bias**2) * np.sign(effective_bias)\n",
    "    assert np.sign(effective_bias_norm) == np.sign(effective_bias)\n",
    "\n",
    "    control_signal = np.ones((2,))\n",
    "    side_to_modulate = int(effective_bias_norm > 0)\n",
    "    modulation_amount = np.abs(effective_bias_norm) * 0.8\n",
    "    control_signal[side_to_modulate] -= modulation_amount\n",
    "\n",
    "    for j in range(physics_steps_per_decision_step):\n",
    "        obs, reward, terminated, truncated, _ = sim.step(control_signal)\n",
    "        rendered_img = sim.render()\n",
    "        if rendered_img is not None:\n",
    "            # record odor intensity too for video\n",
    "            odor_history.append(obs[\"odor_intensity\"])\n",
    "        obs_hist.append(obs)\n",
    "\n",
    "        if reward != None:\n",
    "            logging.info(\"A reward was found, let's start again exploring\")\n",
    "            logging.info(\"Elapsed time in the simulation\", sim.curr_time)\n",
    "            break\n",
    "        if terminated:\n",
    "            logging.info(\n",
    "                \"Time for the simulation has elapsed. Simulation is terminated\"\n",
    "            )\n",
    "            logging.info(\"Elapsed time in the simulation\", sim.curr_time)\n",
    "            break\n",
    "        if truncated:\n",
    "            logging.info(\"A reward was not found, simulation is truncated\")\n",
    "            logging.info(\"Elapsed time in the simulation\", sim.curr_time)\n",
    "            break"
   ]
  },
  {
   "cell_type": "code",
   "execution_count": null,
   "metadata": {},
   "outputs": [],
   "source": [
    "# Check the elapsed time in the simulation\n",
    "print(sim.elapsed_time)"
   ]
  },
  {
   "cell_type": "code",
   "execution_count": null,
   "metadata": {},
   "outputs": [],
   "source": [
    "# Plotting the updated trajectory\n",
    "fly_pos_hist = np.array([obs[\"fly\"][0, :2] for obs in obs_hist])\n",
    "fig, ax = plt.subplots(1, 1, figsize=(5, 4), tight_layout=True)\n",
    "ax.scatter(\n",
    "    [odor_source[0, 0]],\n",
    "    [odor_source[0, 1]],\n",
    "    marker=\"o\",\n",
    "    color=\"tab:orange\",\n",
    "    s=50,\n",
    "    label=\"Attractive\",\n",
    ")\n",
    "ax.scatter(\n",
    "    [odor_source[1, 0]],\n",
    "    [odor_source[1, 1]],\n",
    "    marker=\"o\",\n",
    "    color=\"tab:blue\",\n",
    "    s=50,\n",
    "    label=\"Aversive\",\n",
    ")\n",
    "# ax.scatter([odor_source[2, 0]], [odor_source[2, 1]], marker=\"o\", color=\"tab:blue\", s=50)\n",
    "ax.plot(fly_pos_hist[:, 0], fly_pos_hist[:, 1], color=\"k\", label=\"Fly trajectory\")\n",
    "ax.set_aspect(\"equal\")\n",
    "ax.set_xlim(-1, 40)\n",
    "ax.set_ylim(-5, 5)\n",
    "ax.set_xlabel(\"x (mm)\")\n",
    "ax.set_ylabel(\"y (mm)\")\n",
    "ax.legend(ncols=3, loc=\"lower center\", bbox_to_anchor=(0.5, -0.6))\n",
    "fig.savefig(f\"/home/nmf-learning/flygym-scratch/outputs/plots/{name}/odor_taxis_trajectory.png\")"
   ]
  },
  {
   "cell_type": "code",
   "execution_count": null,
   "metadata": {},
   "outputs": [],
   "source": [
    "sim.save_video(\n",
    "    f\"/home/nmf-learning/flygym-scratch/outputs/plots/{name}/odor_taxis_video_.mp4\"\n",
    ")"
   ]
  },
  {
   "cell_type": "code",
   "execution_count": null,
   "metadata": {},
   "outputs": [],
   "source": [
    "# The fly is respawned to its original position\n",
    "_, _ = sim.respawn()"
   ]
  },
  {
   "cell_type": "code",
   "execution_count": null,
   "metadata": {},
   "outputs": [],
   "source": [
    "# In this case, we are guiding the fly towards the aversive source by setting \n",
    "# the gains manually\n",
    "attractive_gain = 80\n",
    "aversive_gain = -500\n",
    "for i in trange(num_decision_steps):\n",
    "    attractive_intensities = np.average(\n",
    "        obs[\"odor_intensity\"][0, :].reshape(2, 2), axis=0, weights=[9, 1]\n",
    "    )\n",
    "    aversive_intensities = np.average(\n",
    "        obs[\"odor_intensity\"][1, :].reshape(2, 2), axis=0, weights=[10, 0]\n",
    "    )\n",
    "    attractive_bias = (\n",
    "        attractive_gain\n",
    "        * (attractive_intensities[0] - attractive_intensities[1])\n",
    "        / attractive_intensities.mean()\n",
    "    )\n",
    "    aversive_bias = (\n",
    "        aversive_gain\n",
    "        * (aversive_intensities[0] - aversive_intensities[1])\n",
    "        / aversive_intensities.mean()\n",
    "    )\n",
    "    effective_bias = aversive_bias + attractive_bias\n",
    "    effective_bias_norm = np.tanh(effective_bias**2) * np.sign(effective_bias)\n",
    "    assert np.sign(effective_bias_norm) == np.sign(effective_bias)\n",
    "\n",
    "    control_signal = np.ones((2,))\n",
    "    side_to_modulate = int(effective_bias_norm > 0)\n",
    "    modulation_amount = np.abs(effective_bias_norm) * 0.8\n",
    "    control_signal[side_to_modulate] -= modulation_amount\n",
    "\n",
    "    for j in range(physics_steps_per_decision_step):\n",
    "        obs, reward, terminated, truncated, _ = sim.step(control_signal)\n",
    "        rendered_img = sim.render()\n",
    "        if rendered_img is not None:\n",
    "            # record odor intensity too for video\n",
    "            odor_history.append(obs[\"odor_intensity\"])\n",
    "        obs_hist.append(obs)\n",
    "\n",
    "        if reward != None:\n",
    "            logging.info(\"A reward was found, let's start again exploring\")\n",
    "            logging.info(\"Elapsed time in the simulation\", sim.curr_time)\n",
    "            break\n",
    "        if terminated:\n",
    "            logging.info(\n",
    "                \"Time for the simulation has elapsed. Simulation is terminated\"\n",
    "            )\n",
    "            logging.info(\"Elapsed time in the simulation\", sim.curr_time)\n",
    "            break\n",
    "        if truncated:\n",
    "            logging.info(\"A reward was not found, simulation is truncated\")\n",
    "            logging.info(\"Elapsed time in the simulation\", sim.curr_time)\n",
    "            break"
   ]
  },
  {
   "cell_type": "code",
   "execution_count": null,
   "metadata": {},
   "outputs": [],
   "source": [
    "# Plotting the updated trajectory\n",
    "fly_pos_hist = np.array([obs[\"fly\"][0, :2] for obs in obs_hist])\n",
    "fig, ax = plt.subplots(1, 1, figsize=(5, 4), tight_layout=True)\n",
    "ax.scatter(\n",
    "    [odor_source[0, 0]],\n",
    "    [odor_source[0, 1]],\n",
    "    marker=\"o\",\n",
    "    color=\"tab:orange\",\n",
    "    s=50,\n",
    "    label=\"Attractive\",\n",
    ")\n",
    "ax.scatter(\n",
    "    [odor_source[1, 0]],\n",
    "    [odor_source[1, 1]],\n",
    "    marker=\"o\",\n",
    "    color=\"tab:blue\",\n",
    "    s=50,\n",
    "    label=\"Aversive\",\n",
    ")\n",
    "# ax.scatter([odor_source[2, 0]], [odor_source[2, 1]], marker=\"o\", color=\"tab:blue\", s=50)\n",
    "ax.plot(fly_pos_hist[:, 0], fly_pos_hist[:, 1], color=\"k\", label=\"Fly trajectory\")\n",
    "ax.set_aspect(\"equal\")\n",
    "ax.set_xlim(-1, 40)\n",
    "ax.set_ylim(-5, 5)\n",
    "ax.set_xlabel(\"x (mm)\")\n",
    "ax.set_ylabel(\"y (mm)\")\n",
    "ax.legend(ncols=3, loc=\"lower center\", bbox_to_anchor=(0.5, -0.6))\n",
    "fig.savefig(f\"/home/nmf-learning/flygym-scratch/outputs/plots/{name}/odor_taxis_trajectory.png\")"
   ]
  },
  {
   "cell_type": "code",
   "execution_count": null,
   "metadata": {},
   "outputs": [],
   "source": [
    "sim.save_video(sim.save_video(\n",
    "    f\"/home/nmf-learning/flygym-scratch/outputs/plots/{name}/odor_taxis_video_1.mp4\"\n",
    "))"
   ]
  }
 ],
 "metadata": {
  "kernelspec": {
   "display_name": "Python 3",
   "language": "python",
   "name": "python3"
  },
  "language_info": {
   "codemirror_mode": {
    "name": "ipython",
    "version": 3
   },
   "file_extension": ".py",
   "mimetype": "text/x-python",
   "name": "python",
   "nbconvert_exporter": "python",
   "pygments_lexer": "ipython3",
   "version": "3.11.5"
  }
 },
 "nbformat": 4,
 "nbformat_minor": 2
}

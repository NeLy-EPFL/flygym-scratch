{
 "cells": [
  {
   "cell_type": "code",
   "execution_count": 1,
   "metadata": {},
   "outputs": [],
   "source": [
    "from flygym.mujoco.arena.food_sources import FoodSource\n",
    "from flygym.mujoco.arena.food_environment import OdorArenaEnriched\n",
    "import numpy as np\n",
    "import os\n",
    "from pathlib import Path\n",
    "import logging\n",
    "import random\n",
    "from tqdm import trange\n",
    "from flygym.mujoco.arena import OdorArenaEnriched, change_rgba\n",
    "import matplotlib.pyplot as plt\n",
    "import matplotlib.cm as cm\n",
    "from flygym.mujoco import Parameters\n",
    "from flygym.mujoco.examples.turning_controller import HybridTurningNMF\n",
    "\n",
    "\n",
    "# Odor source: array of shape (num_odor_sources, 3) - xyz coords of odor sources\n",
    "sources = [\n",
    "    FoodSource([24, 0, 1.5], [1, 3], 12, change_rgba([255, 127, 14, 1])),\n",
    "    FoodSource([8, -4, 1.5], [3, 7], 10, change_rgba([31, 119, 180, 1])),\n",
    "    FoodSource([16, 4, 1.5], [2, 6], 10, change_rgba([255, 192, 203, 1])),\n",
    "    FoodSource([12, -8, 1.5], [5, 3], 17, change_rgba([255, 0, 0, 1])),\n",
    "    FoodSource([20, 3, 1.5], [9, 3], 20, change_rgba([0, 255, 0, 1])),\n",
    "]\n",
    "\n",
    "logging.basicConfig(level=logging.INFO)"
   ]
  },
  {
   "cell_type": "code",
   "execution_count": 2,
   "metadata": {},
   "outputs": [],
   "source": [
    "# Set up the arena\n",
    "arena = OdorArenaEnriched(\n",
    "    food_sources=sources,\n",
    "    size=(50, 50),\n",
    "    diffuse_func=lambda x: x**-2,\n",
    "    marker_size=0.3,\n",
    "    key_angle=True,  # we add this boolean so that we compute the key for the valence dictionary by using the angle formed in the complex plane\n",
    ")\n",
    "# Add the NeuroMechFLy\n",
    "contact_sensor_placements = [\n",
    "    f\"{leg}{segment}\"\n",
    "    for leg in [\"LF\", \"LM\", \"LH\", \"RF\", \"RM\", \"RH\"]\n",
    "    for segment in [\"Tibia\", \"Tarsus1\", \"Tarsus2\", \"Tarsus3\", \"Tarsus4\", \"Tarsus5\"]\n",
    "]\n",
    "sim_params = Parameters(\n",
    "    timestep=1e-4,\n",
    "    render_mode=\"saved\",\n",
    "    render_playspeed=0.5,\n",
    "    render_window_size=(800, 608),\n",
    "    enable_olfaction=True,\n",
    "    enable_adhesion=True,\n",
    "    draw_adhesion=False,\n",
    "    render_camera=\"birdeye_cam\",\n",
    ")\n",
    "sim = HybridTurningNMF(\n",
    "    sim_params=sim_params,\n",
    "    arena=arena,\n",
    "    spawn_pos=(0, 0, 0.2),\n",
    "    contact_sensor_placements=contact_sensor_placements,\n",
    "    simulation_time=140,\n",
    ")"
   ]
  },
  {
   "cell_type": "code",
   "execution_count": 3,
   "metadata": {},
   "outputs": [
    {
     "data": {
      "text/plain": [
       "(-0.5, 799.5, 607.5, -0.5)"
      ]
     },
     "execution_count": 3,
     "metadata": {},
     "output_type": "execute_result"
    },
    {
     "data": {
      "image/png": "[encoded data removed]",
      "text/plain": [
       "<Figure size 500x400 with 1 Axes>"
      ]
     },
     "metadata": {},
     "output_type": "display_data"
    }
   ],
   "source": [
    "for i in range(300):\n",
    "    sim.step(np.zeros(2))\n",
    "    sim.render()\n",
    "fig, ax = plt.subplots(1, 1, figsize=(5, 4), tight_layout=True)\n",
    "ax.imshow(sim._frames[-1])\n",
    "ax.axis(\"off\")"
   ]
  },
  {
   "cell_type": "code",
   "execution_count": 4,
   "metadata": {},
   "outputs": [
    {
     "name": "stdout",
     "output_type": "stream",
     "text": [
      "2\n"
     ]
    },
    {
     "name": "stderr",
     "output_type": "stream",
     "text": [
      "  0%|          | 2/4000 [00:00<17:10,  3.88it/s]"
     ]
    },
    {
     "name": "stderr",
     "output_type": "stream",
     "text": [
      "  6%|▌         | 243/4000 [01:18<19:54,  3.14it/s]"
     ]
    },
    {
     "name": "stdout",
     "output_type": "stream",
     "text": [
      "10\n",
      "{0.32175055439664224: 14.0, 0.4048917862850834: 0, 1.0303768265243125: 0, 1.2490457723982544: 0}\n"
     ]
    },
    {
     "name": "stderr",
     "output_type": "stream",
     "text": [
      "  8%|▊         | 337/4000 [01:47<16:52,  3.62it/s]"
     ]
    },
    {
     "name": "stdout",
     "output_type": "stream",
     "text": [
      "20\n",
      "{0.32175055439664224: 13.0, 0.4048917862850834: 0, 1.0303768265243125: 14.0, 1.2490457723982544: 0}\n"
     ]
    },
    {
     "name": "stderr",
     "output_type": "stream",
     "text": [
      " 29%|██▉       | 1166/4000 [05:53<14:17,  3.30it/s]\n"
     ]
    },
    {
     "ename": "KeyboardInterrupt",
     "evalue": "",
     "output_type": "error",
     "traceback": [
      "\u001b[0;31m---------------------------------------------------------------------------\u001b[0m",
      "\u001b[0;31mKeyboardInterrupt\u001b[0m                         Traceback (most recent call last)",
      "\u001b[1;32m/home/nmf-learning/flygym-scratch/notebooks/learning_memory/food_environment_demo.ipynb Cell 4\u001b[0m line \u001b[0;36m2\n\u001b[1;32m     <a href='vscode-notebook-cell://ssh-remote%2B128.178.197.47/home/nmf-learning/flygym-scratch/notebooks/learning_memory/food_environment_demo.ipynb#W3sdnNjb2RlLXJlbW90ZQ%3D%3D?line=21'>22</a>\u001b[0m control_signal \u001b[39m=\u001b[39m arena\u001b[39m.\u001b[39mgenerate_specific_turning_control(source, sim)\n\u001b[1;32m     <a href='vscode-notebook-cell://ssh-remote%2B128.178.197.47/home/nmf-learning/flygym-scratch/notebooks/learning_memory/food_environment_demo.ipynb#W3sdnNjb2RlLXJlbW90ZQ%3D%3D?line=22'>23</a>\u001b[0m \u001b[39mfor\u001b[39;00m _ \u001b[39min\u001b[39;00m \u001b[39mrange\u001b[39m(physics_steps_per_decision_step):\n\u001b[0;32m---> <a href='vscode-notebook-cell://ssh-remote%2B128.178.197.47/home/nmf-learning/flygym-scratch/notebooks/learning_memory/food_environment_demo.ipynb#W3sdnNjb2RlLXJlbW90ZQ%3D%3D?line=23'>24</a>\u001b[0m     obs, reward, terminated, truncated, _ \u001b[39m=\u001b[39m sim\u001b[39m.\u001b[39;49mstep(control_signal, \u001b[39mFalse\u001b[39;49;00m, \u001b[39mTrue\u001b[39;49;00m, \u001b[39mTrue\u001b[39;49;00m)\n\u001b[1;32m     <a href='vscode-notebook-cell://ssh-remote%2B128.178.197.47/home/nmf-learning/flygym-scratch/notebooks/learning_memory/food_environment_demo.ipynb#W3sdnNjb2RlLXJlbW90ZQ%3D%3D?line=24'>25</a>\u001b[0m     rendered_img \u001b[39m=\u001b[39m sim\u001b[39m.\u001b[39mrender()\n\u001b[1;32m     <a href='vscode-notebook-cell://ssh-remote%2B128.178.197.47/home/nmf-learning/flygym-scratch/notebooks/learning_memory/food_environment_demo.ipynb#W3sdnNjb2RlLXJlbW90ZQ%3D%3D?line=25'>26</a>\u001b[0m     \u001b[39mif\u001b[39;00m rendered_img \u001b[39mis\u001b[39;00m \u001b[39mnot\u001b[39;00m \u001b[39mNone\u001b[39;00m:\n\u001b[1;32m     <a href='vscode-notebook-cell://ssh-remote%2B128.178.197.47/home/nmf-learning/flygym-scratch/notebooks/learning_memory/food_environment_demo.ipynb#W3sdnNjb2RlLXJlbW90ZQ%3D%3D?line=26'>27</a>\u001b[0m         \u001b[39m# record odor intensity too for video\u001b[39;00m\n",
      "File \u001b[0;32m~/flygym-scratch/flygym/mujoco/examples/turning_controller.py:369\u001b[0m, in \u001b[0;36mHybridTurningNMF.step\u001b[0;34m(self, action, truncation, angle_key, food_source)\u001b[0m\n\u001b[1;32m    363\u001b[0m     adhesion_onoff\u001b[39m.\u001b[39mappend(my_adhesion_onoff)\n\u001b[1;32m    365\u001b[0m action \u001b[39m=\u001b[39m {\n\u001b[1;32m    366\u001b[0m     \u001b[39m\"\u001b[39m\u001b[39mjoints\u001b[39m\u001b[39m\"\u001b[39m: np\u001b[39m.\u001b[39marray(np\u001b[39m.\u001b[39mconcatenate(joints_angles)),\n\u001b[1;32m    367\u001b[0m     \u001b[39m\"\u001b[39m\u001b[39madhesion\u001b[39m\u001b[39m\"\u001b[39m: np\u001b[39m.\u001b[39marray(adhesion_onoff)\u001b[39m.\u001b[39mastype(\u001b[39mint\u001b[39m),\n\u001b[1;32m    368\u001b[0m }\n\u001b[0;32m--> 369\u001b[0m \u001b[39mreturn\u001b[39;00m \u001b[39msuper\u001b[39;49m()\u001b[39m.\u001b[39;49mstep(action, truncation, angle_key, food_source)\n",
      "File \u001b[0;32m~/flygym-scratch/flygym/mujoco/core.py:1378\u001b[0m, in \u001b[0;36mNeuroMechFly.step\u001b[0;34m(self, action, truncation, angle_key, food_source)\u001b[0m\n\u001b[1;32m   1376\u001b[0m \u001b[39mself\u001b[39m\u001b[39m.\u001b[39mcurr_time \u001b[39m+\u001b[39m\u001b[39m=\u001b[39m \u001b[39mself\u001b[39m\u001b[39m.\u001b[39mtimestep\n\u001b[1;32m   1377\u001b[0m \u001b[39mself\u001b[39m\u001b[39m.\u001b[39melapsed_time \u001b[39m+\u001b[39m\u001b[39m=\u001b[39m \u001b[39mself\u001b[39m\u001b[39m.\u001b[39mtimestep\n\u001b[0;32m-> 1378\u001b[0m observation \u001b[39m=\u001b[39m \u001b[39mself\u001b[39;49m\u001b[39m.\u001b[39;49mget_observation()\n\u001b[1;32m   1379\u001b[0m reward \u001b[39m=\u001b[39m \u001b[39mself\u001b[39m\u001b[39m.\u001b[39mget_reward(observation, angle_key, food_source)\n\u001b[1;32m   1380\u001b[0m terminated \u001b[39m=\u001b[39m \u001b[39mself\u001b[39m\u001b[39m.\u001b[39mis_terminated()\n",
      "File \u001b[0;32m~/flygym-scratch/flygym/mujoco/core.py:1754\u001b[0m, in \u001b[0;36mNeuroMechFly.get_observation\u001b[0;34m(self)\u001b[0m\n\u001b[1;32m   1752\u001b[0m \u001b[39m# joint sensors\u001b[39;00m\n\u001b[1;32m   1753\u001b[0m joint_obs \u001b[39m=\u001b[39m np\u001b[39m.\u001b[39mzeros((\u001b[39m3\u001b[39m, \u001b[39mlen\u001b[39m(\u001b[39mself\u001b[39m\u001b[39m.\u001b[39mactuated_joints)))\n\u001b[0;32m-> 1754\u001b[0m joint_sensordata \u001b[39m=\u001b[39m \u001b[39mself\u001b[39;49m\u001b[39m.\u001b[39;49mphysics\u001b[39m.\u001b[39;49mbind(\u001b[39mself\u001b[39;49m\u001b[39m.\u001b[39;49m_joint_sensors)\u001b[39m.\u001b[39;49msensordata\n\u001b[1;32m   1755\u001b[0m \u001b[39mfor\u001b[39;00m i, joint \u001b[39min\u001b[39;00m \u001b[39menumerate\u001b[39m(\u001b[39mself\u001b[39m\u001b[39m.\u001b[39mactuated_joints):\n\u001b[1;32m   1756\u001b[0m     base_idx \u001b[39m=\u001b[39m i \u001b[39m*\u001b[39m \u001b[39m5\u001b[39m\n",
      "File \u001b[0;32m~/miniconda3/envs/nmf/lib/python3.11/site-packages/dm_control/mjcf/physics.py:334\u001b[0m, in \u001b[0;36mBinding.__getattr__\u001b[0;34m(self, name)\u001b[0m\n\u001b[1;32m    332\u001b[0m \u001b[39mtry\u001b[39;00m:\n\u001b[1;32m    333\u001b[0m     out \u001b[39m=\u001b[39m \u001b[39mself\u001b[39m\u001b[39m.\u001b[39m_getattr_cache[name]\n\u001b[0;32m--> 334\u001b[0m     out\u001b[39m.\u001b[39;49m_synchronize_from_backing_array()  \u001b[39m# pylint: disable=protected-access\u001b[39;00m\n\u001b[1;32m    335\u001b[0m \u001b[39mexcept\u001b[39;00m \u001b[39mKeyError\u001b[39;00m:\n\u001b[1;32m    336\u001b[0m     array, index \u001b[39m=\u001b[39m \u001b[39mself\u001b[39m\u001b[39m.\u001b[39m_get_cached_array_and_index(name)\n",
      "File \u001b[0;32m~/miniconda3/envs/nmf/lib/python3.11/site-packages/dm_control/mjcf/physics.py:194\u001b[0m, in \u001b[0;36mSynchronizingArrayWrapper._synchronize_from_backing_array\u001b[0;34m(self)\u001b[0m\n\u001b[1;32m    192\u001b[0m \u001b[39mdef\u001b[39;00m \u001b[39m_synchronize_from_backing_array\u001b[39m(\u001b[39mself\u001b[39m):\n\u001b[1;32m    193\u001b[0m     \u001b[39mif\u001b[39;00m \u001b[39mself\u001b[39m\u001b[39m.\u001b[39m_physics\u001b[39m.\u001b[39mis_dirty \u001b[39mand\u001b[39;00m \u001b[39mnot\u001b[39;00m \u001b[39mself\u001b[39m\u001b[39m.\u001b[39m_triggers_dirty:\n\u001b[0;32m--> 194\u001b[0m         \u001b[39mself\u001b[39;49m\u001b[39m.\u001b[39;49m_physics\u001b[39m.\u001b[39;49mforward()\n\u001b[1;32m    195\u001b[0m     updated_values \u001b[39m=\u001b[39m \u001b[39mself\u001b[39m\u001b[39m.\u001b[39m_backing_array[\u001b[39mself\u001b[39m\u001b[39m.\u001b[39m_backing_index]\n\u001b[1;32m    196\u001b[0m     \u001b[39m# Faster than `super(...).__setitem__(slice(None), updated_values)`\u001b[39;00m\n",
      "File \u001b[0;32m~/miniconda3/envs/nmf/lib/python3.11/site-packages/dm_control/mjcf/physics.py:540\u001b[0m, in \u001b[0;36mPhysics.forward\u001b[0;34m(self)\u001b[0m\n\u001b[1;32m    538\u001b[0m \u001b[39mdef\u001b[39;00m \u001b[39mforward\u001b[39m(\u001b[39mself\u001b[39m):\n\u001b[1;32m    539\u001b[0m \u001b[39m    \u001b[39m\u001b[39m\"\"\"Recomputes the forward dynamics without advancing the simulation.\"\"\"\u001b[39;00m\n\u001b[0;32m--> 540\u001b[0m     \u001b[39msuper\u001b[39;49m()\u001b[39m.\u001b[39;49mforward()\n\u001b[1;32m    541\u001b[0m     \u001b[39mself\u001b[39m\u001b[39m.\u001b[39m_dirty \u001b[39m=\u001b[39m \u001b[39mFalse\u001b[39;00m\n",
      "File \u001b[0;32m~/miniconda3/envs/nmf/lib/python3.11/site-packages/dm_control/mujoco/engine.py:334\u001b[0m, in \u001b[0;36mPhysics.forward\u001b[0;34m(self)\u001b[0m\n\u001b[1;32m    328\u001b[0m \u001b[39m# Note: `mj_forward` differs from `mj_step1` in that it also recomputes\u001b[39;00m\n\u001b[1;32m    329\u001b[0m \u001b[39m# quantities that depend on acceleration (and therefore on the state of the\u001b[39;00m\n\u001b[1;32m    330\u001b[0m \u001b[39m# controls). For example `mj_forward` updates accelerometer and gyro\u001b[39;00m\n\u001b[1;32m    331\u001b[0m \u001b[39m# readings, whereas `mj_step1` does not.\u001b[39;00m\n\u001b[1;32m    332\u001b[0m \u001b[39m# http://www.mujoco.org/book/programming.html#siForward\u001b[39;00m\n\u001b[1;32m    333\u001b[0m \u001b[39mwith\u001b[39;00m \u001b[39mself\u001b[39m\u001b[39m.\u001b[39mcheck_invalid_state():\n\u001b[0;32m--> 334\u001b[0m     mujoco\u001b[39m.\u001b[39;49mmj_forward(\u001b[39mself\u001b[39;49m\u001b[39m.\u001b[39;49mmodel\u001b[39m.\u001b[39;49mptr, \u001b[39mself\u001b[39;49m\u001b[39m.\u001b[39;49mdata\u001b[39m.\u001b[39;49mptr)\n",
      "\u001b[0;31mKeyboardInterrupt\u001b[0m: "
     ]
    }
   ],
   "source": [
    "# Let's start the simulation\n",
    "decision_interval = 0.01\n",
    "run_time = 40  # sim.simulation_time / 2\n",
    "num_decision_steps = int(run_time / decision_interval)\n",
    "logging.info(\"Number of decision steps: \", num_decision_steps)\n",
    "physics_steps_per_decision_step = int(decision_interval / sim_params.timestep)\n",
    "logging.info(\"Physics steps per decision step: \", physics_steps_per_decision_step)\n",
    "\n",
    "obs_hist = []\n",
    "odor_history = []\n",
    "obs, _ = sim.reset()\n",
    "\n",
    "# Let's choose the source towards which the fly will walk\n",
    "source = sim.choose_odor_exploration()\n",
    "prev_reward = None\n",
    "logging.info(\"Going to the source \", source + 1)\n",
    "print(source)\n",
    "\n",
    "# Let's start the exploration\n",
    "for i in trange(num_decision_steps):\n",
    "    # compute the control signal to go towards the chosen source\n",
    "    control_signal = arena.generate_specific_turning_control(source, sim)\n",
    "    for _ in range(physics_steps_per_decision_step):\n",
    "        obs, reward, terminated, truncated, _ = sim.step(control_signal, False, True, True)\n",
    "        rendered_img = sim.render()\n",
    "        if rendered_img is not None:\n",
    "            # record odor intensity too for video\n",
    "            odor_history.append(obs[\"odor_intensity\"])\n",
    "        obs_hist.append(obs)\n",
    "\n",
    "        if reward != None:\n",
    "            # let's check if the fly has actually reached a new source\n",
    "            if prev_reward != reward:\n",
    "                print(reward)\n",
    "                # if it has, the sim.odor_scores, sim.key_odor_scores are updated and a new source to be reached is computed\n",
    "                sim.update_odor_scores(source)\n",
    "                sim.update_odor_scores_key(source)\n",
    "                source = sim.choose_odor_exploration()\n",
    "                logging.info(\"new source\", source + 1)\n",
    "                logging.info(sim.odor_scores)\n",
    "                prev_reward = reward\n",
    "        if terminated:\n",
    "            logging.info(\"Out of time\")\n",
    "            logging.info(\"Elapsed time in the simulation\", sim.curr_time)\n",
    "            break\n",
    "        if truncated:\n",
    "            logging.info(\"No food source was reached, simulation is truncated\")\n",
    "            logging.info(\"Elapsed time in the simulation\", sim.curr_time)\n",
    "            break"
   ]
  },
  {
   "cell_type": "code",
   "execution_count": 5,
   "metadata": {},
   "outputs": [
    {
     "name": "stdout",
     "output_type": "stream",
     "text": [
      "[ 0.  0. 15. 15.  0.]\n",
      "{0.32175055439664224: 10, 1.2490457723982544: 20}\n",
      "{0.32175055439664224: 13.0, 0.4048917862850834: 0, 1.0303768265243125: 14.0, 1.2490457723982544: 0}\n"
     ]
    }
   ],
   "source": [
    "# Let's check the confidence level for the fly's memory related to the different sources\n",
    "print(sim.odor_scores)\n",
    "# Let's check the fly's memory\n",
    "print(sim.fly_valence_dictionary)\n",
    "# Let's check the confidence level for the fly's memory related to the different smells\n",
    "print(sim.key_odor_scores)"
   ]
  },
  {
   "cell_type": "code",
   "execution_count": 6,
   "metadata": {},
   "outputs": [],
   "source": [
    "# Choose a name to save both the video and the trajectory\n",
    "name = \"food_source_implementation_2\"\n",
    "path = Path(f\"/home/nmf-learning/flygym-scratch/outputs/plots/{name}\")\n",
    "#os.mkdir(path)"
   ]
  },
  {
   "cell_type": "code",
   "execution_count": 7,
   "metadata": {},
   "outputs": [
    {
     "data": {
      "image/png": "[encoded data removed]",
      "text/plain": [
       "<Figure size 500x400 with 1 Axes>"
      ]
     },
     "metadata": {},
     "output_type": "display_data"
    }
   ],
   "source": [
    "# Plot the trajectory\n",
    "fly_pos_hist = np.array([obs[\"fly\"][0, :2] for obs in obs_hist])\n",
    "fig, ax = plt.subplots(1, 1, figsize=(5, 4), tight_layout=True)\n",
    "color_list = sim.generate_color_plot()\n",
    "for element in range(len(sim.arena.food_sources)):\n",
    "    ax.scatter(\n",
    "        [sim.arena.food_sources[element].position[0]],\n",
    "        [sim.arena.food_sources[element].position[1]],\n",
    "        marker=\"o\",\n",
    "        color=color_list.get(element), \n",
    "        s=50,\n",
    "        label=\"Source\" + str(element+1),\n",
    "    )\n",
    "ax.plot(\n",
    "    fly_pos_hist[:, 0], fly_pos_hist[:, 1], color=\"k\", label=\"Fly trajectory discovery\"\n",
    ")\n",
    "ax.set_aspect(\"equal\")\n",
    "ax.set_xlim(-1, 40)\n",
    "ax.set_ylim(-10, 10)\n",
    "ax.set_xlabel(\"x (mm)\")\n",
    "ax.set_ylabel(\"y (mm)\")\n",
    "ax.legend(ncols=3, loc=\"lower center\", bbox_to_anchor=(0.5, -0.6))\n",
    "fig.savefig(\n",
    "    f\"/home/nmf-learning/flygym-scratch/outputs/plots/{name}/odor_taxis_trajectory.png\"\n",
    ")"
   ]
  },
  {
   "cell_type": "code",
   "execution_count": 8,
   "metadata": {},
   "outputs": [],
   "source": [
    "# save the video\n",
    "sim.save_video(\n",
    "    f\"/home/nmf-learning/flygym-scratch/outputs/plots/{name}/odor_taxis_video_exploration.mp4\"\n",
    ")"
   ]
  },
  {
   "cell_type": "code",
   "execution_count": 3,
   "metadata": {},
   "outputs": [
    {
     "name": "stderr",
     "output_type": "stream",
     "text": [
      "  0%|          | 0/7000 [00:00<?, ?it/s]"
     ]
    },
    {
     "name": "stdout",
     "output_type": "stream",
     "text": [
      "[0 0 0 0]\n"
     ]
    },
    {
     "name": "stderr",
     "output_type": "stream",
     "text": [
      "  0%|          | 1/7000 [00:00<52:22,  2.23it/s]"
     ]
    },
    {
     "name": "stderr",
     "output_type": "stream",
     "text": [
      "  4%|▎         | 250/7000 [01:16<37:20,  3.01it/s]"
     ]
    },
    {
     "name": "stdout",
     "output_type": "stream",
     "text": [
      "{0.32175055439664224: 0, 0.4048917862850834: 0, 1.0303768265243125: 14.0, 1.2490457723982544: 0}\n",
      "17\n",
      "Adding source at pos [15, 17, 1.5] and RGBA [0.90625, 0.296875, 0.93359375, 1]\n"
     ]
    },
    {
     "name": "stderr",
     "output_type": "stream",
     "text": [
      "  4%|▎         | 251/7000 [01:17<1:18:39,  1.43it/s]"
     ]
    },
    {
     "name": "stdout",
     "output_type": "stream",
     "text": [
      "[ 0.  0. 14.  0.  0.]\n"
     ]
    },
    {
     "name": "stderr",
     "output_type": "stream",
     "text": [
      "100%|██████████| 7000/7000 [01:20<00:00, 86.63it/s] \n"
     ]
    }
   ],
   "source": [
    "# In order for the fly to walk around the arena based on its internal state, it must have visited all the sources before\n",
    "if not (sim.all_sources_explored()):\n",
    "    # The fly is respawned\n",
    "    obs, _ = sim.respawn()\n",
    "    # Let the exploration begin\n",
    "    decision_interval = 0.01\n",
    "    run_time = sim.simulation_time / 2\n",
    "    num_decision_steps = int(run_time / decision_interval)\n",
    "    logging.info(\"Number of decision steps: \", num_decision_steps)\n",
    "    physics_steps_per_decision_step = int(decision_interval / sim_params.timestep)\n",
    "    logging.info(\"Physics steps per decision step: \", physics_steps_per_decision_step)\n",
    "\n",
    "    _obs_hist = []\n",
    "    _odor_history = []\n",
    "\n",
    "    # Bool to see if simulation is done\n",
    "    sim_end = False\n",
    "    # Get fly's hunger state\n",
    "    hunger_limits = sim.food_requirements\n",
    "    # To keep track of the previous internal state\n",
    "    prev_int_state = \"\"\n",
    "\n",
    "    prev_reward = None\n",
    "    source = None\n",
    "\n",
    "    # Run simulation\n",
    "    # For each decision step\n",
    "    for i in trange(num_decision_steps):\n",
    "        if not (sim_end):\n",
    "            # Check where the fly's hunger level is at\n",
    "            int_state = sim.compute_internal_state()\n",
    "            # Decide which source to go to based on the internal state\n",
    "            if int_state == \"starving\":\n",
    "                # the fly will reach the closest source\n",
    "                source = sim.compute_closest_source(obs, True)\n",
    "            elif int_state == \"hungry\":\n",
    "                # the fly will reach the smell that has the highest reward\n",
    "                # the fly chooses the closest source of this smell to go to\n",
    "                source = sim.arena.compute_richest_closest_source(obs, True)\n",
    "            else:\n",
    "                if source == None:\n",
    "                    # the fly will decide which source to go to based on its internal table\n",
    "                    source = sim.choose_angle_key_odor_exploration()\n",
    "\n",
    "            control_signal = sim.arena.generate_specific_turning_control(source, sim)\n",
    "            # Make environment step and reward fly if it gets to a food source\n",
    "            for _ in range(physics_steps_per_decision_step):\n",
    "                obs, reward, terminated, truncated, _ = sim.step(\n",
    "                    control_signal, False, True, True\n",
    "                )\n",
    "                rendered_img = sim.render(True)\n",
    "                if rendered_img is not None:\n",
    "                    # record odor intensity too for video\n",
    "                    _odor_history.append(obs[\"odor_intensity\"])\n",
    "                _obs_hist.append(obs)\n",
    "\n",
    "                # If fly gets to food source, simulation does not end\n",
    "                # fly keeps walking based on its internal state\n",
    "                if reward != None:\n",
    "                    if prev_reward != reward:\n",
    "                        # sim_end = True\n",
    "                        # if it has, the sim.odor_scores, sim.key_odor_scores are updated and a new source to be reached is computed\n",
    "                        sim.update_odor_scores_key(source)\n",
    "                        source_reward = sim.compute_closest_source(obs)\n",
    "                        logging.info(\"Fly got to food source\", source_reward)\n",
    "                        logging.info(\"Elapsed time in the simulation\", sim.curr_time)\n",
    "                        prev_reward = reward\n",
    "                        print(reward)\n",
    "                        sim.move_source(source)\n",
    "                        source = None\n",
    "                        #sim.add_source()\n",
    "                        break\n",
    "                    # break\n",
    "                # If fly has no food left, end simulation (death)\n",
    "                # if obs[\"food_stocked\"] < 0:\n",
    "                #    sim_end = True\n",
    "                #    logging.info(\"Fly died\")\n",
    "                #    break\n",
    "\n",
    "                # If simulation should be terminated or truncted, end simulation\n",
    "                if terminated:\n",
    "                    logging.info(\"Out of time\")\n",
    "                    logging.info(\"Elapsed time in the simulation\", sim.curr_time)\n",
    "                    sim_end = True\n",
    "                    break\n",
    "                if truncated:\n",
    "                    logging.info(\"No food source was reached, simulation is truncated\")\n",
    "                    logging.info(\"Elapsed time in the simulation\", sim.curr_time)\n",
    "                    sim_end = True\n",
    "                    break"
   ]
  },
  {
   "cell_type": "code",
   "execution_count": 12,
   "metadata": {},
   "outputs": [
    {
     "data": {
      "image/png": "[encoded data removed]",
      "text/plain": [
       "<Figure size 500x400 with 1 Axes>"
      ]
     },
     "metadata": {},
     "output_type": "display_data"
    }
   ],
   "source": [
    "# Plot the trajectory\n",
    "fly_pos_hist = np.array([obs[\"fly\"][0, :2] for obs in _obs_hist])\n",
    "fig, ax = plt.subplots(1, 1, figsize=(5, 4), tight_layout=True)\n",
    "color_list = sim.generate_color_plot()\n",
    "for element in range(len(sim.arena.food_sources)):\n",
    "    ax.scatter(\n",
    "        [sim.arena.food_sources[element].position[0]],\n",
    "        [sim.arena.food_sources[element].position[1]],\n",
    "        marker=\"o\",\n",
    "        color=color_list.get(element), \n",
    "        s=50,\n",
    "        label=\"Source\" + str(element),\n",
    "    )\n",
    "ax.plot(\n",
    "    fly_pos_hist[:, 0],\n",
    "    fly_pos_hist[:, 1],\n",
    "    color=\"k\",\n",
    "    label=\"Fly trajectory exploration\",\n",
    ")\n",
    "ax.set_aspect(\"equal\")\n",
    "ax.set_xlim(-10, 50)\n",
    "ax.set_ylim(-10, 50)\n",
    "ax.set_xlabel(\"x (mm)\")\n",
    "ax.set_ylabel(\"y (mm)\")\n",
    "ax.legend(ncols=3, loc=\"lower center\", bbox_to_anchor=(0.5, -0.6))\n",
    "fig.savefig(\n",
    "    f\"/home/nmf-learning/flygym-scratch/outputs/plots/{name}/odor_taxis_trajectory_respawn.png\"\n",
    ")"
   ]
  },
  {
   "cell_type": "code",
   "execution_count": null,
   "metadata": {},
   "outputs": [],
   "source": [
    "# Save the video\n",
    "sim.save_video(\n",
    "    f\"/home/nmf-learning/flygym-scratch/outputs/plots/{name}/odor_taxis_video_respawn_internal_state.mp4\"\n",
    ")"
   ]
  },
  {
   "cell_type": "code",
   "execution_count": null,
   "metadata": {},
   "outputs": [],
   "source": [
    "# Plot the trajectory\n",
    "fly_pos_hist = np.array([obs[\"fly\"][0, :2] for obs in obs_hist])\n",
    "_fly_pos_hist = np.array([obs[\"fly\"][0, :2] for obs in _obs_hist])\n",
    "fig, ax = plt.subplots(1, 1, figsize=(5, 4), tight_layout=True)\n",
    "color_list = sim.generate_color_plot()\n",
    "for element in range(len(sim.arena.food_sources)):\n",
    "    ax.scatter(\n",
    "        [sim.arena.food_sources[element].position[0]],\n",
    "        [sim.arena.food_sources[element].position[1]],\n",
    "        marker=\"o\",\n",
    "        color=color_list.get(element), \n",
    "        s=50,\n",
    "        label=\"Source\" + str(element),\n",
    "    )\n",
    "ax.plot(fly_pos_hist[:, 0], fly_pos_hist[:, 1], color=\"k\", label=\"Discovering phase\")\n",
    "ax.plot(_fly_pos_hist[:, 0], _fly_pos_hist[:, 1], color=\"r\", label=\"Exploration phase\")\n",
    "ax.set_aspect(\"equal\")\n",
    "ax.set_xlim(-10, 50)\n",
    "ax.set_ylim(-10, 50)\n",
    "ax.set_xlabel(\"x (mm)\")\n",
    "ax.set_ylabel(\"y (mm)\")\n",
    "ax.legend(ncols=3, loc=\"lower center\", bbox_to_anchor=(0.5, -0.6))\n",
    "fig.savefig(\n",
    "    f\"/home/nmf-learning/flygym-scratch/outputs/plots/{name}/odor_taxis_trajectory_respawn.png\"\n",
    ")"
   ]
  }
 ],
 "metadata": {
  "kernelspec": {
   "display_name": "flygym_env",
   "language": "python",
   "name": "python3"
  },
  "language_info": {
   "codemirror_mode": {
    "name": "ipython",
    "version": 3
   },
   "file_extension": ".py",
   "mimetype": "text/x-python",
   "name": "python",
   "nbconvert_exporter": "python",
   "pygments_lexer": "ipython3",
   "version": "3.11.5"
  }
 },
 "nbformat": 4,
 "nbformat_minor": 2
}

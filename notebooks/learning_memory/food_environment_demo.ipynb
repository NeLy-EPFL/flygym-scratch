{
 "cells": [
  {
   "cell_type": "code",
   "execution_count": 1,
   "metadata": {},
   "outputs": [],
   "source": [
    "from flygym.mujoco.arena.food_sources import FoodSource\n",
    "from flygym.mujoco.arena.food_environment import OdorArenaEnriched\n",
    "import numpy as np\n",
    "import os\n",
    "from pathlib import Path\n",
    "import logging\n",
    "import random\n",
    "from tqdm import trange\n",
    "from flygym.mujoco.arena import OdorArenaEnriched\n",
    "import matplotlib.pyplot as plt\n",
    "from flygym.mujoco import Parameters\n",
    "from flygym.mujoco.examples.turning_controller import HybridTurningNMF\n",
    "\n",
    "def change_rgba(rgba):\n",
    "    temp = []\n",
    "    for i in range(3):\n",
    "        temp.append(rgba[i]/256)\n",
    "    temp.append(rgba[3])\n",
    "    return temp\n",
    "\n",
    "# Odor source: array of shape (num_odor_sources, 3) - xyz coords of odor sources\n",
    "sources = [\n",
    "    FoodSource([24, 0, 1.5], [1, 3], 12, change_rgba([255, 127, 14, 1])),\n",
    "    FoodSource([8, -4, 1.5], [3, 7], 10, change_rgba([31, 119, 180, 1])),\n",
    "    FoodSource([16, 4, 1.5], [2, 6], 10, change_rgba([255, 192, 203, 1])),\n",
    "    FoodSource([12, -8, 1.5], [5, 3], 17, change_rgba([255, 0, 0, 1])),\n",
    "    FoodSource([20, 3, 1.5], [9, 3], 20, change_rgba([0, 255, 0, 1])),\n",
    "]\n",
    "\n",
    "logging.basicConfig(level=logging.INFO)"
   ]
  },
  {
   "cell_type": "code",
   "execution_count": 2,
   "metadata": {},
   "outputs": [],
   "source": [
    "# Set up the arena\n",
    "arena = OdorArenaEnriched(\n",
    "    food_sources=sources,\n",
    "    size=(50, 50),\n",
    "    diffuse_func=lambda x: x**-2,\n",
    "    marker_size=0.3,\n",
    "    key_angle=True,  # we add this boolean so that we compute the key for the valence dictionary by using the angle formed in the complex plane\n",
    ")\n",
    "# Add the NeuroMechFLy\n",
    "contact_sensor_placements = [\n",
    "    f\"{leg}{segment}\"\n",
    "    for leg in [\"LF\", \"LM\", \"LH\", \"RF\", \"RM\", \"RH\"]\n",
    "    for segment in [\"Tibia\", \"Tarsus1\", \"Tarsus2\", \"Tarsus3\", \"Tarsus4\", \"Tarsus5\"]\n",
    "]\n",
    "sim_params = Parameters(\n",
    "    timestep=1e-4,\n",
    "    render_mode=\"saved\",\n",
    "    render_playspeed=0.5,\n",
    "    render_window_size=(800, 608),\n",
    "    enable_olfaction=True,\n",
    "    enable_adhesion=True,\n",
    "    draw_adhesion=False,\n",
    "    render_camera=\"birdeye_cam\",\n",
    ")\n",
    "sim = HybridTurningNMF(\n",
    "    sim_params=sim_params,\n",
    "    arena=arena,\n",
    "    spawn_pos=(0, 0, 0.2),\n",
    "    contact_sensor_placements=contact_sensor_placements,\n",
    "    simulation_time=140,\n",
    ")"
   ]
  },
  {
   "cell_type": "code",
   "execution_count": 3,
   "metadata": {},
   "outputs": [
    {
     "data": {
      "text/plain": [
       "(-0.5, 799.5, 607.5, -0.5)"
      ]
     },
     "execution_count": 3,
     "metadata": {},
     "output_type": "execute_result"
    },
    {
     "data": {
      "image/png": "[encoded data removed]",
      "text/plain": [
       "<Figure size 500x400 with 1 Axes>"
      ]
     },
     "metadata": {},
     "output_type": "display_data"
    }
   ],
   "source": [
    "sim.add_source(FoodSource([15, 10, 1.5], [6, 3], 8, change_rgba([15, 145, 67, 1])))\n",
    "\n",
    "for i in range(1):\n",
    "    sim.step(np.zeros(2))\n",
    "    sim.render()\n",
    "fig, ax = plt.subplots(1, 1, figsize=(5, 4), tight_layout=True)\n",
    "ax.imshow(sim._frames[-1])\n",
    "ax.axis(\"off\")\n",
    "# fig.savefig(\"./outputs/olfaction_env.png\")"
   ]
  },
  {
   "cell_type": "code",
   "execution_count": null,
   "metadata": {},
   "outputs": [
    {
     "name": "stderr",
     "output_type": "stream",
     "text": [
      "  0%|          | 13/4000 [00:09<50:34,  1.31it/s]\n"
     ]
    },
    {
     "ename": "KeyboardInterrupt",
     "evalue": "",
     "output_type": "error",
     "traceback": [
      "\u001b[1;31m---------------------------------------------------------------------------\u001b[0m",
      "\u001b[1;31mKeyboardInterrupt\u001b[0m                         Traceback (most recent call last)",
      "\u001b[1;32mc:\\Users\\Poséidon\\Desktop\\RamdyaProject\\flygym-scratch\\food_environment_demo.ipynb Cell 3\u001b[0m line \u001b[0;36m2\n\u001b[0;32m     <a href='vscode-notebook-cell:/c%3A/Users/Pos%C3%A9idon/Desktop/RamdyaProject/flygym-scratch/food_environment_demo.ipynb#W3sZmlsZQ%3D%3D?line=20'>21</a>\u001b[0m control_signal \u001b[39m=\u001b[39m arena\u001b[39m.\u001b[39mgenerate_specific_turning_control(source, sim)\n\u001b[0;32m     <a href='vscode-notebook-cell:/c%3A/Users/Pos%C3%A9idon/Desktop/RamdyaProject/flygym-scratch/food_environment_demo.ipynb#W3sZmlsZQ%3D%3D?line=21'>22</a>\u001b[0m \u001b[39mfor\u001b[39;00m _ \u001b[39min\u001b[39;00m \u001b[39mrange\u001b[39m(physics_steps_per_decision_step):\n\u001b[1;32m---> <a href='vscode-notebook-cell:/c%3A/Users/Pos%C3%A9idon/Desktop/RamdyaProject/flygym-scratch/food_environment_demo.ipynb#W3sZmlsZQ%3D%3D?line=22'>23</a>\u001b[0m     obs, reward, terminated, truncated, _ \u001b[39m=\u001b[39m sim\u001b[39m.\u001b[39;49mstep(control_signal, \u001b[39mFalse\u001b[39;49;00m, \u001b[39mTrue\u001b[39;49;00m)\n\u001b[0;32m     <a href='vscode-notebook-cell:/c%3A/Users/Pos%C3%A9idon/Desktop/RamdyaProject/flygym-scratch/food_environment_demo.ipynb#W3sZmlsZQ%3D%3D?line=23'>24</a>\u001b[0m     rendered_img \u001b[39m=\u001b[39m sim\u001b[39m.\u001b[39mrender()\n\u001b[0;32m     <a href='vscode-notebook-cell:/c%3A/Users/Pos%C3%A9idon/Desktop/RamdyaProject/flygym-scratch/food_environment_demo.ipynb#W3sZmlsZQ%3D%3D?line=24'>25</a>\u001b[0m     \u001b[39mif\u001b[39;00m rendered_img \u001b[39mis\u001b[39;00m \u001b[39mnot\u001b[39;00m \u001b[39mNone\u001b[39;00m:\n\u001b[0;32m     <a href='vscode-notebook-cell:/c%3A/Users/Pos%C3%A9idon/Desktop/RamdyaProject/flygym-scratch/food_environment_demo.ipynb#W3sZmlsZQ%3D%3D?line=25'>26</a>\u001b[0m         \u001b[39m# record odor intensity too for video\u001b[39;00m\n",
      "File \u001b[1;32mc:\\Users\\Poséidon\\Desktop\\RamdyaProject\\flygym-scratch\\flygym\\mujoco\\examples\\turning_controller.py:256\u001b[0m, in \u001b[0;36mHybridTurningNMF.step\u001b[1;34m(self, action, truncation, angle_key)\u001b[0m\n\u001b[0;32m    250\u001b[0m     adhesion_onoff\u001b[39m.\u001b[39mappend(my_adhesion_onoff)\n\u001b[0;32m    252\u001b[0m action \u001b[39m=\u001b[39m {\n\u001b[0;32m    253\u001b[0m     \u001b[39m\"\u001b[39m\u001b[39mjoints\u001b[39m\u001b[39m\"\u001b[39m: np\u001b[39m.\u001b[39marray(np\u001b[39m.\u001b[39mconcatenate(joints_angles)),\n\u001b[0;32m    254\u001b[0m     \u001b[39m\"\u001b[39m\u001b[39madhesion\u001b[39m\u001b[39m\"\u001b[39m: np\u001b[39m.\u001b[39marray(adhesion_onoff)\u001b[39m.\u001b[39mastype(\u001b[39mint\u001b[39m),\n\u001b[0;32m    255\u001b[0m }\n\u001b[1;32m--> 256\u001b[0m \u001b[39mreturn\u001b[39;00m \u001b[39msuper\u001b[39;49m()\u001b[39m.\u001b[39;49mstep(action, truncation, angle_key)\n",
      "File \u001b[1;32mc:\\Users\\Poséidon\\Desktop\\RamdyaProject\\flygym-scratch\\flygym\\mujoco\\core.py:1373\u001b[0m, in \u001b[0;36mNeuroMechFly.step\u001b[1;34m(self, action, truncation, angle_key)\u001b[0m\n\u001b[0;32m   1371\u001b[0m \u001b[39mself\u001b[39m\u001b[39m.\u001b[39melapsed_time \u001b[39m+\u001b[39m\u001b[39m=\u001b[39m \u001b[39mself\u001b[39m\u001b[39m.\u001b[39mtimestep\n\u001b[0;32m   1372\u001b[0m observation \u001b[39m=\u001b[39m \u001b[39mself\u001b[39m\u001b[39m.\u001b[39mget_observation()\n\u001b[1;32m-> 1373\u001b[0m reward \u001b[39m=\u001b[39m \u001b[39mself\u001b[39;49m\u001b[39m.\u001b[39;49mget_reward(observation, angle_key)\n\u001b[0;32m   1374\u001b[0m terminated \u001b[39m=\u001b[39m \u001b[39mself\u001b[39m\u001b[39m.\u001b[39mis_terminated()\n\u001b[0;32m   1375\u001b[0m truncated \u001b[39m=\u001b[39m \u001b[39mself\u001b[39m\u001b[39m.\u001b[39mis_truncated(observation, truncation)\n",
      "File \u001b[1;32mc:\\Users\\Poséidon\\Desktop\\RamdyaProject\\flygym-scratch\\flygym\\mujoco\\core.py:1877\u001b[0m, in \u001b[0;36mNeuroMechFly.get_reward\u001b[1;34m(self, obs, angle_key)\u001b[0m\n\u001b[0;32m   1857\u001b[0m \u001b[39m\u001b[39m\u001b[39m\"\"\"\u001b[39;00m\n\u001b[0;32m   1858\u001b[0m \u001b[39mGet the reward for the current state of the environment\u001b[39;00m\n\u001b[0;32m   1859\u001b[0m \u001b[39monce the fly is closed enough to the odor source\u001b[39;00m\n\u001b[1;32m   (...)\u001b[0m\n\u001b[0;32m   1872\u001b[0m \u001b[39m    The reward\u001b[39;00m\n\u001b[0;32m   1873\u001b[0m \u001b[39m\"\"\"\u001b[39;00m\n\u001b[0;32m   1875\u001b[0m \u001b[39mfor\u001b[39;00m i \u001b[39min\u001b[39;00m \u001b[39mrange\u001b[39m(\u001b[39mlen\u001b[39m(\u001b[39mself\u001b[39m\u001b[39m.\u001b[39marena\u001b[39m.\u001b[39modor_source)):\n\u001b[0;32m   1876\u001b[0m     \u001b[39m# if fly is within 2mm of the attractive/aversive odor source\u001b[39;00m\n\u001b[1;32m-> 1877\u001b[0m     \u001b[39mif\u001b[39;00m np\u001b[39m.\u001b[39;49mlinalg\u001b[39m.\u001b[39;49mnorm(obs[\u001b[39m\"\u001b[39;49m\u001b[39mfly\u001b[39;49m\u001b[39m\"\u001b[39;49m][\u001b[39m0\u001b[39;49m, :\u001b[39m2\u001b[39;49m] \u001b[39m-\u001b[39;49m \u001b[39mself\u001b[39;49m\u001b[39m.\u001b[39;49marena\u001b[39m.\u001b[39;49modor_source[i, :\u001b[39m2\u001b[39;49m]) \u001b[39m<\u001b[39m \u001b[39m2\u001b[39m:\n\u001b[0;32m   1878\u001b[0m         \u001b[39m# the fly gets the reward\u001b[39;00m\n\u001b[0;32m   1879\u001b[0m         \u001b[39mif\u001b[39;00m angle_key:\n\u001b[0;32m   1880\u001b[0m             smell_key_value \u001b[39m=\u001b[39m \u001b[39mself\u001b[39m\u001b[39m.\u001b[39marena\u001b[39m.\u001b[39mcompute_smell_angle_value(\n\u001b[0;32m   1881\u001b[0m                 \u001b[39mself\u001b[39m\u001b[39m.\u001b[39marena\u001b[39m.\u001b[39mpeak_odor_intensity[i]\n\u001b[0;32m   1882\u001b[0m             )\n",
      "File \u001b[1;32mc:\\Users\\Public\\anaconda3\\envs\\flygym_env\\Lib\\site-packages\\numpy\\linalg\\linalg.py:2379\u001b[0m, in \u001b[0;36m_norm_dispatcher\u001b[1;34m(x, ord, axis, keepdims)\u001b[0m\n\u001b[0;32m   2375\u001b[0m     result \u001b[39m=\u001b[39m op(svd(y, compute_uv\u001b[39m=\u001b[39m\u001b[39mFalse\u001b[39;00m), axis\u001b[39m=\u001b[39m\u001b[39m-\u001b[39m\u001b[39m1\u001b[39m)\n\u001b[0;32m   2376\u001b[0m     \u001b[39mreturn\u001b[39;00m result\n\u001b[1;32m-> 2379\u001b[0m \u001b[39mdef\u001b[39;00m \u001b[39m_norm_dispatcher\u001b[39m(x, \u001b[39mord\u001b[39m\u001b[39m=\u001b[39m\u001b[39mNone\u001b[39;00m, axis\u001b[39m=\u001b[39m\u001b[39mNone\u001b[39;00m, keepdims\u001b[39m=\u001b[39m\u001b[39mNone\u001b[39;00m):\n\u001b[0;32m   2380\u001b[0m     \u001b[39mreturn\u001b[39;00m (x,)\n\u001b[0;32m   2383\u001b[0m \u001b[39m@array_function_dispatch\u001b[39m(_norm_dispatcher)\n\u001b[0;32m   2384\u001b[0m \u001b[39mdef\u001b[39;00m \u001b[39mnorm\u001b[39m(x, \u001b[39mord\u001b[39m\u001b[39m=\u001b[39m\u001b[39mNone\u001b[39;00m, axis\u001b[39m=\u001b[39m\u001b[39mNone\u001b[39;00m, keepdims\u001b[39m=\u001b[39m\u001b[39mFalse\u001b[39;00m):\n",
      "\u001b[1;31mKeyboardInterrupt\u001b[0m: "
     ]
    }
   ],
   "source": [
    "# Let's start the simulation\n",
    "decision_interval = 0.01\n",
    "run_time = 40  # sim.simulation_time / 2\n",
    "num_decision_steps = int(run_time / decision_interval)\n",
    "logging.info(\"Number of decision steps: \", num_decision_steps)\n",
    "physics_steps_per_decision_step = int(decision_interval / sim_params.timestep)\n",
    "logging.info(\"Physics steps per decision step: \", physics_steps_per_decision_step)\n",
    "\n",
    "obs_hist = []\n",
    "odor_history = []\n",
    "obs, _ = sim.reset()\n",
    "\n",
    "# Let's choose the source towards which the fly will walk\n",
    "source = sim.choose_odor_exploration()\n",
    "prev_reward = None\n",
    "logging.info(\"Going to the source \", source + 1)\n",
    "\n",
    "# Let's start the exploration\n",
    "for i in trange(num_decision_steps):\n",
    "    # compute the control signal to go towards the chosen source\n",
    "    control_signal = arena.generate_specific_turning_control(source, sim)\n",
    "    for _ in range(physics_steps_per_decision_step):\n",
    "        obs, reward, terminated, truncated, _ = sim.step(control_signal, False, True)\n",
    "        rendered_img = sim.render()\n",
    "        if rendered_img is not None:\n",
    "            # record odor intensity too for video\n",
    "            odor_history.append(obs[\"odor_intensity\"])\n",
    "        obs_hist.append(obs)\n",
    "\n",
    "        if reward != None:\n",
    "            # let's check if the fly has actually reached a new source\n",
    "            if prev_reward != reward:\n",
    "                print(reward)\n",
    "                # if it has, the sim.odor_scores, sim.key_odor_scores are updated and a new source to be reached is computed\n",
    "                sim.update_odor_scores(source)\n",
    "                sim.update_odor_scores_key(source)\n",
    "                source = sim.choose_odor_exploration()\n",
    "                logging.info(\"new source\", source + 1)\n",
    "                logging.info(sim.odor_scores)\n",
    "                prev_reward = reward\n",
    "        if terminated:\n",
    "            logging.info(\"Out of time\")\n",
    "            logging.info(\"Elapsed time in the simulation\", sim.curr_time)\n",
    "            break\n",
    "        if truncated:\n",
    "            logging.info(\"No food source was reached, simulation is truncated\")\n",
    "            logging.info(\"Elapsed time in the simulation\", sim.curr_time)\n",
    "            break"
   ]
  },
  {
   "cell_type": "code",
   "execution_count": 2,
   "metadata": {},
   "outputs": [
    {
     "ename": "NameError",
     "evalue": "name 'sim' is not defined",
     "output_type": "error",
     "traceback": [
      "\u001b[0;31m---------------------------------------------------------------------------\u001b[0m",
      "\u001b[0;31mNameError\u001b[0m                                 Traceback (most recent call last)",
      "\u001b[1;32m/home/nmf-learning/flygym-scratch/notebooks/learning_memory/food_environment_demo.ipynb Cell 4\u001b[0m line \u001b[0;36m2\n\u001b[1;32m      <a href='vscode-notebook-cell://ssh-remote%2B128.178.197.47/home/nmf-learning/flygym-scratch/notebooks/learning_memory/food_environment_demo.ipynb#W3sdnNjb2RlLXJlbW90ZQ%3D%3D?line=0'>1</a>\u001b[0m \u001b[39m# Let's check the confidence level for the fly's memory related to the different sources\u001b[39;00m\n\u001b[0;32m----> <a href='vscode-notebook-cell://ssh-remote%2B128.178.197.47/home/nmf-learning/flygym-scratch/notebooks/learning_memory/food_environment_demo.ipynb#W3sdnNjb2RlLXJlbW90ZQ%3D%3D?line=1'>2</a>\u001b[0m \u001b[39mprint\u001b[39m(sim\u001b[39m.\u001b[39modor_scores)\n\u001b[1;32m      <a href='vscode-notebook-cell://ssh-remote%2B128.178.197.47/home/nmf-learning/flygym-scratch/notebooks/learning_memory/food_environment_demo.ipynb#W3sdnNjb2RlLXJlbW90ZQ%3D%3D?line=2'>3</a>\u001b[0m \u001b[39m# Let's check the fly's memory\u001b[39;00m\n\u001b[1;32m      <a href='vscode-notebook-cell://ssh-remote%2B128.178.197.47/home/nmf-learning/flygym-scratch/notebooks/learning_memory/food_environment_demo.ipynb#W3sdnNjb2RlLXJlbW90ZQ%3D%3D?line=3'>4</a>\u001b[0m \u001b[39mprint\u001b[39m(sim\u001b[39m.\u001b[39mfly_valence_dictionary)\n",
      "\u001b[0;31mNameError\u001b[0m: name 'sim' is not defined"
     ]
    }
   ],
   "source": [
    "# Let's check the confidence level for the fly's memory related to the different sources\n",
    "print(sim.odor_scores)\n",
    "# Let's check the fly's memory\n",
    "print(sim.fly_valence_dictionary)\n",
    "# Let's check the confidence level for the fly's memory related to the different smells\n",
    "print(sim.key_odor_scores)"
   ]
  },
  {
   "cell_type": "code",
   "execution_count": 27,
   "metadata": {},
   "outputs": [],
   "source": [
    "# Choose a name to save both the video and the trajectory\n",
    "name = \"food_source_implementation\"\n",
    "path = Path(f\"/home/nmf-learning/flygym-scratch/outputs/plots/{name}\")\n",
    "#os.mkdir(path)"
   ]
  },
  {
   "cell_type": "code",
   "execution_count": 28,
   "metadata": {},
   "outputs": [
    {
     "data": {
      "image/png": "[encoded data removed]",
      "text/plain": [
       "<Figure size 500x400 with 1 Axes>"
      ]
     },
     "metadata": {},
     "output_type": "display_data"
    }
   ],
   "source": [
    "# Plot the trajectory\n",
    "fly_pos_hist = np.array([obs[\"fly\"][0, :2] for obs in obs_hist])\n",
    "fig, ax = plt.subplots(1, 1, figsize=(5, 4), tight_layout=True)\n",
    "ax.scatter(\n",
    "    [arena.odor_source[0, 0]],\n",
    "    [arena.odor_source[0, 1]],\n",
    "    marker=\"o\",\n",
    "    color=\"tab:orange\",\n",
    "    s=50,\n",
    "    label=\"Source 1\",\n",
    ")\n",
    "ax.scatter(\n",
    "    [arena.odor_source[1, 0]],\n",
    "    [arena.odor_source[1, 1]],\n",
    "    marker=\"o\",\n",
    "    color=\"tab:blue\",\n",
    "    s=50,\n",
    "    label=\"Source 2\",\n",
    ")\n",
    "ax.scatter(\n",
    "    [arena.odor_source[2, 0]],\n",
    "    [arena.odor_source[2, 1]],\n",
    "    marker=\"o\",\n",
    "    color=\"tab:pink\",\n",
    "    s=50,\n",
    "    label=\"Source 3\",\n",
    ")\n",
    "ax.scatter(\n",
    "    [arena.odor_source[3, 0]],\n",
    "    [arena.odor_source[3, 1]],\n",
    "    marker=\"o\",\n",
    "    color=\"tab:red\",\n",
    "    s=50,\n",
    "    label=\"Source 4\",\n",
    ")\n",
    "ax.scatter(\n",
    "    [arena.odor_source[4, 0]],\n",
    "    [arena.odor_source[4, 1]],\n",
    "    marker=\"o\",\n",
    "    color=\"tab:green\",\n",
    "    s=50,\n",
    "    label=\"Source 5\",\n",
    ")\n",
    "ax.plot(\n",
    "    fly_pos_hist[:, 0], fly_pos_hist[:, 1], color=\"k\", label=\"Fly trajectory discovery\"\n",
    ")\n",
    "ax.set_aspect(\"equal\")\n",
    "ax.set_xlim(-1, 40)\n",
    "ax.set_ylim(-10, 10)\n",
    "ax.set_xlabel(\"x (mm)\")\n",
    "ax.set_ylabel(\"y (mm)\")\n",
    "ax.legend(ncols=3, loc=\"lower center\", bbox_to_anchor=(0.5, -0.6))\n",
    "fig.savefig(\n",
    "    f\"/home/nmf-learning/flygym-scratch/outputs/plots/{name}/odor_taxis_trajectory.png\"\n",
    ")"
   ]
  },
  {
   "cell_type": "code",
   "execution_count": 29,
   "metadata": {},
   "outputs": [],
   "source": [
    "# save the video\n",
    "sim.save_video(\n",
    "    f\"/home/nmf-learning/flygym-scratch/outputs/plots/{name}/odor_taxis_video_exploration.mp4\"\n",
    ")"
   ]
  },
  {
   "cell_type": "code",
   "execution_count": 3,
   "metadata": {},
   "outputs": [
    {
     "data": {
      "text/plain": [
       "{}"
      ]
     },
     "execution_count": 3,
     "metadata": {},
     "output_type": "execute_result"
    }
   ],
   "source": [
    "sim.fly_valence_dictionary"
   ]
  },
  {
   "cell_type": "code",
   "execution_count": 4,
   "metadata": {},
   "outputs": [],
   "source": [
    "def compute_new_valence(peak_intensity_x, peak_intensity_y):\n",
    "    confidence_level = 0\n",
    "    peak_intensity = np.array([peak_intensity_x, peak_intensity_y])\n",
    "    normalized_peak_intensity = arena.normalize_peak_intensity(peak_intensity)\n",
    "    for el in range(len(sim.arena.food_sources)):\n",
    "        normalized_el = arena.normalize_peak_intensity(sim.arena.peak_odor_intensity[el])\n",
    "        angle_rad = np.arccos(np.dot(normalized_el, normalized_peak_intensity))\n",
    "        angle_deg = np.degrees(angle_rad)\n",
    "        cosine = np.cos(angle_deg)\n",
    "        confidence_el = sim.arena.valence_dictionary.get(sim.arena.compute_smell_angle_value(sim.arena.peak_odor_intensity[el]))\n",
    "        confidence_level += confidence_el*cosine\n",
    "    if confidence_level < 0:\n",
    "        confidence_level = 0\n",
    "    return confidence_level\n"
   ]
  },
  {
   "cell_type": "code",
   "execution_count": 5,
   "metadata": {},
   "outputs": [
    {
     "data": {
      "text/plain": [
       "{0.32175055439664224: 10,\n",
       " 0.4048917862850834: 10,\n",
       " 1.0303768265243125: 17,\n",
       " 1.2490457723982544: 20}"
      ]
     },
     "execution_count": 5,
     "metadata": {},
     "output_type": "execute_result"
    }
   ],
   "source": [
    "sim.arena.valence_dictionary"
   ]
  },
  {
   "cell_type": "code",
   "execution_count": 6,
   "metadata": {},
   "outputs": [
    {
     "data": {
      "text/plain": [
       "{}"
      ]
     },
     "execution_count": 6,
     "metadata": {},
     "output_type": "execute_result"
    }
   ],
   "source": [
    "sim.fly_valence_dictionary"
   ]
  },
  {
   "cell_type": "code",
   "execution_count": 7,
   "metadata": {},
   "outputs": [
    {
     "data": {
      "text/plain": [
       "array([[1, 3],\n",
       "       [3, 7],\n",
       "       [2, 6],\n",
       "       [5, 3],\n",
       "       [9, 3]])"
      ]
     },
     "execution_count": 7,
     "metadata": {},
     "output_type": "execute_result"
    }
   ],
   "source": [
    "sim.arena.peak_odor_intensity"
   ]
  },
  {
   "cell_type": "code",
   "execution_count": 9,
   "metadata": {},
   "outputs": [
    {
     "name": "stdout",
     "output_type": "stream",
     "text": [
      "0\n",
      "1\n",
      "2\n",
      "3\n",
      "4\n"
     ]
    },
    {
     "data": {
      "text/plain": [
       "0"
      ]
     },
     "execution_count": 9,
     "metadata": {},
     "output_type": "execute_result"
    }
   ],
   "source": [
    "compute_new_valence(1,9)"
   ]
  },
  {
   "cell_type": "code",
   "execution_count": 10,
   "metadata": {},
   "outputs": [],
   "source": [
    "def add_new_source():\n",
    "    x = random.uniform(0.0, 1.0)\n",
    "    if x > 0:\n",
    "        x_pos, y_pos = np.random.randint(0, 50, 2)\n",
    "        peak_intensity_x, peak_intensity_y = np.random.randint(0, 10, 2)\n",
    "        odor_valence = compute_new_valence(peak_intensity_x, peak_intensity_y)\n",
    "        odor_key = sim.arena.compute_smell_angle_value(np.array([peak_intensity_x, peak_intensity_y]))\n",
    "        new_source = FoodSource([x_pos, y_pos , 1.5], [peak_intensity_x, peak_intensity_y], round(odor_valence))\n",
    "        sim.arena.add_source(new_source)\n",
    "        sim.arena.valence_dictionary[odor_key] = round(odor_valence)\n",
    "        sim.fly_valence_dictionary[odor_key] = round(odor_valence)"
   ]
  },
  {
   "cell_type": "code",
   "execution_count": 19,
   "metadata": {},
   "outputs": [
    {
     "name": "stdout",
     "output_type": "stream",
     "text": [
      "0\n",
      "1\n",
      "2\n",
      "3\n",
      "4\n",
      "5\n",
      "6\n"
     ]
    }
   ],
   "source": [
    "add_new_source()"
   ]
  },
  {
   "cell_type": "code",
   "execution_count": 20,
   "metadata": {},
   "outputs": [
    {
     "data": {
      "text/plain": [
       "8"
      ]
     },
     "execution_count": 20,
     "metadata": {},
     "output_type": "execute_result"
    }
   ],
   "source": [
    "len(sim.arena.food_sources)"
   ]
  },
  {
   "cell_type": "code",
   "execution_count": 21,
   "metadata": {},
   "outputs": [
    {
     "data": {
      "text/plain": [
       "{0.32175055439664224: 10,\n",
       " 0.4048917862850834: 10,\n",
       " 1.0303768265243125: 17,\n",
       " 1.2490457723982544: 20,\n",
       " 0.7853981633974483: 0,\n",
       " 1.1071487177940904: 0,\n",
       " 0.24497866312686414: 4}"
      ]
     },
     "execution_count": 21,
     "metadata": {},
     "output_type": "execute_result"
    }
   ],
   "source": [
    "sim.arena.valence_dictionary"
   ]
  },
  {
   "cell_type": "code",
   "execution_count": 22,
   "metadata": {},
   "outputs": [
    {
     "data": {
      "text/plain": [
       "{0.7853981633974483: 0, 1.1071487177940904: 0, 0.24497866312686414: 4}"
      ]
     },
     "execution_count": 22,
     "metadata": {},
     "output_type": "execute_result"
    }
   ],
   "source": [
    "sim.fly_valence_dictionary"
   ]
  },
  {
   "cell_type": "code",
   "execution_count": 22,
   "metadata": {},
   "outputs": [
    {
     "name": "stdout",
     "output_type": "stream",
     "text": [
      "5.0\n"
     ]
    },
    {
     "name": "stderr",
     "output_type": "stream",
     "text": [
      "100%|██████████| 500/500 [00:00<00:00, 206840.12it/s]\n"
     ]
    }
   ],
   "source": [
    "# In order for the fly to walk around the arena based on its internal state, it must have visited all the sources before\n",
    "if not (sim.all_sources_explored()):\n",
    "    # The fly is respawned\n",
    "    obs, _ = sim.respawn()\n",
    "    # Let the exploration begin\n",
    "    decision_interval = 0.01\n",
    "    run_time = sim.simulation_time / 2\n",
    "    num_decision_steps = int(run_time / decision_interval)\n",
    "    logging.info(\"Number of decision steps: \", num_decision_steps)\n",
    "    physics_steps_per_decision_step = int(decision_interval / sim_params.timestep)\n",
    "    logging.info(\"Physics steps per decision step: \", physics_steps_per_decision_step)\n",
    "\n",
    "    _obs_hist = []\n",
    "    _odor_history = []\n",
    "\n",
    "    # Bool to see if simulation is done\n",
    "    sim_end = False\n",
    "    # Get fly's hunger state\n",
    "    hunger_limits = sim.food_requirements\n",
    "    # To keep track of the previous internal state\n",
    "    prev_int_state = \"\"\n",
    "\n",
    "    prev_reward = None\n",
    "    source = None\n",
    "\n",
    "    # Run simulation\n",
    "    # For each decision step\n",
    "    for i in trange(num_decision_steps):\n",
    "        if not (sim_end):\n",
    "            # Check where the fly's hunger level is at\n",
    "            int_state = sim.compute_internal_state()\n",
    "            # Decide which source to go to based on the internal state\n",
    "            if int_state == \"starving\":\n",
    "                # the fly will reach the closest source\n",
    "                source = sim.compute_closest_source(obs)\n",
    "            elif int_state == \"hungry\":\n",
    "                # the fly will reach the smell that has the highest reward\n",
    "                # the fly chooses the closest source of this smell to go to\n",
    "                source = arena.compute_richest_closest_source(obs)\n",
    "            else:\n",
    "                if source == None:\n",
    "                    # the fly will decide which source to go to based on its internal table\n",
    "                    source = sim.choose_angle_key_odor_exploration()\n",
    "\n",
    "            control_signal = arena.generate_specific_turning_control(source, sim)\n",
    "            # Make environment step and reward fly if it gets to a food source\n",
    "            for _ in range(physics_steps_per_decision_step):\n",
    "                obs, reward, terminated, truncated, _ = sim.step(\n",
    "                    control_signal, False, True\n",
    "                )\n",
    "                rendered_img = sim.render(True)\n",
    "                if rendered_img is not None:\n",
    "                    # record odor intensity too for video\n",
    "                    _odor_history.append(obs[\"odor_intensity\"])\n",
    "                _obs_hist.append(obs)\n",
    "\n",
    "                # If fly gets to food source, simulation does not end\n",
    "                # fly keeps walking based on its internal state\n",
    "                if reward != None:\n",
    "                    if prev_reward != reward:\n",
    "                        # sim_end = True\n",
    "                        # if it has, the sim.odor_scores, sim.key_odor_scores are updated and a new source to be reached is computed\n",
    "                        sim.update_odor_scores_key(source)\n",
    "                        source_reward = sim.compute_closest_source(obs)\n",
    "                        logging.info(\"Fly got to food source\", source_reward)\n",
    "                        logging.info(\"Elapsed time in the simulation\", sim.curr_time)\n",
    "                        prev_reward = reward\n",
    "                        print(reward)\n",
    "                        source = None\n",
    "                        break\n",
    "                    # break\n",
    "                # If fly has no food left, end simulation (death)\n",
    "                # if obs[\"food_stocked\"] < 0:\n",
    "                #    sim_end = True\n",
    "                #    logging.info(\"Fly died\")\n",
    "                #    break\n",
    "\n",
    "                # If simulation should be terminated or truncted, end simulation\n",
    "                if terminated:\n",
    "                    logging.info(\"Out of time\")\n",
    "                    logging.info(\"Elapsed time in the simulation\", sim.curr_time)\n",
    "                    sim_end = True\n",
    "                    break\n",
    "                if truncated:\n",
    "                    logging.info(\"No food source was reached, simulation is truncated\")\n",
    "                    logging.info(\"Elapsed time in the simulation\", sim.curr_time)\n",
    "                    sim_end = True\n",
    "                    break"
   ]
  },
  {
   "cell_type": "code",
   "execution_count": 21,
   "metadata": {},
   "outputs": [
    {
     "data": {
      "image/png": "[encoded data removed]",
      "text/plain": [
       "<Figure size 500x400 with 1 Axes>"
      ]
     },
     "metadata": {},
     "output_type": "display_data"
    }
   ],
   "source": [
    "# Plot the trajectory\n",
    "fly_pos_hist = np.array([obs[\"fly\"][0, :2] for obs in _obs_hist])\n",
    "fig, ax = plt.subplots(1, 1, figsize=(5, 4), tight_layout=True)\n",
    "ax.scatter(\n",
    "    [arena.odor_source[0, 0]],\n",
    "    [arena.odor_source[0, 1]],\n",
    "    marker=\"o\",\n",
    "    color=\"tab:orange\",\n",
    "    s=50,\n",
    "    label=\"Source 1\",\n",
    ")\n",
    "ax.scatter(\n",
    "    [arena.odor_source[1, 0]],\n",
    "    [arena.odor_source[1, 1]],\n",
    "    marker=\"o\",\n",
    "    color=\"tab:blue\",\n",
    "    s=50,\n",
    "    label=\"Source 2\",\n",
    ")\n",
    "ax.scatter(\n",
    "    [arena.odor_source[2, 0]],\n",
    "    [arena.odor_source[2, 1]],\n",
    "    marker=\"o\",\n",
    "    color=\"tab:pink\",\n",
    "    s=50,\n",
    "    label=\"Source 3\",\n",
    ")\n",
    "ax.scatter(\n",
    "    [arena.odor_source[3, 0]],\n",
    "    [arena.odor_source[3, 1]],\n",
    "    marker=\"o\",\n",
    "    color=\"tab:red\",\n",
    "    s=50,\n",
    "    label=\"Source 4\",\n",
    ")\n",
    "ax.scatter(\n",
    "    [arena.odor_source[4, 0]],\n",
    "    [arena.odor_source[4, 1]],\n",
    "    marker=\"o\",\n",
    "    color=\"tab:green\",\n",
    "    s=50,\n",
    "    label=\"Source 5\",\n",
    ")\n",
    "ax.plot(\n",
    "    fly_pos_hist[:, 0],\n",
    "    fly_pos_hist[:, 1],\n",
    "    color=\"k\",\n",
    "    label=\"Fly trajectory exploration\",\n",
    ")\n",
    "ax.set_aspect(\"equal\")\n",
    "ax.set_xlim(-1, 40)\n",
    "ax.set_ylim(-10, 10)\n",
    "ax.set_xlabel(\"x (mm)\")\n",
    "ax.set_ylabel(\"y (mm)\")\n",
    "ax.legend(ncols=3, loc=\"lower center\", bbox_to_anchor=(0.5, -0.6))\n",
    "fig.savefig(\n",
    "    f\"/home/nmf-learning/flygym-scratch/outputs/plots/{name}/odor_taxis_trajectory_respawn.png\"\n",
    ")"
   ]
  },
  {
   "cell_type": "code",
   "execution_count": null,
   "metadata": {},
   "outputs": [],
   "source": [
    "# Save the video\n",
    "sim.save_video(\n",
    "    f\"/home/nmf-learning/flygym-scratch/outputs/plots/{name}/odor_taxis_video_respawn_internal_state.mp4\"\n",
    ")"
   ]
  },
  {
   "cell_type": "code",
   "execution_count": null,
   "metadata": {},
   "outputs": [],
   "source": [
    "# Plot the trajectory\n",
    "fly_pos_hist = np.array([obs[\"fly\"][0, :2] for obs in obs_hist])\n",
    "_fly_pos_hist = np.array([obs[\"fly\"][0, :2] for obs in _obs_hist])\n",
    "fig, ax = plt.subplots(1, 1, figsize=(5, 4), tight_layout=True)\n",
    "ax.scatter(\n",
    "    [arena.odor_source[0, 0]],\n",
    "    [arena.odor_source[0, 1]],\n",
    "    marker=\"o\",\n",
    "    color=\"tab:orange\",\n",
    "    s=50,\n",
    "    label=\"Source 1\",\n",
    ")\n",
    "ax.scatter(\n",
    "    [arena.odor_source[1, 0]],\n",
    "    [arena.odor_source[1, 1]],\n",
    "    marker=\"o\",\n",
    "    color=\"tab:blue\",\n",
    "    s=50,\n",
    "    label=\"Source 2\",\n",
    ")\n",
    "ax.scatter(\n",
    "    [arena.odor_source[2, 0]],\n",
    "    [arena.odor_source[2, 1]],\n",
    "    marker=\"o\",\n",
    "    color=\"tab:pink\",\n",
    "    s=50,\n",
    "    label=\"Source 3\",\n",
    ")\n",
    "ax.scatter(\n",
    "    [arena.odor_source[3, 0]],\n",
    "    [arena.odor_source[3, 1]],\n",
    "    marker=\"o\",\n",
    "    color=\"tab:red\",\n",
    "    s=50,\n",
    "    label=\"Source 4\",\n",
    ")\n",
    "ax.scatter(\n",
    "    [arena.odor_source[4, 0]],\n",
    "    [arena.odor_source[4, 1]],\n",
    "    marker=\"o\",\n",
    "    color=\"tab:green\",\n",
    "    s=50,\n",
    "    label=\"Source 5\",\n",
    ")\n",
    "ax.plot(fly_pos_hist[:, 0], fly_pos_hist[:, 1], color=\"k\", label=\"Discovering phase\")\n",
    "ax.plot(_fly_pos_hist[:, 0], _fly_pos_hist[:, 1], color=\"r\", label=\"Exploration phase\")\n",
    "ax.set_aspect(\"equal\")\n",
    "ax.set_xlim(-1, 40)\n",
    "ax.set_ylim(-10, 10)\n",
    "ax.set_xlabel(\"x (mm)\")\n",
    "ax.set_ylabel(\"y (mm)\")\n",
    "ax.legend(ncols=3, loc=\"lower center\", bbox_to_anchor=(0.5, -0.6))\n",
    "fig.savefig(\n",
    "    f\"/home/nmf-learning/flygym-scratch/outputs/plots/{name}/odor_taxis_trajectory_respawn.png\"\n",
    ")"
   ]
  }
 ],
 "metadata": {
  "kernelspec": {
   "display_name": "flygym_env",
   "language": "python",
   "name": "python3"
  },
  "language_info": {
   "codemirror_mode": {
    "name": "ipython",
    "version": 3
   },
   "file_extension": ".py",
   "mimetype": "text/x-python",
   "name": "python",
   "nbconvert_exporter": "python",
   "pygments_lexer": "ipython3",
   "version": "3.11.5"
  }
 },
 "nbformat": 4,
 "nbformat_minor": 2
}

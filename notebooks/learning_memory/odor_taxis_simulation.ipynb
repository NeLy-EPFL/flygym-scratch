{
 "cells": [
  {
   "cell_type": "markdown",
   "metadata": {},
   "source": [
    "In this notebook, we implement a more automatic simulation for the fly. After setting up all what is needed, the simulation is launched and it will end once the time allowed for the simulation has passed. The trajectory of the fly is later plotted."
   ]
  },
  {
   "cell_type": "code",
   "execution_count": 5,
   "metadata": {},
   "outputs": [],
   "source": [
    "import numpy as np\n",
    "import os\n",
    "from pathlib import Path\n",
    "import logging\n",
    "from flygym.mujoco.arena import OdorArena\n",
    "import matplotlib.pyplot as plt\n",
    "from flygym.mujoco import Parameters\n",
    "from flygym.mujoco.examples.turning_controller import HybridTurningNMF\n",
    "\n",
    "# Odor source: array of shape (num_odor_sources, 3) - xyz coords of odor sources\n",
    "odor_source = np.array([[24, 0, 1.5], [8, -4, 1.5]])  # , [16, 4, 1.5]])\n",
    "\n",
    "# Peak intensities: array of shape (num_odor_sources, odor_dimesions)\n",
    "# For each odor source, if the intensity is (x, 0) then the odor is in the 1st dimension\n",
    "# (in this case attractive). If it's (0, x) then it's in the 2nd dimension (in this case\n",
    "# aversive)\n",
    "peak_intensity = np.array([[1, 0], [0, 1]])  # , [0, 1]])\n",
    "\n",
    "odor_dimesions = len(peak_intensity[0])\n",
    "\n",
    "# The reward assigned to each source\n",
    "odor_valence = [10, 2]\n",
    "\n",
    "logging.basicConfig(level=logging.INFO)"
   ]
  },
  {
   "cell_type": "code",
   "execution_count": 6,
   "metadata": {},
   "outputs": [],
   "source": [
    "# Set up the arena\n",
    "arena = OdorArena(\n",
    "    odor_source=odor_source,\n",
    "    peak_intensity=peak_intensity,\n",
    "    odor_valence=odor_valence,\n",
    "    diffuse_func=lambda x: x**-2,\n",
    "    marker_size=0.3,\n",
    ")"
   ]
  },
  {
   "cell_type": "code",
   "execution_count": 7,
   "metadata": {},
   "outputs": [
    {
     "data": {
      "text/plain": [
       "(-0.5, 799.5, 607.5, -0.5)"
      ]
     },
     "execution_count": 7,
     "metadata": {},
     "output_type": "execute_result"
    },
    {
     "data": {
      "image/png": "[encoded data removed]",
      "text/plain": [
       "<Figure size 500x400 with 1 Axes>"
      ]
     },
     "metadata": {},
     "output_type": "display_data"
    }
   ],
   "source": [
    "# Add the NeuroMechFly\n",
    "contact_sensor_placements = [\n",
    "    f\"{leg}{segment}\"\n",
    "    for leg in [\"LF\", \"LM\", \"LH\", \"RF\", \"RM\", \"RH\"]\n",
    "    for segment in [\"Tibia\", \"Tarsus1\", \"Tarsus2\", \"Tarsus3\", \"Tarsus4\", \"Tarsus5\"]\n",
    "]\n",
    "sim_params = Parameters(\n",
    "    timestep=1e-4,\n",
    "    render_mode=\"saved\",\n",
    "    render_playspeed=0.5,\n",
    "    render_window_size=(800, 608),\n",
    "    enable_olfaction=True,\n",
    "    enable_adhesion=True,\n",
    "    draw_adhesion=False,\n",
    "    render_camera=\"birdeye_cam\",\n",
    ")\n",
    "sim = HybridTurningNMF(\n",
    "    sim_params=sim_params,\n",
    "    arena=arena,\n",
    "    spawn_pos=(0, 0, 0.2),\n",
    "    contact_sensor_placements=contact_sensor_placements,\n",
    "    simulation_time=10,\n",
    ")\n",
    "for i in range(1):\n",
    "    sim.step(np.zeros(2))\n",
    "    sim.render()\n",
    "fig, ax = plt.subplots(1, 1, figsize=(5, 4), tight_layout=True)\n",
    "ax.imshow(sim._frames[-1])\n",
    "ax.axis(\"off\")\n",
    "#fig.savefig(\"./outputs/olfaction_env.png\")"
   ]
  },
  {
   "cell_type": "code",
   "execution_count": 8,
   "metadata": {},
   "outputs": [
    {
     "name": "stdout",
     "output_type": "stream",
     "text": [
      "0.0001\n"
     ]
    }
   ],
   "source": [
    "# Print the actual time before the start of the simulation\n",
    "print(sim.curr_time)"
   ]
  },
  {
   "cell_type": "code",
   "execution_count": 9,
   "metadata": {},
   "outputs": [],
   "source": [
    "# Set up for the simulation\n",
    "decision_interval = 0.05\n",
    "run_time = sim.simulation_time\n",
    "num_decision_steps = int(run_time / decision_interval)\n",
    "physics_steps_per_decision_step = int(decision_interval / sim_params.timestep)\n",
    "\n",
    "obs_hist = []\n",
    "odor_history = []\n",
    "obs, _ = sim.reset()"
   ]
  },
  {
   "cell_type": "code",
   "execution_count": 10,
   "metadata": {},
   "outputs": [
    {
     "name": "stderr",
     "output_type": "stream",
     "text": [
      " 65%|██████▌   | 130/200 [03:06<01:40,  1.44s/it]\n",
      " 17%|█▋        | 34/200 [03:55<19:09,  6.92s/it]\n"
     ]
    },
    {
     "ename": "TypeError",
     "evalue": "cannot unpack non-iterable NoneType object",
     "output_type": "error",
     "traceback": [
      "\u001b[0;31m---------------------------------------------------------------------------\u001b[0m",
      "\u001b[0;31mTypeError\u001b[0m                                 Traceback (most recent call last)",
      "\u001b[1;32m/home/nmf-learning/flygym-scratch/notebooks/learning_memory/odor_taxis_simulation.ipynb Cell 7\u001b[0m line \u001b[0;36m2\n\u001b[1;32m      <a href='vscode-notebook-cell://ssh-remote%2B128.178.197.47/home/nmf-learning/flygym-scratch/notebooks/learning_memory/odor_taxis_simulation.ipynb#W6sdnNjb2RlLXJlbW90ZQ%3D%3D?line=0'>1</a>\u001b[0m \u001b[39m# Actual simulation\u001b[39;00m\n\u001b[0;32m----> <a href='vscode-notebook-cell://ssh-remote%2B128.178.197.47/home/nmf-learning/flygym-scratch/notebooks/learning_memory/odor_taxis_simulation.ipynb#W6sdnNjb2RlLXJlbW90ZQ%3D%3D?line=1'>2</a>\u001b[0m obs_hist \u001b[39m=\u001b[39m arena\u001b[39m.\u001b[39;49mrun_odor_taxis_simulation(\n\u001b[1;32m      <a href='vscode-notebook-cell://ssh-remote%2B128.178.197.47/home/nmf-learning/flygym-scratch/notebooks/learning_memory/odor_taxis_simulation.ipynb#W6sdnNjb2RlLXJlbW90ZQ%3D%3D?line=2'>3</a>\u001b[0m     sim,\n\u001b[1;32m      <a href='vscode-notebook-cell://ssh-remote%2B128.178.197.47/home/nmf-learning/flygym-scratch/notebooks/learning_memory/odor_taxis_simulation.ipynb#W6sdnNjb2RlLXJlbW90ZQ%3D%3D?line=3'>4</a>\u001b[0m     num_decision_steps,\n\u001b[1;32m      <a href='vscode-notebook-cell://ssh-remote%2B128.178.197.47/home/nmf-learning/flygym-scratch/notebooks/learning_memory/odor_taxis_simulation.ipynb#W6sdnNjb2RlLXJlbW90ZQ%3D%3D?line=4'>5</a>\u001b[0m     obs,\n\u001b[1;32m      <a href='vscode-notebook-cell://ssh-remote%2B128.178.197.47/home/nmf-learning/flygym-scratch/notebooks/learning_memory/odor_taxis_simulation.ipynb#W6sdnNjb2RlLXJlbW90ZQ%3D%3D?line=5'>6</a>\u001b[0m     physics_steps_per_decision_step,\n\u001b[1;32m      <a href='vscode-notebook-cell://ssh-remote%2B128.178.197.47/home/nmf-learning/flygym-scratch/notebooks/learning_memory/odor_taxis_simulation.ipynb#W6sdnNjb2RlLXJlbW90ZQ%3D%3D?line=6'>7</a>\u001b[0m     obs_hist,\n\u001b[1;32m      <a href='vscode-notebook-cell://ssh-remote%2B128.178.197.47/home/nmf-learning/flygym-scratch/notebooks/learning_memory/odor_taxis_simulation.ipynb#W6sdnNjb2RlLXJlbW90ZQ%3D%3D?line=7'>8</a>\u001b[0m     odor_history,\n\u001b[1;32m      <a href='vscode-notebook-cell://ssh-remote%2B128.178.197.47/home/nmf-learning/flygym-scratch/notebooks/learning_memory/odor_taxis_simulation.ipynb#W6sdnNjb2RlLXJlbW90ZQ%3D%3D?line=8'>9</a>\u001b[0m )\n",
      "File \u001b[0;32m~/flygym-scratch/flygym/mujoco/arena/sensory_environment.py:500\u001b[0m, in \u001b[0;36mOdorArena.run_odor_taxis_simulation\u001b[0;34m(self, sim, num_decision_steps, obs, physics_steps_per_decision_step, odor_history, obs_hist)\u001b[0m\n\u001b[1;32m    498\u001b[0m     _, _ \u001b[39m=\u001b[39m sim\u001b[39m.\u001b[39mrespawn()\n\u001b[1;32m    499\u001b[0m     logging\u001b[39m.\u001b[39minfo(\u001b[39m\"\u001b[39m\u001b[39mElapsed time in the simulation\u001b[39m\u001b[39m\"\u001b[39m, sim\u001b[39m.\u001b[39mcurr_time)\n\u001b[0;32m--> 500\u001b[0m     \u001b[39mself\u001b[39;49m\u001b[39m.\u001b[39;49mrun_odor_taxis_simulation(\n\u001b[1;32m    501\u001b[0m         sim,\n\u001b[1;32m    502\u001b[0m         num_decision_steps,\n\u001b[1;32m    503\u001b[0m         obs,\n\u001b[1;32m    504\u001b[0m         physics_steps_per_decision_step,\n\u001b[1;32m    505\u001b[0m         odor_history,\n\u001b[1;32m    506\u001b[0m         obs_hist,\n\u001b[1;32m    507\u001b[0m     )\n\u001b[1;32m    508\u001b[0m \u001b[39mif\u001b[39;00m terminated:\n\u001b[1;32m    509\u001b[0m     logging\u001b[39m.\u001b[39minfo(\u001b[39m\"\u001b[39m\u001b[39mOut of time\u001b[39m\u001b[39m\"\u001b[39m)\n",
      "File \u001b[0;32m~/flygym-scratch/flygym/mujoco/arena/sensory_environment.py:500\u001b[0m, in \u001b[0;36mOdorArena.run_odor_taxis_simulation\u001b[0;34m(self, sim, num_decision_steps, obs, physics_steps_per_decision_step, odor_history, obs_hist)\u001b[0m\n\u001b[1;32m    498\u001b[0m     _, _ \u001b[39m=\u001b[39m sim\u001b[39m.\u001b[39mrespawn()\n\u001b[1;32m    499\u001b[0m     logging\u001b[39m.\u001b[39minfo(\u001b[39m\"\u001b[39m\u001b[39mElapsed time in the simulation\u001b[39m\u001b[39m\"\u001b[39m, sim\u001b[39m.\u001b[39mcurr_time)\n\u001b[0;32m--> 500\u001b[0m     \u001b[39mself\u001b[39;49m\u001b[39m.\u001b[39;49mrun_odor_taxis_simulation(\n\u001b[1;32m    501\u001b[0m         sim,\n\u001b[1;32m    502\u001b[0m         num_decision_steps,\n\u001b[1;32m    503\u001b[0m         obs,\n\u001b[1;32m    504\u001b[0m         physics_steps_per_decision_step,\n\u001b[1;32m    505\u001b[0m         odor_history,\n\u001b[1;32m    506\u001b[0m         obs_hist,\n\u001b[1;32m    507\u001b[0m     )\n\u001b[1;32m    508\u001b[0m \u001b[39mif\u001b[39;00m terminated:\n\u001b[1;32m    509\u001b[0m     logging\u001b[39m.\u001b[39minfo(\u001b[39m\"\u001b[39m\u001b[39mOut of time\u001b[39m\u001b[39m\"\u001b[39m)\n",
      "File \u001b[0;32m~/flygym-scratch/flygym/mujoco/arena/sensory_environment.py:462\u001b[0m, in \u001b[0;36mOdorArena.run_odor_taxis_simulation\u001b[0;34m(self, sim, num_decision_steps, obs, physics_steps_per_decision_step, odor_history, obs_hist)\u001b[0m\n\u001b[1;32m    460\u001b[0m     attractive_gain, aversive_gain \u001b[39m=\u001b[39m \u001b[39mself\u001b[39m\u001b[39m.\u001b[39mgenerate_random_gains(\u001b[39mTrue\u001b[39;00m)\n\u001b[1;32m    461\u001b[0m \u001b[39melse\u001b[39;00m:\n\u001b[0;32m--> 462\u001b[0m     attractive_gain, aversive_gain \u001b[39m=\u001b[39m \u001b[39mself\u001b[39m\u001b[39m.\u001b[39mgenerate_random_gains(\u001b[39mFalse\u001b[39;00m)\n\u001b[1;32m    463\u001b[0m \u001b[39mfor\u001b[39;00m _ \u001b[39min\u001b[39;00m trange(num_decision_steps):\n\u001b[1;32m    464\u001b[0m     attractive_intensities \u001b[39m=\u001b[39m np\u001b[39m.\u001b[39maverage(\n\u001b[1;32m    465\u001b[0m         obs[\u001b[39m\"\u001b[39m\u001b[39modor_intensity\u001b[39m\u001b[39m\"\u001b[39m][\u001b[39m0\u001b[39m, :]\u001b[39m.\u001b[39mreshape(\u001b[39m2\u001b[39m, \u001b[39m2\u001b[39m), axis\u001b[39m=\u001b[39m\u001b[39m0\u001b[39m, weights\u001b[39m=\u001b[39m[\u001b[39m9\u001b[39m, \u001b[39m1\u001b[39m]\n\u001b[1;32m    466\u001b[0m     )\n",
      "\u001b[0;31mTypeError\u001b[0m: cannot unpack non-iterable NoneType object"
     ]
    }
   ],
   "source": [
    "# Actual simulation\n",
    "obs_hist = arena.run_odor_taxis_simulation(\n",
    "    sim,\n",
    "    num_decision_steps,\n",
    "    obs,\n",
    "    physics_steps_per_decision_step,\n",
    "    obs_hist,\n",
    "    odor_history,\n",
    ")"
   ]
  },
  {
   "cell_type": "code",
   "execution_count": null,
   "metadata": {},
   "outputs": [],
   "source": [
    "# Choose a name to save both the video and the trajectory\n",
    "name = \"random_simulation\"\n",
    "path = Path(f\"/home/nmf-learning/flygym-scratch/outputs/plots/{name}\")\n",
    "os.mkdir(path)"
   ]
  },
  {
   "cell_type": "code",
   "execution_count": null,
   "metadata": {},
   "outputs": [],
   "source": [
    "# Plot the fly trajectory\n",
    "fly_pos_hist = np.array([obs[\"fly\"][0, :2] for obs in obs_hist])\n",
    "fig, ax = plt.subplots(1, 1, figsize=(5, 4), tight_layout=True)\n",
    "ax.scatter(\n",
    "    [odor_source[0, 0]],\n",
    "    [odor_source[0, 1]],\n",
    "    marker=\"o\",\n",
    "    color=\"tab:orange\",\n",
    "    s=50,\n",
    "    label=\"Attractive\",\n",
    ")\n",
    "ax.scatter(\n",
    "    [odor_source[1, 0]],\n",
    "    [odor_source[1, 1]],\n",
    "    marker=\"o\",\n",
    "    color=\"tab:blue\",\n",
    "    s=50,\n",
    "    label=\"Aversive\",\n",
    ")\n",
    "# ax.scatter([odor_source[2, 0]], [odor_source[2, 1]], marker=\"o\", color=\"tab:blue\", s=50)\n",
    "ax.plot(fly_pos_hist[:, 0], fly_pos_hist[:, 1], color=\"k\", label=\"Fly trajectory\")\n",
    "ax.set_aspect(\"equal\")\n",
    "ax.set_xlim(-1, 40)\n",
    "ax.set_ylim(-10, 10)\n",
    "ax.set_xlabel(\"x (mm)\")\n",
    "ax.set_ylabel(\"y (mm)\")\n",
    "ax.legend(ncols=3, loc=\"lower center\", bbox_to_anchor=(0.5, -0.6))\n",
    "# save the trajectory\n",
    "fig.savefig(f\"/home/nmf-learning/flygym-scratch/outputs/plots/{name}/odor_taxis_trajectory.png\")"
   ]
  },
  {
   "cell_type": "code",
   "execution_count": null,
   "metadata": {},
   "outputs": [],
   "source": [
    "# Save the video\n",
    "sim.save_video(f\"/home/nmf-learning/flygym-scratch/outputs/plots/{name}/odor_taxis_video.mp4\"\n",
    ")"
   ]
  }
 ],
 "metadata": {
  "kernelspec": {
   "display_name": "nmf",
   "language": "python",
   "name": "python3"
  },
  "language_info": {
   "codemirror_mode": {
    "name": "ipython",
    "version": 3
   },
   "file_extension": ".py",
   "mimetype": "text/x-python",
   "name": "python",
   "nbconvert_exporter": "python",
   "pygments_lexer": "ipython3",
   "version": "3.11.5"
  }
 },
 "nbformat": 4,
 "nbformat_minor": 2
}
